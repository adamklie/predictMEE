{
 "cells": [
  {
   "cell_type": "markdown",
   "metadata": {
    "toc": true
   },
   "source": [
    "<h1>Table of Contents<span class=\"tocSkip\"></span></h1>\n",
    "<div class=\"toc\"><ul class=\"toc-item\"><li><span><a href=\"#SRA-BioSample-data-landscape\" data-toc-modified-id=\"SRA-BioSample-data-landscape-1\"><span class=\"toc-item-num\">1&nbsp;&nbsp;</span>SRA BioSample data landscape</a></span><ul class=\"toc-item\"><li><span><a href=\"#Set-up\" data-toc-modified-id=\"Set-up-1.1\"><span class=\"toc-item-num\">1.1&nbsp;&nbsp;</span>Set-up</a></span><ul class=\"toc-item\"><li><span><a href=\"#Import-needed-packages-and-set-up-plotting\" data-toc-modified-id=\"Import-needed-packages-and-set-up-plotting-1.1.1\"><span class=\"toc-item-num\">1.1.1&nbsp;&nbsp;</span>Import needed packages and set up plotting</a></span></li><li><span><a href=\"#Helper-Functions-to-find-and-plot-counts-and-coverage\" data-toc-modified-id=\"Helper-Functions-to-find-and-plot-counts-and-coverage-1.1.2\"><span class=\"toc-item-num\">1.1.2&nbsp;&nbsp;</span>Helper Functions to find and plot counts and coverage</a></span></li></ul></li><li><span><a href=\"#Read-in-downloaded-SRA-BioSample-key-value-pairs-and-NCBI-defined-attributes\" data-toc-modified-id=\"Read-in-downloaded-SRA-BioSample-key-value-pairs-and-NCBI-defined-attributes-1.2\"><span class=\"toc-item-num\">1.2&nbsp;&nbsp;</span>Read in downloaded SRA BioSample key-value pairs and NCBI defined attributes</a></span><ul class=\"toc-item\"><li><span><a href=\"#Load-full-dataset-and-attribute-descriptions\" data-toc-modified-id=\"Load-full-dataset-and-attribute-descriptions-1.2.1\"><span class=\"toc-item-num\">1.2.1&nbsp;&nbsp;</span>Load full dataset and attribute descriptions</a></span></li><li><span><a href=\"#(Optional)-Subset-the-dataframe-for-human-samples\" data-toc-modified-id=\"(Optional)-Subset-the-dataframe-for-human-samples-1.2.2\"><span class=\"toc-item-num\">1.2.2&nbsp;&nbsp;</span>(Optional) Subset the dataframe for human samples</a></span></li><li><span><a href=\"#(Optional)-Subset-the-series-for-those-samples-that-have-a-title\" data-toc-modified-id=\"(Optional)-Subset-the-series-for-those-samples-that-have-a-title-1.2.3\"><span class=\"toc-item-num\">1.2.3&nbsp;&nbsp;</span>(Optional) Subset the series for those samples that have a title</a></span></li><li><span><a href=\"#Build-a-dataframe-to-aid-with-analysis-chosen-dataset\" data-toc-modified-id=\"Build-a-dataframe-to-aid-with-analysis-chosen-dataset-1.2.4\"><span class=\"toc-item-num\">1.2.4&nbsp;&nbsp;</span>Build a dataframe to aid with analysis chosen dataset</a></span></li></ul></li><li><span><a href=\"#Overall-data-landscape\" data-toc-modified-id=\"Overall-data-landscape-1.3\"><span class=\"toc-item-num\">1.3&nbsp;&nbsp;</span>Overall data landscape</a></span><ul class=\"toc-item\"><li><span><a href=\"#Figure-2A:-Example-data\" data-toc-modified-id=\"Figure-2A:-Example-data-1.3.1\"><span class=\"toc-item-num\">1.3.1&nbsp;&nbsp;</span><font color=\"red\">Figure 2A:</font> Example data</a></span></li><li><span><a href=\"#Find-the-total-number-of-annotations-and-of-samples-with-annotations\" data-toc-modified-id=\"Find-the-total-number-of-annotations-and-of-samples-with-annotations-1.3.2\"><span class=\"toc-item-num\">1.3.2&nbsp;&nbsp;</span>Find the total number of annotations and of samples with annotations</a></span></li><li><span><a href=\"#Compare-counts-of-attributes-defined-by-NCBI-to-the-user-defined\" data-toc-modified-id=\"Compare-counts-of-attributes-defined-by-NCBI-to-the-user-defined-1.3.3\"><span class=\"toc-item-num\">1.3.3&nbsp;&nbsp;</span>Compare counts of attributes defined by NCBI to the user-defined</a></span></li><li><span><a href=\"#Determine-the-coverage-of-different-attributes\" data-toc-modified-id=\"Determine-the-coverage-of-different-attributes-1.3.4\"><span class=\"toc-item-num\">1.3.4&nbsp;&nbsp;</span>Determine the coverage of different attributes</a></span><ul class=\"toc-item\"><li><span><a href=\"#Remove-duplicate-values-for-a-single-sample-when-looking-at-coverage-of-samples\" data-toc-modified-id=\"Remove-duplicate-values-for-a-single-sample-when-looking-at-coverage-of-samples-1.3.4.1\"><span class=\"toc-item-num\">1.3.4.1&nbsp;&nbsp;</span>Remove duplicate values for a single sample when looking at coverage of samples</a></span></li><li><span><a href=\"#(Optional)-Normailze-at-all-for-sake-of-exploring-issue-with-coverage-of-BioSample-defined-attributes\" data-toc-modified-id=\"(Optional)-Normailze-at-all-for-sake-of-exploring-issue-with-coverage-of-BioSample-defined-attributes-1.3.4.2\"><span class=\"toc-item-num\">1.3.4.2&nbsp;&nbsp;</span>(Optional) Normailze at all for sake of exploring issue with coverage of BioSample defined attributes</a></span></li><li><span><a href=\"#Figure-2B:-Coverage-of-most-used-attributes\" data-toc-modified-id=\"Figure-2B:-Coverage-of-most-used-attributes-1.3.4.3\"><span class=\"toc-item-num\">1.3.4.3&nbsp;&nbsp;</span><font color=\"red\">Figure 2B:</font> Coverage of most used attributes</a></span></li><li><span><a href=\"#Coverage-of-NCBI-attributes\" data-toc-modified-id=\"Coverage-of-NCBI-attributes-1.3.4.4\"><span class=\"toc-item-num\">1.3.4.4&nbsp;&nbsp;</span>Coverage of NCBI attributes</a></span></li><li><span><a href=\"#Figure-2C:-Coverage-of-11-classes\" data-toc-modified-id=\"Figure-2C:-Coverage-of-11-classes-1.3.4.5\"><span class=\"toc-item-num\">1.3.4.5&nbsp;&nbsp;</span><font color=\"red\">Figure 2C:</font> Coverage of 11 classes</a></span></li></ul></li></ul></li><li><span><a href=\"#Figure-2D:-Attribute-word-length-and-total-characters\" data-toc-modified-id=\"Figure-2D:-Attribute-word-length-and-total-characters-1.4\"><span class=\"toc-item-num\">1.4&nbsp;&nbsp;</span><font color=\"red\">Figure 2D:</font> Attribute word length and total characters</a></span></li><li><span><a href=\"#Analyze-high-frequency-tokens\" data-toc-modified-id=\"Analyze-high-frequency-tokens-1.5\"><span class=\"toc-item-num\">1.5&nbsp;&nbsp;</span>Analyze high frequency tokens</a></span></li></ul></li></ul></div>"
   ]
  },
  {
   "cell_type": "markdown",
   "metadata": {},
   "source": [
    "# SRA BioSample data landscape\n",
    "Adam Klie<br>\n",
    "10/17/2019<br>\n",
    "Script to analyze the metadata landscape of BioSample entries in SRA"
   ]
  },
  {
   "cell_type": "markdown",
   "metadata": {},
   "source": [
    "## Set-up"
   ]
  },
  {
   "cell_type": "markdown",
   "metadata": {},
   "source": [
    "### Import needed packages and set up plotting"
   ]
  },
  {
   "cell_type": "code",
   "execution_count": 1,
   "metadata": {},
   "outputs": [],
   "source": [
    "%matplotlib inline\n",
    "from tqdm import tqdm\n",
    "import pandas as pd\n",
    "import numpy as np\n",
    "import matplotlib.pyplot as plt\n",
    "import brewer2mpl\n",
    "import seaborn as sns\n",
    "from IPython.display import display, HTML\n",
    "import qgrid"
   ]
  },
  {
   "cell_type": "code",
   "execution_count": 2,
   "metadata": {},
   "outputs": [],
   "source": [
    "from matplotlib import rcParams\n",
    "import matplotlib as mpl\n",
    "\n",
    "#colorbrewer2 Dark2 qualitative color table\n",
    "dark2_colors = brewer2mpl.get_map('Dark2', 'Qualitative', 7).mpl_colors\n",
    "\n",
    "rcParams['figure.figsize'] = (10, 6)\n",
    "rcParams['figure.dpi'] = 600\n",
    "\n",
    "\n",
    "rcParams['axes.prop_cycle'] = mpl.cycler(color=dark2_colors) \n",
    "rcParams['lines.linewidth'] = 2\n",
    "rcParams['axes.facecolor'] = 'white'\n",
    "rcParams['patch.edgecolor'] = 'white'\n",
    "rcParams['patch.facecolor'] = dark2_colors[0]\n",
    "rcParams['font.family'] = 'StixGeneral'\n",
    "\n",
    "rcParams['axes.labelsize'] = 36\n",
    "rcParams['ytick.labelsize'] = 30\n",
    "rcParams['xtick.labelsize'] = 30"
   ]
  },
  {
   "cell_type": "markdown",
   "metadata": {},
   "source": [
    "### Helper Functions to find and plot counts and coverage"
   ]
  },
  {
   "cell_type": "code",
   "execution_count": 3,
   "metadata": {},
   "outputs": [],
   "source": [
    "def find_coverage(attributes, attributeCounts, num_samples):\n",
    "    coverage = {}\n",
    "    for attribute in attributes:\n",
    "        if attribute in attributeCounts.index:\n",
    "            coverage[attribute] = attributeCounts[attribute]/num_samples*100\n",
    "    return(pd.Series(coverage).sort_values(ascending=False))\n",
    "\n",
    "def find_counts(attributes, attributeCounts, num_samples):\n",
    "    counts = {}\n",
    "    for attribute in attributes:\n",
    "        if attribute in attributeCounts.index:\n",
    "            counts[attribute] = attributeCounts[attribute]\n",
    "    return(pd.Series(counts).sort_values(ascending=False))\n",
    "\n",
    "def plot_attributes(data, n=20, ylab='of samples with attribute', plot_type='%', main='', save=None):\n",
    "    plt.tight_layout()\n",
    "    ax = data.iloc[:n].plot.bar()\n",
    "    ax.set_ylabel(plot_type + ' ' + ylab)\n",
    "    ax.set_xlabel('Attributes')\n",
    "    ax.set_title(main)\n",
    "    for xtick_label in ax.get_xticklabels():\n",
    "        if xtick_label.get_text() in NCBI_attribute_df.index:\n",
    "            xtick_label.set_color('red')\n",
    "        else:\n",
    "            xtick_label.set_color('blue')\n",
    "    if save != None:\n",
    "        plt.savefig(save, dpi=1200, bbox_inches=\"tight\")\n",
    "            \n",
    "def plot_mulitple_attributes(data, ax=None, n=10, ylab ='% of samples with attribute', **kwargs):\n",
    "    ax = ax or plt.gca()\n",
    "    ax.set_ylabel(ylab)\n",
    "    ax.set_xlabel('Attributes')\n",
    "    for xtick_label in ax.get_xticklabels():\n",
    "        xtick_label.set_rotation(90)\n",
    "        if xtick_label.get_text() in NCBI_attribute_df.index:\n",
    "            xtick_label.set_color('red')\n",
    "        else:\n",
    "            xtick_label.set_color('blue')\n",
    "    return ax.bar(data.iloc[:n].index, data.iloc[:n].values)"
   ]
  },
  {
   "cell_type": "markdown",
   "metadata": {},
   "source": [
    "## Read in downloaded SRA BioSample key-value pairs and NCBI defined attributes"
   ]
  },
  {
   "cell_type": "markdown",
   "metadata": {},
   "source": [
    "### Load full dataset and attribute descriptions"
   ]
  },
  {
   "cell_type": "code",
   "execution_count": 102,
   "metadata": {},
   "outputs": [],
   "source": [
    "# Load SRA BioSample key-value pairs\n",
    "SRS_dir = \"../data/allSRS_05_15_2018.pickle\"\n",
    "allSRS = pd.read_pickle(SRS_dir)\n",
    "currSRS = allSRS\n",
    "save = \"all\""
   ]
  },
  {
   "cell_type": "code",
   "execution_count": 103,
   "metadata": {},
   "outputs": [],
   "source": [
    "# Also read in the attributes defined by the NCBI BioSample\n",
    "NCBI_attribute_df = pd.read_pickle('../data/BioSampleAttributes.pickle')"
   ]
  },
  {
   "cell_type": "markdown",
   "metadata": {},
   "source": [
    "### (Optional) Subset the dataframe for human samples"
   ]
  },
  {
   "cell_type": "code",
   "execution_count": 6,
   "metadata": {},
   "outputs": [],
   "source": [
    "save = \"human\"\n",
    "scientific_name_m = allSRS.index.get_level_values(1) == 'SCIENTIFIC_NAME'\n",
    "hs_m = allSRS.values == 'Homo sapiens'\n",
    "hs = allSRS[scientific_name_m & hs_m].index.get_level_values(0)\n",
    "hs_SRS =  allSRS[allSRS.index.get_level_values(0).isin(hs)]\n",
    "currSRS = hs_SRS"
   ]
  },
  {
   "cell_type": "markdown",
   "metadata": {},
   "source": [
    "### (Optional) Subset the series for those samples that have a title"
   ]
  },
  {
   "cell_type": "code",
   "execution_count": 54,
   "metadata": {},
   "outputs": [],
   "source": [
    "save = \"title\"\n",
    "title_m= allSRS[(allSRS.index.get_level_values(1) == 'TITLE')].index.get_level_values(0)\n",
    "title_SRS = allSRS[allSRS.index.get_level_values(0).isin(title_m)]\n",
    "currSRS = title_SRS"
   ]
  },
  {
   "cell_type": "markdown",
   "metadata": {},
   "source": [
    "### Build a dataframe to aid with analysis chosen dataset"
   ]
  },
  {
   "cell_type": "code",
   "execution_count": 104,
   "metadata": {},
   "outputs": [],
   "source": [
    "# build a dataframe for the key (attribute) and values for each sample (srs)\n",
    "SRS_df = pd.DataFrame(currSRS).reset_index()\n",
    "SRS_df.columns = ['srs', 'attribute', 'value']\n",
    "SRS_df = SRS_df.set_index('srs')"
   ]
  },
  {
   "cell_type": "markdown",
   "metadata": {},
   "source": [
    "## Overall data landscape "
   ]
  },
  {
   "cell_type": "markdown",
   "metadata": {},
   "source": [
    "### <font color = red>Figure 2A:</font> Example data"
   ]
  },
  {
   "cell_type": "code",
   "execution_count": 105,
   "metadata": {},
   "outputs": [],
   "source": [
    "classes = ['SCIENTIFIC_NAME', 'genotype', 'strain', \n",
    "           'cell type', 'disease', 'sex', 'age', \n",
    "           'molecular data type', 'platform', 'protocol', 'tissue']"
   ]
  },
  {
   "cell_type": "code",
   "execution_count": 106,
   "metadata": {},
   "outputs": [],
   "source": [
    "class_SRS_df = SRS_df[SRS_df['attribute'].isin(classes)]"
   ]
  },
  {
   "cell_type": "code",
   "execution_count": 107,
   "metadata": {},
   "outputs": [],
   "source": [
    "example_df = class_SRS_df.sample(class_SRS_df.shape[0]).groupby('attribute').head(1)"
   ]
  },
  {
   "cell_type": "code",
   "execution_count": 108,
   "metadata": {},
   "outputs": [
    {
     "data": {
      "text/html": [
       "<div>\n",
       "<style scoped>\n",
       "    .dataframe tbody tr th:only-of-type {\n",
       "        vertical-align: middle;\n",
       "    }\n",
       "\n",
       "    .dataframe tbody tr th {\n",
       "        vertical-align: top;\n",
       "    }\n",
       "\n",
       "    .dataframe thead th {\n",
       "        text-align: right;\n",
       "    }\n",
       "</style>\n",
       "<table border=\"1\" class=\"dataframe\">\n",
       "  <thead>\n",
       "    <tr style=\"text-align: right;\">\n",
       "      <th></th>\n",
       "      <th>attribute</th>\n",
       "      <th>value</th>\n",
       "    </tr>\n",
       "    <tr>\n",
       "      <th>srs</th>\n",
       "      <th></th>\n",
       "      <th></th>\n",
       "    </tr>\n",
       "  </thead>\n",
       "  <tbody>\n",
       "    <tr>\n",
       "      <th>SRS843105</th>\n",
       "      <td>tissue</td>\n",
       "      <td>whole animal</td>\n",
       "    </tr>\n",
       "    <tr>\n",
       "      <th>SRS941553</th>\n",
       "      <td>SCIENTIFIC_NAME</td>\n",
       "      <td>epibiont metagenome</td>\n",
       "    </tr>\n",
       "    <tr>\n",
       "      <th>SRS811210</th>\n",
       "      <td>molecular data type</td>\n",
       "      <td>SNP Genotypes (NGS)</td>\n",
       "    </tr>\n",
       "    <tr>\n",
       "      <th>SRS1029854</th>\n",
       "      <td>strain</td>\n",
       "      <td>CVM-N15226</td>\n",
       "    </tr>\n",
       "    <tr>\n",
       "      <th>SRS1141122</th>\n",
       "      <td>platform</td>\n",
       "      <td>LS454</td>\n",
       "    </tr>\n",
       "    <tr>\n",
       "      <th>SRS680674</th>\n",
       "      <td>age</td>\n",
       "      <td>P27</td>\n",
       "    </tr>\n",
       "    <tr>\n",
       "      <th>SRS1661503</th>\n",
       "      <td>sex</td>\n",
       "      <td>female</td>\n",
       "    </tr>\n",
       "    <tr>\n",
       "      <th>SRS1455766</th>\n",
       "      <td>cell type</td>\n",
       "      <td>Haematopoietic progenitor cell</td>\n",
       "    </tr>\n",
       "    <tr>\n",
       "      <th>SRS1153747</th>\n",
       "      <td>genotype</td>\n",
       "      <td>SOD1 G37R</td>\n",
       "    </tr>\n",
       "    <tr>\n",
       "      <th>SRS2239401</th>\n",
       "      <td>disease</td>\n",
       "      <td>MDS</td>\n",
       "    </tr>\n",
       "    <tr>\n",
       "      <th>SRS1488307</th>\n",
       "      <td>protocol</td>\n",
       "      <td>Mic-scRNA-Seq</td>\n",
       "    </tr>\n",
       "  </tbody>\n",
       "</table>\n",
       "</div>"
      ],
      "text/plain": [
       "                      attribute                           value\n",
       "srs                                                            \n",
       "SRS843105                tissue                    whole animal\n",
       "SRS941553       SCIENTIFIC_NAME             epibiont metagenome\n",
       "SRS811210   molecular data type             SNP Genotypes (NGS)\n",
       "SRS1029854               strain                      CVM-N15226\n",
       "SRS1141122             platform                           LS454\n",
       "SRS680674                   age                             P27\n",
       "SRS1661503                  sex                          female\n",
       "SRS1455766            cell type  Haematopoietic progenitor cell\n",
       "SRS1153747             genotype                       SOD1 G37R\n",
       "SRS2239401              disease                             MDS\n",
       "SRS1488307             protocol                   Mic-scRNA-Seq"
      ]
     },
     "execution_count": 108,
     "metadata": {},
     "output_type": "execute_result"
    }
   ],
   "source": [
    "example_df"
   ]
  },
  {
   "cell_type": "code",
   "execution_count": 109,
   "metadata": {},
   "outputs": [],
   "source": [
    "#example_df.to_csv('../results/doc/Figure2/Figure2A.csv')"
   ]
  },
  {
   "cell_type": "markdown",
   "metadata": {},
   "source": [
    "### Find the total number of annotations and of samples with annotations"
   ]
  },
  {
   "cell_type": "code",
   "execution_count": 110,
   "metadata": {},
   "outputs": [],
   "source": [
    "attributeCounts = SRS_df['attribute'].value_counts()"
   ]
  },
  {
   "cell_type": "code",
   "execution_count": 111,
   "metadata": {},
   "outputs": [],
   "source": [
    "outtext = \"\""
   ]
  },
  {
   "cell_type": "code",
   "execution_count": 112,
   "metadata": {},
   "outputs": [
    {
     "data": {
      "text/plain": [
       "43907007"
      ]
     },
     "execution_count": 112,
     "metadata": {},
     "output_type": "execute_result"
    }
   ],
   "source": [
    "totalAttributes = len(currSRS)\n",
    "outtext = outtext + (\"Number of BioSample key-value pairs: %d\\n\" % totalAttributes)\n",
    "totalAttributes"
   ]
  },
  {
   "cell_type": "code",
   "execution_count": 113,
   "metadata": {},
   "outputs": [],
   "source": [
    "num_samples = SRS_df.loc[~SRS_df.index.duplicated(keep='first')].shape[0]\n",
    "outtext = outtext + (\"Number of BioSample entries: %d\\n\" % num_samples)"
   ]
  },
  {
   "cell_type": "code",
   "execution_count": 114,
   "metadata": {},
   "outputs": [],
   "source": [
    "averageAnnotations = totalAttributes/num_samples\n",
    "outtext = outtext + (\"The average number of attributes per BioSample in SRA: %.2f\\n\" % averageAnnotations)"
   ]
  },
  {
   "cell_type": "code",
   "execution_count": 115,
   "metadata": {},
   "outputs": [
    {
     "name": "stdout",
     "output_type": "stream",
     "text": [
      "Number of BioSample key-value pairs: 43907007\n",
      "Number of BioSample entries: 2921722\n",
      "The average number of attributes per BioSample in SRA: 15.03\n",
      "\n"
     ]
    }
   ],
   "source": [
    "print(outtext)"
   ]
  },
  {
   "cell_type": "markdown",
   "metadata": {},
   "source": [
    "### Compare counts of attributes defined by NCBI to the user-defined"
   ]
  },
  {
   "cell_type": "code",
   "execution_count": 116,
   "metadata": {},
   "outputs": [],
   "source": [
    "m = SRS_df[\"attribute\"].isin(NCBI_attribute_df.index)\n",
    "in_NCBI = SRS_df[m]\n",
    "not_in_NCBI = SRS_df[~m]\n",
    "n = len(in_NCBI.index.unique())\n",
    "n1 = in_NCBI.shape[0]"
   ]
  },
  {
   "cell_type": "code",
   "execution_count": 117,
   "metadata": {},
   "outputs": [],
   "source": [
    "outtext = \"\""
   ]
  },
  {
   "cell_type": "code",
   "execution_count": 118,
   "metadata": {},
   "outputs": [],
   "source": [
    "outtext = outtext + (\"Number of unique attributes in SRA BioProject Metadata: %d\\n\" % len((SRS_df['attribute'].unique())))"
   ]
  },
  {
   "cell_type": "code",
   "execution_count": 119,
   "metadata": {},
   "outputs": [],
   "source": [
    "outtext = outtext + (\"Number of attributes defined by BioProject: %d\\n\" % NCBI_attribute_df.shape[0])"
   ]
  },
  {
   "cell_type": "code",
   "execution_count": 120,
   "metadata": {},
   "outputs": [],
   "source": [
    "outtext = outtext + (\"Number of attributes defined by BioProject actually used: %d\\n\" % len(in_NCBI['attribute'].unique()))"
   ]
  },
  {
   "cell_type": "code",
   "execution_count": 121,
   "metadata": {},
   "outputs": [],
   "source": [
    "outtext = outtext + (\"Number of attributes used not defined by BioProject: %d\\n\" % len(not_in_NCBI['attribute'].unique()))"
   ]
  },
  {
   "cell_type": "code",
   "execution_count": 122,
   "metadata": {},
   "outputs": [],
   "source": [
    "outtext = outtext + (\"Number of samples that actually use a BioProject attributes %d, \" \\\n",
    "     \"which is %.2f%%\\n\" % (n, 100*n/num_samples))\n",
    "outtext = outtext + (\"Number of keys that actually are BioProject attributes %d, \" \\\n",
    "     \"which is %.2f%%\\n\" % (n1, 100*n1/totalAttributes))"
   ]
  },
  {
   "cell_type": "code",
   "execution_count": 123,
   "metadata": {},
   "outputs": [
    {
     "name": "stdout",
     "output_type": "stream",
     "text": [
      "Number of unique attributes in SRA BioProject Metadata: 19361\n",
      "Number of attributes defined by BioProject: 456\n",
      "Number of attributes defined by BioProject actually used: 316\n",
      "Number of attributes used not defined by BioProject: 19045\n",
      "Number of samples that actually use a BioProject attributes 2183317, which is 74.73%\n",
      "Number of keys that actually are BioProject attributes 9574210, which is 21.81%\n",
      "\n"
     ]
    }
   ],
   "source": [
    "print(outtext)"
   ]
  },
  {
   "cell_type": "markdown",
   "metadata": {},
   "source": [
    "### Determine the coverage of different attributes"
   ]
  },
  {
   "cell_type": "markdown",
   "metadata": {},
   "source": [
    "#### Remove duplicate values for a single sample when looking at coverage of samples"
   ]
  },
  {
   "cell_type": "code",
   "execution_count": 124,
   "metadata": {},
   "outputs": [],
   "source": [
    "# Some samples have multiple values for one key, only keep the first\n",
    "currSRS = currSRS.loc[~currSRS.index.duplicated(keep='first')] \n",
    "\n",
    "# Build a new dataframe for the key (attribute) and values for each sample (srs) nd = no duplicates\n",
    "SRS_nd = pd.DataFrame(currSRS).reset_index()\n",
    "SRS_nd.columns = ['srs', 'attribute', 'value']\n",
    "SRS_nd = SRS_nd.set_index('srs')"
   ]
  },
  {
   "cell_type": "code",
   "execution_count": 125,
   "metadata": {},
   "outputs": [],
   "source": [
    "attributeCounts = SRS_nd['attribute'].value_counts()"
   ]
  },
  {
   "cell_type": "markdown",
   "metadata": {},
   "source": [
    "#### (Optional) Normailze at all for sake of exploring issue with coverage of BioSample defined attributes "
   ]
  },
  {
   "cell_type": "code",
   "execution_count": 126,
   "metadata": {},
   "outputs": [],
   "source": [
    "# From this example we also note the normalization problem in this data\n",
    "#outtext = outtext + ('TITLE: %d\\ntitle: %d\\nTitle: %d' % \n",
    "      #(attributeCounts['TITLE'], attributeCounts['title'], attributeCounts['Title']))"
   ]
  },
  {
   "cell_type": "code",
   "execution_count": 127,
   "metadata": {},
   "outputs": [],
   "source": [
    "# Use a normalized (lowercased) version of df for coverage investigation\n",
    "#SRSlc_df = SRS_nd.apply(lambda x: x.astype(str).str.lower())\n",
    "#attributeCounts = SRSlc_df['attribute'].value_counts()"
   ]
  },
  {
   "cell_type": "code",
   "execution_count": 128,
   "metadata": {},
   "outputs": [],
   "source": [
    "# See that it merges all the titles\n",
    "#attributeCounts['title']"
   ]
  },
  {
   "cell_type": "markdown",
   "metadata": {},
   "source": [
    "#### <font color=red>Figure 2B:</font> Coverage of most used attributes"
   ]
  },
  {
   "cell_type": "code",
   "execution_count": 129,
   "metadata": {},
   "outputs": [],
   "source": [
    "top_attributes = attributeCounts.index\n",
    "top_attribute_coverage = find_coverage(top_attributes, attributeCounts, num_samples)\n",
    "#plot_attributes(find_coverage(top_attributes, attributeCounts, num_samples), main=\"Highest count attributes\")"
   ]
  },
  {
   "cell_type": "code",
   "execution_count": 130,
   "metadata": {},
   "outputs": [],
   "source": [
    "plt.tight_layout()\n",
    "ax = top_attribute_coverage.iloc[:15].plot.bar()\n",
    "ax.set_ylabel('% of samples with attribute', fontsize=24)\n",
    "ax.set_xlabel('Attributes')\n",
    "labels = []\n",
    "for xtick_label in ax.get_xticklabels():\n",
    "    if xtick_label.get_text() in NCBI_attribute_df.index:\n",
    "        xtick_label.set_color('red')\n",
    "    else:\n",
    "        xtick_label.set_color('blue')\n",
    "    if len(xtick_label.get_text()) > 15:\n",
    "        labels.append(xtick_label.get_text()[:15] + '...')\n",
    "    else:\n",
    "        labels.append(xtick_label.get_text())\n",
    "ax.set_xticklabels(labels)\n",
    "\n",
    "if save == \"human\":\n",
    "    plt.savefig('../doc/figures/Supplementary/Supp_Figure1B.eps', dpi=600, bbox_inches=\"tight\")\n",
    "    plt.savefig('../doc/figures/Supplementary/Supp_Figure1B.png', dpi=600, bbox_inches=\"tight\")\n",
    "elif save == \"title\":\n",
    "    plt.savefig('../doc/figures/Supplementary/Supp_figure1E.eps', dpi=600, bbox_inches=\"tight\")\n",
    "    plt.savefig('../doc/figures/Supplementary/Supp_Figure1E.png', dpi=600, bbox_inches=\"tight\")\n",
    "else:\n",
    "    plt.savefig('../doc/figures/Figure2/Figure2B.eps', dpi=600, bbox_inches=\"tight\")\n",
    "    plt.savefig('../doc/figures/Figure2/Figure2B.png', dpi=600, bbox_inches=\"tight\")\n",
    "plt.close();"
   ]
  },
  {
   "cell_type": "markdown",
   "metadata": {},
   "source": [
    "#### Coverage of NCBI attributes"
   ]
  },
  {
   "cell_type": "code",
   "execution_count": 131,
   "metadata": {},
   "outputs": [],
   "source": [
    "ncbi_attributes = NCBI_attribute_df.index\n",
    "#plot_attributes(find_coverage(ncbi_attributes, attributeCounts, num_samples), main=\"Highest count NCBI defined attributes\")"
   ]
  },
  {
   "cell_type": "markdown",
   "metadata": {},
   "source": [
    "#### <font color=red>Figure 2C:</font> Coverage of 11 classes"
   ]
  },
  {
   "cell_type": "code",
   "execution_count": 132,
   "metadata": {},
   "outputs": [],
   "source": [
    "important_attributes = ['SCIENTIFIC_NAME', 'strain', 'cell type', 'genotype', 'disease', 'sex', 'age',\n",
    "                        'molecular data type', 'platform', 'protocol', 'tissue']\n",
    "important_attribute_coverage = find_coverage(important_attributes, attributeCounts, num_samples)\n",
    "#plot_attributes(find_coverage(important_attributes, attributeCounts, num_samples), main=\"Attributes used for classification\", save='../results/Figure_1B.eps')"
   ]
  },
  {
   "cell_type": "code",
   "execution_count": 133,
   "metadata": {},
   "outputs": [],
   "source": [
    "plt.tight_layout()\n",
    "ax = important_attribute_coverage.iloc[:10].plot.bar()\n",
    "ax.set_ylabel('% of samples with attribute', fontsize=24)\n",
    "ax.set_xlabel('Attributes')\n",
    "for xtick_label in ax.get_xticklabels():\n",
    "    if xtick_label.get_text() in NCBI_attribute_df.index:\n",
    "        xtick_label.set_color('red')\n",
    "    else:\n",
    "        xtick_label.set_color('blue')\n",
    "        \n",
    "if save == \"human\":\n",
    "    plt.savefig('../doc/figures/Supplementary/Supp_Figure1C.eps', dpi=600, bbox_inches=\"tight\")\n",
    "    plt.savefig('../doc/figures/Supplementary/Supp_Figure1C.png', dpi=600, bbox_inches=\"tight\")\n",
    "elif save == \"title\":\n",
    "    plt.savefig('../doc/figures/Supplementary/Supp_figure1F.eps', dpi=600, bbox_inches=\"tight\")\n",
    "    plt.savefig('../doc/figures/Supplementary/Supp_Figure1F.png', dpi=600, bbox_inches=\"tight\")\n",
    "else:\n",
    "    plt.savefig('../doc/figures/Figure2/Figure2C.eps', dpi=600, bbox_inches=\"tight\")\n",
    "    plt.savefig('../doc/figures/Figure2/Figure2C.png', dpi=600, bbox_inches=\"tight\")\n",
    "plt.close();"
   ]
  },
  {
   "cell_type": "markdown",
   "metadata": {},
   "source": [
    "## <font color = red>Figure 2D:</font> Attribute word length and total characters"
   ]
  },
  {
   "cell_type": "code",
   "execution_count": 134,
   "metadata": {},
   "outputs": [],
   "source": [
    "SRS_df['attribute_len'] = SRS_df['value'].str.len()\n",
    "SRS_df['log_attribute_len'] = np.log2(SRS_df['attribute_len']+1)\n",
    "SRS_df['word_count'] = (SRS_df['value'].str.count(' ')+1)\n",
    "SRS_df['log_word_count'] = np.log2(SRS_df['word_count']+1)"
   ]
  },
  {
   "cell_type": "code",
   "execution_count": 135,
   "metadata": {},
   "outputs": [],
   "source": [
    "recurring_attributeCounts = attributeCounts[attributeCounts > 10000]\n",
    "SRS_rec = SRS_df[SRS_df.attribute.isin(recurring_attributeCounts.index)]"
   ]
  },
  {
   "cell_type": "code",
   "execution_count": 136,
   "metadata": {},
   "outputs": [],
   "source": [
    "longest_attributes = SRS_rec.groupby(['attribute']).mean().sort_values(\n",
    "    'log_attribute_len', ascending = False).iloc[:10].index"
   ]
  },
  {
   "cell_type": "code",
   "execution_count": 137,
   "metadata": {},
   "outputs": [],
   "source": [
    "dataframe_sub = SRS_df[SRS_df.attribute.isin(longest_attributes)]"
   ]
  },
  {
   "cell_type": "code",
   "execution_count": 138,
   "metadata": {},
   "outputs": [],
   "source": [
    "ax = sns.boxplot(data=SRS_df, x='attribute', y='log_attribute_len', order=longest_attributes, showfliers=False)\n",
    "plt.xticks(rotation=90)\n",
    "labels = []\n",
    "for xtick_label in ax.get_xticklabels():\n",
    "    if xtick_label.get_text() in NCBI_attribute_df.index:\n",
    "        xtick_label.set_color('red')\n",
    "    else:\n",
    "        xtick_label.set_color('blue')\n",
    "    if len(xtick_label.get_text()) > 15:\n",
    "        labels.append(xtick_label.get_text()[:15] + '...')\n",
    "    else:\n",
    "        labels.append(xtick_label.get_text())\n",
    "ax.set_xticklabels(labels)\n",
    "ax.set_ylabel('Log(average characters in attribute + 1)', fontsize=20)\n",
    "ax.set_xlabel('Attributes')\n",
    "\n",
    "if save == \"human\":\n",
    "    plt.savefig('../doc/figures/Supplementary/Supp_Figure1D.eps', dpi=600, bbox_inches=\"tight\")\n",
    "    plt.savefig('../doc/figures/Supplementary/Supp_Figure1D.png', dpi=600, bbox_inches=\"tight\")\n",
    "else:\n",
    "    plt.savefig('../doc/figures/Figure2/Figure2D.eps', dpi=600, bbox_inches=\"tight\")\n",
    "    plt.savefig('../doc/figures/Figure2/Figure2D.png', dpi=600, bbox_inches=\"tight\")\n",
    "plt.close();"
   ]
  },
  {
   "cell_type": "code",
   "execution_count": 139,
   "metadata": {},
   "outputs": [],
   "source": [
    "most_word_attributes = SRS_rec.groupby(['attribute']).mean().sort_values(\n",
    "    'word_count', ascending = False).iloc[:20].index"
   ]
  },
  {
   "cell_type": "code",
   "execution_count": 140,
   "metadata": {},
   "outputs": [],
   "source": [
    "# dataframe_sub = SRS_df[SRS_df.attribute.isin(most_word_attributes)]\n",
    "# ax = sns.boxplot(data=SRS_df, x='attribute', y='log_word_count', order=most_word_attributes)\n",
    "# plt.xticks(rotation=90)\n",
    "# for xtick_label in ax.get_xticklabels():\n",
    "#     if xtick_label.get_text() in NCBI_attribute_df.index:\n",
    "#         xtick_label.set_color('red')\n",
    "#     else:\n",
    "#         xtick_label.set_color('blue')\n",
    "# ax.set_ylabel('Log(average words in attribute + 1)')\n",
    "# ax.set_xlabel('Attributes')"
   ]
  },
  {
   "cell_type": "code",
   "execution_count": 141,
   "metadata": {},
   "outputs": [],
   "source": [
    "long_character_fraction = len(SRS_df[SRS_df['attribute_len'].values > 50].index.unique())/num_samples*100\n",
    "outtext = outtext + (\"Number of samples with an attribute of 50 characters or more: %.2f%%\\n\" % \n",
    "      long_character_fraction)"
   ]
  },
  {
   "cell_type": "code",
   "execution_count": 142,
   "metadata": {},
   "outputs": [],
   "source": [
    "long_word_fraction = len(SRS_df[SRS_df['word_count'].values >= 10].index.unique())/num_samples*100\n",
    "outtext = outtext + (\"Number of samples with an attribute of 10 words or more: %.2f%%\\n\" % \n",
    "      long_word_fraction)"
   ]
  },
  {
   "cell_type": "code",
   "execution_count": 143,
   "metadata": {},
   "outputs": [
    {
     "name": "stdout",
     "output_type": "stream",
     "text": [
      "Number of unique attributes in SRA BioProject Metadata: 19361\n",
      "Number of attributes defined by BioProject: 456\n",
      "Number of attributes defined by BioProject actually used: 316\n",
      "Number of attributes used not defined by BioProject: 19045\n",
      "Number of samples that actually use a BioProject attributes 2183317, which is 74.73%\n",
      "Number of keys that actually are BioProject attributes 9574210, which is 21.81%\n",
      "Number of samples with an attribute of 50 characters or more: 39.90%\n",
      "Number of samples with an attribute of 10 words or more: 31.06%\n",
      "\n"
     ]
    }
   ],
   "source": [
    "print(outtext)"
   ]
  },
  {
   "cell_type": "markdown",
   "metadata": {},
   "source": [
    "## Analyze high frequency tokens"
   ]
  },
  {
   "cell_type": "code",
   "execution_count": 144,
   "metadata": {},
   "outputs": [],
   "source": [
    "import nltk\n",
    "from nltk.corpus import stopwords\n",
    "from nltk.tokenize import TreebankWordTokenizer\n",
    "from collections import Counter\n",
    "import spacy"
   ]
  },
  {
   "cell_type": "code",
   "execution_count": 145,
   "metadata": {},
   "outputs": [],
   "source": [
    "nlp = spacy.load(\"en_core_web_sm\")\n",
    "SRA_docs = [nlp(x) for x in SRS_df.value.values[1:100] if len(x) > 0 ]"
   ]
  },
  {
   "cell_type": "code",
   "execution_count": 146,
   "metadata": {},
   "outputs": [],
   "source": [
    "tokenizer = TreebankWordTokenizer()\n",
    "SRA_dict = [tokenizer.tokenize(x.lower()) for x in SRS_df.value.values[1:100]]"
   ]
  },
  {
   "cell_type": "code",
   "execution_count": 147,
   "metadata": {},
   "outputs": [
    {
     "data": {
      "text/plain": [
       "0.9032683097711488"
      ]
     },
     "execution_count": 147,
     "metadata": {},
     "output_type": "execute_result"
    }
   ],
   "source": [
    "sum(SRS_df['word_count'].value_counts().iloc[0:3])/SRS_df.shape[0]"
   ]
  },
  {
   "cell_type": "code",
   "execution_count": 148,
   "metadata": {},
   "outputs": [
    {
     "data": {
      "text/plain": [
       "5    0.012448\n",
       "7    0.005562\n",
       "8    0.004723\n",
       "Name: word_count, dtype: float64"
      ]
     },
     "execution_count": 148,
     "metadata": {},
     "output_type": "execute_result"
    }
   ],
   "source": [
    "SRS_df['word_count'].value_counts().iloc[5:8]/SRS_df.shape[0]"
   ]
  },
  {
   "cell_type": "code",
   "execution_count": 149,
   "metadata": {},
   "outputs": [],
   "source": [
    "average_attribue_length = SRS_df.groupby(\"attribute\").mean()[\"word_count\"].sort_values(ascending=True)"
   ]
  },
  {
   "cell_type": "code",
   "execution_count": 150,
   "metadata": {},
   "outputs": [
    {
     "data": {
      "text/plain": [
       "1.8500646510220364"
      ]
     },
     "execution_count": 150,
     "metadata": {},
     "output_type": "execute_result"
    }
   ],
   "source": [
    "average_attribue_length[\"disease\"]"
   ]
  }
 ],
 "metadata": {
  "kernelspec": {
   "display_name": "deep_nlp_cpu",
   "language": "python",
   "name": "deep_nlp_cpu"
  },
  "language_info": {
   "codemirror_mode": {
    "name": "ipython",
    "version": 3
   },
   "file_extension": ".py",
   "mimetype": "text/x-python",
   "name": "python",
   "nbconvert_exporter": "python",
   "pygments_lexer": "ipython3",
   "version": "3.6.6"
  },
  "toc": {
   "base_numbering": 1,
   "nav_menu": {},
   "number_sections": true,
   "sideBar": true,
   "skip_h1_title": false,
   "title_cell": "Table of Contents",
   "title_sidebar": "Contents",
   "toc_cell": true,
   "toc_position": {
    "height": "calc(100% - 180px)",
    "left": "10px",
    "top": "150px",
    "width": "384px"
   },
   "toc_section_display": true,
   "toc_window_display": true
  }
 },
 "nbformat": 4,
 "nbformat_minor": 4
}
