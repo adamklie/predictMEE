{
 "cells": [
  {
   "cell_type": "markdown",
   "metadata": {
    "toc": true
   },
   "source": [
    "<h1>Table of Contents<span class=\"tocSkip\"></span></h1>\n",
    "<div class=\"toc\"><ul class=\"toc-item\"><li><span><a href=\"#SRA-BioSample-data-landscape\" data-toc-modified-id=\"SRA-BioSample-data-landscape-1\"><span class=\"toc-item-num\">1&nbsp;&nbsp;</span>SRA BioSample data landscape</a></span><ul class=\"toc-item\"><li><span><a href=\"#Set-up\" data-toc-modified-id=\"Set-up-1.1\"><span class=\"toc-item-num\">1.1&nbsp;&nbsp;</span>Set-up</a></span><ul class=\"toc-item\"><li><span><a href=\"#Import-needed-packages-and-set-up-plotting\" data-toc-modified-id=\"Import-needed-packages-and-set-up-plotting-1.1.1\"><span class=\"toc-item-num\">1.1.1&nbsp;&nbsp;</span>Import needed packages and set up plotting</a></span></li><li><span><a href=\"#Helper-Functions-to-find-and-plot-counts-and-coverage\" data-toc-modified-id=\"Helper-Functions-to-find-and-plot-counts-and-coverage-1.1.2\"><span class=\"toc-item-num\">1.1.2&nbsp;&nbsp;</span>Helper Functions to find and plot counts and coverage</a></span></li></ul></li><li><span><a href=\"#Read-in-downloaded-SRA-BioSample-key-value-pairs-and-NCBI-defined-attributes\" data-toc-modified-id=\"Read-in-downloaded-SRA-BioSample-key-value-pairs-and-NCBI-defined-attributes-1.2\"><span class=\"toc-item-num\">1.2&nbsp;&nbsp;</span>Read in downloaded SRA BioSample key-value pairs and NCBI defined attributes</a></span><ul class=\"toc-item\"><li><span><a href=\"#(Optional)-Subset-the-dataframe-for-human-samples\" data-toc-modified-id=\"(Optional)-Subset-the-dataframe-for-human-samples-1.2.1\"><span class=\"toc-item-num\">1.2.1&nbsp;&nbsp;</span>(Optional) Subset the dataframe for human samples</a></span></li><li><span><a href=\"#(Optional)-Subset-the-series-for-those-samples-that-have-a-title\" data-toc-modified-id=\"(Optional)-Subset-the-series-for-those-samples-that-have-a-title-1.2.2\"><span class=\"toc-item-num\">1.2.2&nbsp;&nbsp;</span>(Optional) Subset the series for those samples that have a title</a></span></li><li><span><a href=\"#Choose-what-data-you-want-to-analyze,-the-entire-dataset-or-some-subset,-build-a-dataframe-to-aid-with-analysis\" data-toc-modified-id=\"Choose-what-data-you-want-to-analyze,-the-entire-dataset-or-some-subset,-build-a-dataframe-to-aid-with-analysis-1.2.3\"><span class=\"toc-item-num\">1.2.3&nbsp;&nbsp;</span>Choose what data you want to analyze, the entire dataset or some subset, build a dataframe to aid with analysis</a></span></li></ul></li><li><span><a href=\"#Overall-data-landscape\" data-toc-modified-id=\"Overall-data-landscape-1.3\"><span class=\"toc-item-num\">1.3&nbsp;&nbsp;</span>Overall data landscape</a></span><ul class=\"toc-item\"><li><span><a href=\"#Figure-2A:-Example-data\" data-toc-modified-id=\"Figure-2A:-Example-data-1.3.1\"><span class=\"toc-item-num\">1.3.1&nbsp;&nbsp;</span><font color=\"red\">Figure 2A:</font> Example data</a></span></li><li><span><a href=\"#Find-the-total-number-of-annotations-and-of-samples-with-annotations\" data-toc-modified-id=\"Find-the-total-number-of-annotations-and-of-samples-with-annotations-1.3.2\"><span class=\"toc-item-num\">1.3.2&nbsp;&nbsp;</span>Find the total number of annotations and of samples with annotations</a></span></li><li><span><a href=\"#Compare-counts-of-attributes-defined-by-NCBI-to-the-user-defined\" data-toc-modified-id=\"Compare-counts-of-attributes-defined-by-NCBI-to-the-user-defined-1.3.3\"><span class=\"toc-item-num\">1.3.3&nbsp;&nbsp;</span>Compare counts of attributes defined by NCBI to the user-defined</a></span></li><li><span><a href=\"#Determine-the-coverage-of-different-attributes\" data-toc-modified-id=\"Determine-the-coverage-of-different-attributes-1.3.4\"><span class=\"toc-item-num\">1.3.4&nbsp;&nbsp;</span>Determine the coverage of different attributes</a></span><ul class=\"toc-item\"><li><span><a href=\"#(Optional)-Normailze-at-all-for-sake-of-exploring-issue-with-coverage-of-BioSample-defined-attributes\" data-toc-modified-id=\"(Optional)-Normailze-at-all-for-sake-of-exploring-issue-with-coverage-of-BioSample-defined-attributes-1.3.4.1\"><span class=\"toc-item-num\">1.3.4.1&nbsp;&nbsp;</span>(Optional) Normailze at all for sake of exploring issue with coverage of BioSample defined attributes</a></span></li><li><span><a href=\"#Figure-2B:-Coverage-of-most-used-attributes\" data-toc-modified-id=\"Figure-2B:-Coverage-of-most-used-attributes-1.3.4.2\"><span class=\"toc-item-num\">1.3.4.2&nbsp;&nbsp;</span><font color=\"red\">Figure 2B:</font> Coverage of most used attributes</a></span></li><li><span><a href=\"#Coverage-of-NCBI-attributes\" data-toc-modified-id=\"Coverage-of-NCBI-attributes-1.3.4.3\"><span class=\"toc-item-num\">1.3.4.3&nbsp;&nbsp;</span>Coverage of NCBI attributes</a></span></li><li><span><a href=\"#Figure-2C:-Coverage-of-11-classes\" data-toc-modified-id=\"Figure-2C:-Coverage-of-11-classes-1.3.4.4\"><span class=\"toc-item-num\">1.3.4.4&nbsp;&nbsp;</span><font color=\"red\">Figure 2C:</font> Coverage of 11 classes</a></span></li></ul></li></ul></li><li><span><a href=\"#Figure-2D:-Attribute-word-length-and-total-characters\" data-toc-modified-id=\"Figure-2D:-Attribute-word-length-and-total-characters-1.4\"><span class=\"toc-item-num\">1.4&nbsp;&nbsp;</span><font color=\"red\">Figure 2D:</font> Attribute word length and total characters</a></span></li><li><span><a href=\"#Analyze-high-frequency-tokens\" data-toc-modified-id=\"Analyze-high-frequency-tokens-1.5\"><span class=\"toc-item-num\">1.5&nbsp;&nbsp;</span>Analyze high frequency tokens</a></span></li></ul></li></ul></div>"
   ]
  },
  {
   "cell_type": "markdown",
   "metadata": {},
   "source": [
    "# SRA BioSample data landscape\n",
    "Adam Klie<br>\n",
    "10/17/2019<br>\n",
    "Script to analyze the metadata landscape of BioSample entries in SRA"
   ]
  },
  {
   "cell_type": "markdown",
   "metadata": {
    "heading_collapsed": true
   },
   "source": [
    "## Set-up"
   ]
  },
  {
   "cell_type": "markdown",
   "metadata": {
    "heading_collapsed": true,
    "hidden": true
   },
   "source": [
    "### Import needed packages and set up plotting"
   ]
  },
  {
   "cell_type": "code",
   "execution_count": 1,
   "metadata": {
    "hidden": true
   },
   "outputs": [],
   "source": [
    "%matplotlib inline\n",
    "from tqdm import tqdm\n",
    "import pandas as pd\n",
    "import numpy as np\n",
    "import matplotlib.pyplot as plt\n",
    "import brewer2mpl\n",
    "import seaborn as sns\n",
    "from IPython.display import display, HTML\n",
    "import qgrid"
   ]
  },
  {
   "cell_type": "code",
   "execution_count": 1,
   "metadata": {
    "hidden": true
   },
   "outputs": [
    {
     "ename": "NameError",
     "evalue": "name 'brewer2mpl' is not defined",
     "output_type": "error",
     "traceback": [
      "\u001b[0;31m---------------------------------------------------------------------------\u001b[0m",
      "\u001b[0;31mNameError\u001b[0m                                 Traceback (most recent call last)",
      "\u001b[0;32m<ipython-input-1-5969e73c6c9b>\u001b[0m in \u001b[0;36m<module>\u001b[0;34m\u001b[0m\n\u001b[1;32m      3\u001b[0m \u001b[0;34m\u001b[0m\u001b[0m\n\u001b[1;32m      4\u001b[0m \u001b[0;31m#colorbrewer2 Dark2 qualitative color table\u001b[0m\u001b[0;34m\u001b[0m\u001b[0;34m\u001b[0m\u001b[0m\n\u001b[0;32m----> 5\u001b[0;31m \u001b[0mdark2_colors\u001b[0m \u001b[0;34m=\u001b[0m \u001b[0mbrewer2mpl\u001b[0m\u001b[0;34m.\u001b[0m\u001b[0mget_map\u001b[0m\u001b[0;34m(\u001b[0m\u001b[0;34m'Dark2'\u001b[0m\u001b[0;34m,\u001b[0m \u001b[0;34m'Qualitative'\u001b[0m\u001b[0;34m,\u001b[0m \u001b[0;36m7\u001b[0m\u001b[0;34m)\u001b[0m\u001b[0;34m.\u001b[0m\u001b[0mmpl_colors\u001b[0m\u001b[0;34m\u001b[0m\u001b[0m\n\u001b[0m\u001b[1;32m      6\u001b[0m \u001b[0;34m\u001b[0m\u001b[0m\n\u001b[1;32m      7\u001b[0m \u001b[0mrcParams\u001b[0m\u001b[0;34m[\u001b[0m\u001b[0;34m'figure.figsize'\u001b[0m\u001b[0;34m]\u001b[0m \u001b[0;34m=\u001b[0m \u001b[0;34m(\u001b[0m\u001b[0;36m10\u001b[0m\u001b[0;34m,\u001b[0m \u001b[0;36m6\u001b[0m\u001b[0;34m)\u001b[0m\u001b[0;34m\u001b[0m\u001b[0m\n",
      "\u001b[0;31mNameError\u001b[0m: name 'brewer2mpl' is not defined"
     ]
    }
   ],
   "source": [
    "from matplotlib import rcParams\n",
    "import matplotlib as mpl\n",
    "\n",
    "#colorbrewer2 Dark2 qualitative color table\n",
    "dark2_colors = brewer2mpl.get_map('Dark2', 'Qualitative', 7).mpl_colors\n",
    "\n",
    "rcParams['figure.figsize'] = (10, 6)\n",
    "rcParams['figure.dpi'] = 600\n",
    "rcParams['axes.prop_cycle'] = mpl.cycler(color=dark2_colors) \n",
    "rcParams['lines.linewidth'] = 2\n",
    "rcParams['axes.facecolor'] = 'white'\n",
    "rcParams['font.size'] = 18\n",
    "rcParams['patch.edgecolor'] = 'white'\n",
    "rcParams['patch.facecolor'] = dark2_colors[0]\n",
    "rcParams['font.family'] = 'StixGeneral'\n",
    "\n",
    "\n",
    "def remove_border(axes=None, top=False, right=False, left=True, bottom=True):\n",
    "    \"\"\"\n",
    "    Minimize chartjunk by stripping out unnecesasry plot borders and axis ticks\n",
    "    \n",
    "    The top/right/left/bottom keywords toggle whether the corresponding plot border is drawn\n",
    "    \"\"\"\n",
    "    ax = axes or plt.gca()\n",
    "    ax.spines['top'].set_visible(top)\n",
    "    ax.spines['right'].set_visible(right)\n",
    "    ax.spines['left'].set_visible(left)\n",
    "    ax.spines['bottom'].set_visible(bottom)\n",
    "    \n",
    "    #turn off all ticks\n",
    "    ax.yaxis.set_ticks_position('none')\n",
    "    ax.xaxis.set_ticks_position('none')\n",
    "    \n",
    "    #now re-enable visibles\n",
    "    if top:\n",
    "        ax.xaxis.tick_top()\n",
    "    if bottom:\n",
    "        ax.xaxis.tick_bottom()\n",
    "    if left:\n",
    "        ax.yaxis.tick_left()\n",
    "    if right:\n",
    "        ax.yaxis.tick_right()"
   ]
  },
  {
   "cell_type": "markdown",
   "metadata": {
    "heading_collapsed": true,
    "hidden": true
   },
   "source": [
    "### Helper Functions to find and plot counts and coverage"
   ]
  },
  {
   "cell_type": "code",
   "execution_count": 3,
   "metadata": {
    "hidden": true
   },
   "outputs": [],
   "source": [
    "def find_coverage(attributes, attributeCounts, num_samples):\n",
    "    coverage = {}\n",
    "    for attribute in attributes:\n",
    "        if attribute in attributeCounts.index:\n",
    "            coverage[attribute] = attributeCounts[attribute]/num_samples*100\n",
    "    return(pd.Series(coverage).sort_values(ascending=False))\n",
    "\n",
    "def find_counts(attributes, attributeCounts, num_samples):\n",
    "    counts = {}\n",
    "    for attribute in attributes:\n",
    "        if attribute in attributeCounts.index:\n",
    "            counts[attribute] = attributeCounts[attribute]\n",
    "    return(pd.Series(counts).sort_values(ascending=False))\n",
    "\n",
    "def plot_attributes(data, n=20, ylab='of samples with attribute', plot_type='%', main='', save=None):\n",
    "    plt.tight_layout()\n",
    "    ax = data.iloc[:n].plot.bar()\n",
    "    ax.set_ylabel(plot_type + ' ' + ylab)\n",
    "    ax.set_xlabel('Attributes')\n",
    "    ax.set_title(main)\n",
    "    for xtick_label in ax.get_xticklabels():\n",
    "        if xtick_label.get_text() in NCBI_attribute_df.index:\n",
    "            xtick_label.set_color('red')\n",
    "        else:\n",
    "            xtick_label.set_color('blue')\n",
    "    if save != None:\n",
    "        plt.savefig(save, dpi=1200, bbox_inches=\"tight\")\n",
    "            \n",
    "def plot_mulitple_attributes(data, ax=None, n=10, ylab ='% of samples with attribute', **kwargs):\n",
    "    ax = ax or plt.gca()\n",
    "    ax.set_ylabel(ylab)\n",
    "    ax.set_xlabel('Attributes')\n",
    "    for xtick_label in ax.get_xticklabels():\n",
    "        xtick_label.set_rotation(90)\n",
    "        if xtick_label.get_text() in NCBI_attribute_df.index:\n",
    "            xtick_label.set_color('red')\n",
    "        else:\n",
    "            xtick_label.set_color('blue')\n",
    "    return ax.bar(data.iloc[:n].index, data.iloc[:n].values)"
   ]
  },
  {
   "cell_type": "markdown",
   "metadata": {
    "heading_collapsed": true
   },
   "source": [
    "## Read in downloaded SRA BioSample key-value pairs and NCBI defined attributes"
   ]
  },
  {
   "cell_type": "code",
   "execution_count": 4,
   "metadata": {
    "hidden": true
   },
   "outputs": [],
   "source": [
    "# Load SRA BioSample key-value pairs\n",
    "SRS_dir = \"../data/allSRS_05_15_2018.pickle\"\n",
    "allSRS = pd.read_pickle(SRS_dir)"
   ]
  },
  {
   "cell_type": "code",
   "execution_count": 5,
   "metadata": {
    "hidden": true
   },
   "outputs": [],
   "source": [
    "# Also read in the attributes defined by the NCBI BioSample\n",
    "NCBI_attribute_df = pd.read_pickle('../data/BioSampleAttributes.pickle')"
   ]
  },
  {
   "cell_type": "markdown",
   "metadata": {
    "heading_collapsed": true,
    "hidden": true
   },
   "source": [
    "### (Optional) Subset the dataframe for human samples"
   ]
  },
  {
   "cell_type": "code",
   "execution_count": null,
   "metadata": {
    "hidden": true
   },
   "outputs": [],
   "source": [
    "scientific_name_m = allSRS.index.get_level_values(1) == 'SCIENTIFIC_NAME'\n",
    "hs_m = allSRS.values == 'Homo sapiens'\n",
    "hs = allSRS[scientific_name_m & hs_m].index.get_level_values(0)\n",
    "hs_SRS =  allSRS[allSRS.index.get_level_values(0).isin(hs)]"
   ]
  },
  {
   "cell_type": "markdown",
   "metadata": {
    "heading_collapsed": true,
    "hidden": true
   },
   "source": [
    "### (Optional) Subset the series for those samples that have a title"
   ]
  },
  {
   "cell_type": "code",
   "execution_count": null,
   "metadata": {
    "hidden": true
   },
   "outputs": [],
   "source": [
    "title_m= allSRS[(allSRS.index.get_level_values(1) == 'TITLE')].index.get_level_values(0)\n",
    "title_SRS = allSRS[allSRS.index.get_level_values(0).isin(title_m)]"
   ]
  },
  {
   "cell_type": "markdown",
   "metadata": {
    "hidden": true
   },
   "source": [
    "### Choose what data you want to analyze, the entire dataset or some subset, build a dataframe to aid with analysis"
   ]
  },
  {
   "cell_type": "code",
   "execution_count": 7,
   "metadata": {
    "hidden": true
   },
   "outputs": [],
   "source": [
    "currSRS = allSRS  # all of BioSample annotations"
   ]
  },
  {
   "cell_type": "code",
   "execution_count": 8,
   "metadata": {
    "hidden": true
   },
   "outputs": [],
   "source": [
    "# build a dataframe for the key (attribute) and values for each sample (srs)\n",
    "SRS_df = pd.DataFrame(currSRS).reset_index()\n",
    "SRS_df.columns = ['srs', 'attribute', 'value']\n",
    "SRS_df = SRS_df.set_index('srs')"
   ]
  },
  {
   "cell_type": "markdown",
   "metadata": {
    "heading_collapsed": true
   },
   "source": [
    "## Overall data landscape "
   ]
  },
  {
   "cell_type": "markdown",
   "metadata": {
    "heading_collapsed": true,
    "hidden": true
   },
   "source": [
    "### <font color = red>Figure 2A:</font> Example data"
   ]
  },
  {
   "cell_type": "code",
   "execution_count": 9,
   "metadata": {
    "hidden": true
   },
   "outputs": [],
   "source": [
    "classes = ['SCIENTIFIC_NAME', 'genotype', 'strain', \n",
    "           'cell type', 'disease', 'sex', 'age', \n",
    "           'molecular data type', 'platform', 'protocol']"
   ]
  },
  {
   "cell_type": "code",
   "execution_count": 10,
   "metadata": {
    "hidden": true
   },
   "outputs": [],
   "source": [
    "class_SRS_df = SRS_df[SRS_df['attribute'].isin(classes)]"
   ]
  },
  {
   "cell_type": "code",
   "execution_count": 11,
   "metadata": {
    "hidden": true
   },
   "outputs": [],
   "source": [
    "example_df = class_SRS_df.sample(class_SRS_df.shape[0]).groupby('attribute').head(1)"
   ]
  },
  {
   "cell_type": "code",
   "execution_count": 12,
   "metadata": {
    "hidden": true
   },
   "outputs": [
    {
     "data": {
      "text/html": [
       "<div>\n",
       "<style scoped>\n",
       "    .dataframe tbody tr th:only-of-type {\n",
       "        vertical-align: middle;\n",
       "    }\n",
       "\n",
       "    .dataframe tbody tr th {\n",
       "        vertical-align: top;\n",
       "    }\n",
       "\n",
       "    .dataframe thead th {\n",
       "        text-align: right;\n",
       "    }\n",
       "</style>\n",
       "<table border=\"1\" class=\"dataframe\">\n",
       "  <thead>\n",
       "    <tr style=\"text-align: right;\">\n",
       "      <th></th>\n",
       "      <th>attribute</th>\n",
       "      <th>value</th>\n",
       "    </tr>\n",
       "    <tr>\n",
       "      <th>srs</th>\n",
       "      <th></th>\n",
       "      <th></th>\n",
       "    </tr>\n",
       "  </thead>\n",
       "  <tbody>\n",
       "    <tr>\n",
       "      <th>SRS712566</th>\n",
       "      <td>SCIENTIFIC_NAME</td>\n",
       "      <td>Drosophila melanogaster</td>\n",
       "    </tr>\n",
       "    <tr>\n",
       "      <th>SRS1736082</th>\n",
       "      <td>genotype</td>\n",
       "      <td>Missing</td>\n",
       "    </tr>\n",
       "    <tr>\n",
       "      <th>SRS1493301</th>\n",
       "      <td>age</td>\n",
       "      <td>adult</td>\n",
       "    </tr>\n",
       "    <tr>\n",
       "      <th>ERS074829</th>\n",
       "      <td>strain</td>\n",
       "      <td>SC16</td>\n",
       "    </tr>\n",
       "    <tr>\n",
       "      <th>ERS387829</th>\n",
       "      <td>sex</td>\n",
       "      <td>mixed sex</td>\n",
       "    </tr>\n",
       "    <tr>\n",
       "      <th>SRS537259</th>\n",
       "      <td>molecular data type</td>\n",
       "      <td>Whole Exome (NGS)</td>\n",
       "    </tr>\n",
       "    <tr>\n",
       "      <th>SRS2215620</th>\n",
       "      <td>cell type</td>\n",
       "      <td>cell line, chronic myelogenous leukemia, untre...</td>\n",
       "    </tr>\n",
       "    <tr>\n",
       "      <th>DRS017404</th>\n",
       "      <td>disease</td>\n",
       "      <td>thymic carcinoma</td>\n",
       "    </tr>\n",
       "    <tr>\n",
       "      <th>SRS749305</th>\n",
       "      <td>protocol</td>\n",
       "      <td>in situ Hi-C</td>\n",
       "    </tr>\n",
       "    <tr>\n",
       "      <th>SRS442271</th>\n",
       "      <td>platform</td>\n",
       "      <td>Illumina HiSeq 2000</td>\n",
       "    </tr>\n",
       "  </tbody>\n",
       "</table>\n",
       "</div>"
      ],
      "text/plain": [
       "                      attribute  \\\n",
       "srs                               \n",
       "SRS712566       SCIENTIFIC_NAME   \n",
       "SRS1736082             genotype   \n",
       "SRS1493301                  age   \n",
       "ERS074829                strain   \n",
       "ERS387829                   sex   \n",
       "SRS537259   molecular data type   \n",
       "SRS2215620            cell type   \n",
       "DRS017404               disease   \n",
       "SRS749305              protocol   \n",
       "SRS442271              platform   \n",
       "\n",
       "                                                        value  \n",
       "srs                                                            \n",
       "SRS712566                             Drosophila melanogaster  \n",
       "SRS1736082                                            Missing  \n",
       "SRS1493301                                              adult  \n",
       "ERS074829                                                SC16  \n",
       "ERS387829                                           mixed sex  \n",
       "SRS537259                                   Whole Exome (NGS)  \n",
       "SRS2215620  cell line, chronic myelogenous leukemia, untre...  \n",
       "DRS017404                                    thymic carcinoma  \n",
       "SRS749305                                        in situ Hi-C  \n",
       "SRS442271                                 Illumina HiSeq 2000  "
      ]
     },
     "execution_count": 12,
     "metadata": {},
     "output_type": "execute_result"
    }
   ],
   "source": [
    "example_df"
   ]
  },
  {
   "cell_type": "code",
   "execution_count": 13,
   "metadata": {
    "hidden": true
   },
   "outputs": [],
   "source": [
    "example_df.to_csv('../results/figures/Figure2A.csv')"
   ]
  },
  {
   "cell_type": "markdown",
   "metadata": {
    "heading_collapsed": true,
    "hidden": true
   },
   "source": [
    "### Find the total number of annotations and of samples with annotations"
   ]
  },
  {
   "cell_type": "code",
   "execution_count": 21,
   "metadata": {
    "hidden": true
   },
   "outputs": [],
   "source": [
    "attributeCounts = SRS_df['attribute'].value_counts()"
   ]
  },
  {
   "cell_type": "code",
   "execution_count": 22,
   "metadata": {
    "hidden": true
   },
   "outputs": [],
   "source": [
    "outtext = \"\""
   ]
  },
  {
   "cell_type": "code",
   "execution_count": 23,
   "metadata": {
    "hidden": true
   },
   "outputs": [
    {
     "data": {
      "text/plain": [
       "43907007"
      ]
     },
     "execution_count": 23,
     "metadata": {},
     "output_type": "execute_result"
    }
   ],
   "source": [
    "totalAttributes = len(currSRS)\n",
    "outtext = outtext + (\"Number of BioSample key-value pairs: %d\\n\" % totalAttributes)\n",
    "totalAttributes"
   ]
  },
  {
   "cell_type": "code",
   "execution_count": 24,
   "metadata": {
    "hidden": true
   },
   "outputs": [],
   "source": [
    "num_samples = SRS_df.loc[~SRS_df.index.duplicated(keep='first')].shape[0]\n",
    "outtext = outtext + (\"Number of BioSample entries: %d\\n\" % num_samples)"
   ]
  },
  {
   "cell_type": "code",
   "execution_count": 25,
   "metadata": {
    "hidden": true
   },
   "outputs": [],
   "source": [
    "averageAnnotations = totalAttributes/num_samples\n",
    "outtext = outtext + (\"The average number of attributes per BioSample in SRA: %.2f\\n\" % averageAnnotations)"
   ]
  },
  {
   "cell_type": "code",
   "execution_count": 26,
   "metadata": {
    "hidden": true
   },
   "outputs": [
    {
     "name": "stdout",
     "output_type": "stream",
     "text": [
      "Number of BioSample key-value pairs: 43907007\n",
      "Number of BioSample entries: 2921722\n",
      "The average number of attributes per BioSample in SRA: 15.03\n",
      "\n"
     ]
    }
   ],
   "source": [
    "print(outtext)"
   ]
  },
  {
   "cell_type": "markdown",
   "metadata": {
    "heading_collapsed": true,
    "hidden": true
   },
   "source": [
    "### Compare counts of attributes defined by NCBI to the user-defined"
   ]
  },
  {
   "cell_type": "code",
   "execution_count": 27,
   "metadata": {
    "hidden": true
   },
   "outputs": [],
   "source": [
    "m = SRS_df[\"attribute\"].isin(NCBI_attribute_df.index)\n",
    "in_NCBI = SRS_df[m]\n",
    "not_in_NCBI = SRS_df[~m]\n",
    "n = len(in_NCBI.index.unique())\n",
    "n1 = in_NCBI.shape[0]"
   ]
  },
  {
   "cell_type": "code",
   "execution_count": 28,
   "metadata": {
    "hidden": true
   },
   "outputs": [],
   "source": [
    "outtext = \"\""
   ]
  },
  {
   "cell_type": "code",
   "execution_count": 29,
   "metadata": {
    "hidden": true
   },
   "outputs": [],
   "source": [
    "outtext = outtext + (\"Number of unique attributes in SRA BioProject Metadata: %d\\n\" % len((SRS_df['attribute'].unique())))"
   ]
  },
  {
   "cell_type": "code",
   "execution_count": 30,
   "metadata": {
    "hidden": true
   },
   "outputs": [],
   "source": [
    "outtext = outtext + (\"Number of attributes defined by BioProject: %d\\n\" % NCBI_attribute_df.shape[0])"
   ]
  },
  {
   "cell_type": "code",
   "execution_count": 31,
   "metadata": {
    "hidden": true
   },
   "outputs": [],
   "source": [
    "outtext = outtext + (\"Number of attributes defined by BioProject actually used: %d\\n\" % len(in_NCBI['attribute'].unique()))"
   ]
  },
  {
   "cell_type": "code",
   "execution_count": 32,
   "metadata": {
    "hidden": true
   },
   "outputs": [],
   "source": [
    "outtext = outtext + (\"Number of attributes used not defined by BioProject: %d\\n\" % len(not_in_NCBI['attribute'].unique()))"
   ]
  },
  {
   "cell_type": "code",
   "execution_count": 33,
   "metadata": {
    "hidden": true
   },
   "outputs": [],
   "source": [
    "outtext = outtext + (\"Number of samples that actually use a BioProject attributes %d, \" \\\n",
    "     \"which is %.2f%%\\n\" % (n, 100*n/num_samples))\n",
    "outtext = outtext + (\"Number of keys that actually are BioProject attributes %d, \" \\\n",
    "     \"which is %.2f%%\\n\" % (n1, 100*n1/totalAttributes))"
   ]
  },
  {
   "cell_type": "code",
   "execution_count": 34,
   "metadata": {
    "hidden": true
   },
   "outputs": [
    {
     "name": "stdout",
     "output_type": "stream",
     "text": [
      "Number of unique attributes in SRA BioProject Metadata: 19361\n",
      "Number of attributes defined by BioProject: 456\n",
      "Number of attributes defined by BioProject actually used: 316\n",
      "Number of attributes used not defined by BioProject: 19045\n",
      "Number of samples that actually use a BioProject attributes 2183317, which is 74.73%\n",
      "Number of keys that actually are BioProject attributes 9574210, which is 21.81%\n",
      "\n"
     ]
    }
   ],
   "source": [
    "print(outtext)"
   ]
  },
  {
   "cell_type": "markdown",
   "metadata": {
    "hidden": true
   },
   "source": [
    "### Determine the coverage of different attributes"
   ]
  },
  {
   "cell_type": "code",
   "execution_count": 35,
   "metadata": {
    "hidden": true
   },
   "outputs": [],
   "source": [
    "# Some samples have multiple values for one key, only keep the first\n",
    "currSRS = currSRS.loc[~currSRS.index.duplicated(keep='first')] \n",
    "\n",
    "# Build a new dataframe for the key (attribute) and values for each sample (srs) nd = no duplicates\n",
    "SRS_nd = pd.DataFrame(currSRS).reset_index()\n",
    "SRS_nd.columns = ['srs', 'attribute', 'value']\n",
    "SRS_nd = SRS_nd.set_index('srs')"
   ]
  },
  {
   "cell_type": "code",
   "execution_count": 36,
   "metadata": {
    "hidden": true
   },
   "outputs": [],
   "source": [
    "attributeCounts = SRS_nd['attribute'].value_counts()"
   ]
  },
  {
   "cell_type": "markdown",
   "metadata": {
    "heading_collapsed": true,
    "hidden": true
   },
   "source": [
    "#### (Optional) Normailze at all for sake of exploring issue with coverage of BioSample defined attributes "
   ]
  },
  {
   "cell_type": "code",
   "execution_count": null,
   "metadata": {
    "hidden": true
   },
   "outputs": [],
   "source": [
    "# From this example we also note the normalization problem in this data\n",
    "#outtext = outtext + ('TITLE: %d\\ntitle: %d\\nTitle: %d' % \n",
    "      #(attributeCounts['TITLE'], attributeCounts['title'], attributeCounts['Title']))"
   ]
  },
  {
   "cell_type": "code",
   "execution_count": null,
   "metadata": {
    "hidden": true
   },
   "outputs": [],
   "source": [
    "# Use a normalized (lowercased) version of df for coverage investigation\n",
    "#SRSlc_df = SRS_nd.apply(lambda x: x.astype(str).str.lower())\n",
    "#attributeCounts = SRSlc_df['attribute'].value_counts()"
   ]
  },
  {
   "cell_type": "code",
   "execution_count": null,
   "metadata": {
    "hidden": true
   },
   "outputs": [],
   "source": [
    "# See that it merges all the titles\n",
    "#attributeCounts['title']"
   ]
  },
  {
   "cell_type": "markdown",
   "metadata": {
    "heading_collapsed": true,
    "hidden": true
   },
   "source": [
    "#### <font color=red>Figure 2B:</font> Coverage of most used attributes"
   ]
  },
  {
   "cell_type": "code",
   "execution_count": 38,
   "metadata": {
    "hidden": true
   },
   "outputs": [],
   "source": [
    "top_attributes = attributeCounts.index\n",
    "top_attribute_coverage = find_coverage(top_attributes, attributeCounts, num_samples)\n",
    "#plot_attributes(find_coverage(top_attributes, attributeCounts, num_samples), main=\"Highest count attributes\")"
   ]
  },
  {
   "cell_type": "code",
   "execution_count": 39,
   "metadata": {
    "hidden": true
   },
   "outputs": [],
   "source": [
    "plt.tight_layout()\n",
    "ax = top_attribute_coverage.iloc[:20].plot.bar()\n",
    "ax.set_ylabel('% of samples with attribute')\n",
    "ax.set_xlabel('Attributes')\n",
    "for xtick_label in ax.get_xticklabels():\n",
    "    if xtick_label.get_text() in NCBI_attribute_df.index:\n",
    "        xtick_label.set_color('red')\n",
    "    else:\n",
    "        xtick_label.set_color('blue')\n",
    "plt.savefig('../results/figures/Figure2B.eps', dpi=600, bbox_inches=\"tight\")\n",
    "plt.savefig('../results/figures/Figure2B.png', dpi=600, bbox_inches=\"tight\")\n",
    "plt.close();"
   ]
  },
  {
   "cell_type": "markdown",
   "metadata": {
    "heading_collapsed": true,
    "hidden": true
   },
   "source": [
    "#### Coverage of NCBI attributes"
   ]
  },
  {
   "cell_type": "code",
   "execution_count": null,
   "metadata": {
    "hidden": true
   },
   "outputs": [],
   "source": [
    "ncbi_attributes = NCBI_attribute_df.index\n",
    "#plot_attributes(find_coverage(ncbi_attributes, attributeCounts, num_samples), main=\"Highest count NCBI defined attributes\")"
   ]
  },
  {
   "cell_type": "markdown",
   "metadata": {
    "heading_collapsed": true,
    "hidden": true
   },
   "source": [
    "#### <font color=red>Figure 2C:</font> Coverage of 11 classes"
   ]
  },
  {
   "cell_type": "code",
   "execution_count": 40,
   "metadata": {
    "hidden": true
   },
   "outputs": [],
   "source": [
    "important_attributes = ['SCIENTIFIC_NAME', 'strain', 'cell type', 'genotype', 'disease', 'sex', 'age',\n",
    "                        'molecular data type', 'platform', 'protocol']\n",
    "important_attribute_coverage = find_coverage(important_attributes, attributeCounts, num_samples)\n",
    "#plot_attributes(find_coverage(important_attributes, attributeCounts, num_samples), main=\"Attributes used for classification\", save='../results/Figure_1B.eps')"
   ]
  },
  {
   "cell_type": "code",
   "execution_count": 42,
   "metadata": {
    "hidden": true
   },
   "outputs": [],
   "source": [
    "plt.tight_layout()\n",
    "ax = important_attribute_coverage.iloc[:20].plot.bar()\n",
    "ax.set_ylabel('% of samples with attribute')\n",
    "ax.set_xlabel('Attributes')\n",
    "for xtick_label in ax.get_xticklabels():\n",
    "    if xtick_label.get_text() in NCBI_attribute_df.index:\n",
    "        xtick_label.set_color('red')\n",
    "    else:\n",
    "        xtick_label.set_color('blue')\n",
    "plt.savefig('../results/figures/Figure2C.eps', dpi=600, bbox_inches=\"tight\")\n",
    "plt.savefig('../results/figures/Figure2C.png', dpi=600, bbox_inches=\"tight\")\n",
    "plt.close();"
   ]
  },
  {
   "cell_type": "markdown",
   "metadata": {
    "heading_collapsed": true
   },
   "source": [
    "## <font color = red>Figure 2D:</font> Attribute word length and total characters"
   ]
  },
  {
   "cell_type": "code",
   "execution_count": 43,
   "metadata": {
    "hidden": true
   },
   "outputs": [],
   "source": [
    "SRS_df['attribute_len'] = SRS_df['value'].str.len()\n",
    "SRS_df['log_attribute_len'] = np.log2(SRS_df['attribute_len']+1)\n",
    "SRS_df['word_count'] = (SRS_df['value'].str.count(' ')+1)\n",
    "SRS_df['log_word_count'] = np.log2(SRS_df['word_count']+1)"
   ]
  },
  {
   "cell_type": "code",
   "execution_count": 44,
   "metadata": {
    "hidden": true
   },
   "outputs": [],
   "source": [
    "recurring_attributeCounts = attributeCounts[attributeCounts > 10000]\n",
    "SRS_rec = SRS_df[SRS_df.attribute.isin(recurring_attributeCounts.index)]"
   ]
  },
  {
   "cell_type": "code",
   "execution_count": 45,
   "metadata": {
    "hidden": true
   },
   "outputs": [],
   "source": [
    "longest_attributes = SRS_rec.groupby(['attribute']).mean().sort_values(\n",
    "    'log_attribute_len', ascending = False).iloc[:20].index"
   ]
  },
  {
   "cell_type": "code",
   "execution_count": 46,
   "metadata": {
    "hidden": true
   },
   "outputs": [],
   "source": [
    "dataframe_sub = SRS_df[SRS_df.attribute.isin(longest_attributes)]"
   ]
  },
  {
   "cell_type": "code",
   "execution_count": 48,
   "metadata": {
    "hidden": true
   },
   "outputs": [],
   "source": [
    "ax = sns.boxplot(data=SRS_df, x='attribute', y='log_attribute_len', order=longest_attributes, showfliers=False)\n",
    "plt.xticks(rotation=90)\n",
    "for xtick_label in ax.get_xticklabels():\n",
    "    if xtick_label.get_text() in NCBI_attribute_df.index:\n",
    "        xtick_label.set_color('red')\n",
    "    else:\n",
    "        xtick_label.set_color('blue')\n",
    "ax.set_ylabel('Log(average characters in attribute + 1)')\n",
    "ax.set_xlabel('Attributes')\n",
    "plt.savefig('../results/figures/Figure2D.eps', dpi=600, bbox_inches=\"tight\")\n",
    "plt.savefig('../results/figures/Figure2D.png', dpi=600, bbox_inches=\"tight\")\n",
    "plt.close();"
   ]
  },
  {
   "cell_type": "code",
   "execution_count": 49,
   "metadata": {
    "hidden": true
   },
   "outputs": [],
   "source": [
    "most_word_attributes = SRS_rec.groupby(['attribute']).mean().sort_values(\n",
    "    'word_count', ascending = False).iloc[:20].index"
   ]
  },
  {
   "cell_type": "code",
   "execution_count": 54,
   "metadata": {
    "hidden": true
   },
   "outputs": [],
   "source": [
    "# dataframe_sub = SRS_df[SRS_df.attribute.isin(most_word_attributes)]\n",
    "# ax = sns.boxplot(data=SRS_df, x='attribute', y='log_word_count', order=most_word_attributes)\n",
    "# plt.xticks(rotation=90)\n",
    "# for xtick_label in ax.get_xticklabels():\n",
    "#     if xtick_label.get_text() in NCBI_attribute_df.index:\n",
    "#         xtick_label.set_color('red')\n",
    "#     else:\n",
    "#         xtick_label.set_color('blue')\n",
    "# ax.set_ylabel('Log(average words in attribute + 1)')\n",
    "# ax.set_xlabel('Attributes')"
   ]
  },
  {
   "cell_type": "code",
   "execution_count": 51,
   "metadata": {
    "hidden": true
   },
   "outputs": [],
   "source": [
    "long_character_fraction = len(SRS_df[SRS_df['attribute_len'].values > 50].index.unique())/num_samples*100\n",
    "outtext = outtext + (\"Number of samples with an attribute of 50 characters or more: %.2f%%\\n\" % \n",
    "      long_character_fraction)"
   ]
  },
  {
   "cell_type": "code",
   "execution_count": 52,
   "metadata": {
    "hidden": true
   },
   "outputs": [],
   "source": [
    "long_word_fraction = len(SRS_df[SRS_df['word_count'].values >= 10].index.unique())/num_samples*100\n",
    "outtext = outtext + (\"Number of samples with an attribute of 10 words or more: %.2f%%\\n\" % \n",
    "      long_word_fraction)"
   ]
  },
  {
   "cell_type": "code",
   "execution_count": 53,
   "metadata": {
    "hidden": true
   },
   "outputs": [
    {
     "name": "stdout",
     "output_type": "stream",
     "text": [
      "Number of unique attributes in SRA BioProject Metadata: 19361\n",
      "Number of attributes defined by BioProject: 456\n",
      "Number of attributes defined by BioProject actually used: 316\n",
      "Number of attributes used not defined by BioProject: 19045\n",
      "Number of samples that actually use a BioProject attributes 2183317, which is 74.73%\n",
      "Number of keys that actually are BioProject attributes 9574210, which is 21.81%\n",
      "Number of samples with an attribute of 50 characters or more: 39.90%\n",
      "Number of samples with an attribute of 10 words or more: 31.06%\n",
      "\n"
     ]
    }
   ],
   "source": [
    "print(outtext)"
   ]
  },
  {
   "cell_type": "markdown",
   "metadata": {
    "heading_collapsed": true
   },
   "source": [
    "## Analyze high frequency tokens"
   ]
  },
  {
   "cell_type": "code",
   "execution_count": 55,
   "metadata": {
    "hidden": true
   },
   "outputs": [],
   "source": [
    "import nltk\n",
    "from nltk.corpus import stopwords\n",
    "from nltk.tokenize import TreebankWordTokenizer\n",
    "from collections import Counter\n",
    "import spacy"
   ]
  },
  {
   "cell_type": "code",
   "execution_count": 57,
   "metadata": {
    "hidden": true
   },
   "outputs": [],
   "source": [
    "nlp = spacy.load(\"en_core_web_sm\")\n",
    "SRA_docs = [nlp(x) for x in SRS_df.value.values[1:100] if len(x) > 0 ]"
   ]
  },
  {
   "cell_type": "code",
   "execution_count": 58,
   "metadata": {
    "hidden": true
   },
   "outputs": [],
   "source": [
    "tokenizer = TreebankWordTokenizer()\n",
    "SRA_dict = [tokenizer.tokenize(x.lower()) for x in SRS_df.value.values[1:100]]"
   ]
  },
  {
   "cell_type": "code",
   "execution_count": 61,
   "metadata": {
    "hidden": true
   },
   "outputs": [
    {
     "ename": "KeyError",
     "evalue": "'word_count'",
     "output_type": "error",
     "traceback": [
      "\u001b[0;31m---------------------------------------------------------------------------\u001b[0m",
      "\u001b[0;31mKeyError\u001b[0m                                  Traceback (most recent call last)",
      "\u001b[0;32m~/miniconda3/envs/deep_nlp_cpu/lib/python3.6/site-packages/pandas/core/indexes/base.py\u001b[0m in \u001b[0;36mget_loc\u001b[0;34m(self, key, method, tolerance)\u001b[0m\n\u001b[1;32m   3077\u001b[0m             \u001b[0;32mtry\u001b[0m\u001b[0;34m:\u001b[0m\u001b[0;34m\u001b[0m\u001b[0m\n\u001b[0;32m-> 3078\u001b[0;31m                 \u001b[0;32mreturn\u001b[0m \u001b[0mself\u001b[0m\u001b[0;34m.\u001b[0m\u001b[0m_engine\u001b[0m\u001b[0;34m.\u001b[0m\u001b[0mget_loc\u001b[0m\u001b[0;34m(\u001b[0m\u001b[0mkey\u001b[0m\u001b[0;34m)\u001b[0m\u001b[0;34m\u001b[0m\u001b[0m\n\u001b[0m\u001b[1;32m   3079\u001b[0m             \u001b[0;32mexcept\u001b[0m \u001b[0mKeyError\u001b[0m\u001b[0;34m:\u001b[0m\u001b[0;34m\u001b[0m\u001b[0m\n",
      "\u001b[0;32mpandas/_libs/index.pyx\u001b[0m in \u001b[0;36mpandas._libs.index.IndexEngine.get_loc\u001b[0;34m()\u001b[0m\n",
      "\u001b[0;32mpandas/_libs/index.pyx\u001b[0m in \u001b[0;36mpandas._libs.index.IndexEngine.get_loc\u001b[0;34m()\u001b[0m\n",
      "\u001b[0;32mpandas/_libs/hashtable_class_helper.pxi\u001b[0m in \u001b[0;36mpandas._libs.hashtable.PyObjectHashTable.get_item\u001b[0;34m()\u001b[0m\n",
      "\u001b[0;32mpandas/_libs/hashtable_class_helper.pxi\u001b[0m in \u001b[0;36mpandas._libs.hashtable.PyObjectHashTable.get_item\u001b[0;34m()\u001b[0m\n",
      "\u001b[0;31mKeyError\u001b[0m: 'word_count'",
      "\nDuring handling of the above exception, another exception occurred:\n",
      "\u001b[0;31mKeyError\u001b[0m                                  Traceback (most recent call last)",
      "\u001b[0;32m<ipython-input-61-523284b7d562>\u001b[0m in \u001b[0;36m<module>\u001b[0;34m\u001b[0m\n\u001b[0;32m----> 1\u001b[0;31m \u001b[0msum\u001b[0m\u001b[0;34m(\u001b[0m\u001b[0mSRS_df\u001b[0m\u001b[0;34m[\u001b[0m\u001b[0;34m'word_count'\u001b[0m\u001b[0;34m]\u001b[0m\u001b[0;34m.\u001b[0m\u001b[0mvalue_counts\u001b[0m\u001b[0;34m(\u001b[0m\u001b[0;34m)\u001b[0m\u001b[0;34m.\u001b[0m\u001b[0miloc\u001b[0m\u001b[0;34m[\u001b[0m\u001b[0;36m0\u001b[0m\u001b[0;34m:\u001b[0m\u001b[0;36m3\u001b[0m\u001b[0;34m]\u001b[0m\u001b[0;34m)\u001b[0m\u001b[0;34m/\u001b[0m\u001b[0mSRS_df\u001b[0m\u001b[0;34m.\u001b[0m\u001b[0mshape\u001b[0m\u001b[0;34m[\u001b[0m\u001b[0;36m0\u001b[0m\u001b[0;34m]\u001b[0m\u001b[0;34m\u001b[0m\u001b[0m\n\u001b[0m",
      "\u001b[0;32m~/miniconda3/envs/deep_nlp_cpu/lib/python3.6/site-packages/pandas/core/frame.py\u001b[0m in \u001b[0;36m__getitem__\u001b[0;34m(self, key)\u001b[0m\n\u001b[1;32m   2686\u001b[0m             \u001b[0;32mreturn\u001b[0m \u001b[0mself\u001b[0m\u001b[0;34m.\u001b[0m\u001b[0m_getitem_multilevel\u001b[0m\u001b[0;34m(\u001b[0m\u001b[0mkey\u001b[0m\u001b[0;34m)\u001b[0m\u001b[0;34m\u001b[0m\u001b[0m\n\u001b[1;32m   2687\u001b[0m         \u001b[0;32melse\u001b[0m\u001b[0;34m:\u001b[0m\u001b[0;34m\u001b[0m\u001b[0m\n\u001b[0;32m-> 2688\u001b[0;31m             \u001b[0;32mreturn\u001b[0m \u001b[0mself\u001b[0m\u001b[0;34m.\u001b[0m\u001b[0m_getitem_column\u001b[0m\u001b[0;34m(\u001b[0m\u001b[0mkey\u001b[0m\u001b[0;34m)\u001b[0m\u001b[0;34m\u001b[0m\u001b[0m\n\u001b[0m\u001b[1;32m   2689\u001b[0m \u001b[0;34m\u001b[0m\u001b[0m\n\u001b[1;32m   2690\u001b[0m     \u001b[0;32mdef\u001b[0m \u001b[0m_getitem_column\u001b[0m\u001b[0;34m(\u001b[0m\u001b[0mself\u001b[0m\u001b[0;34m,\u001b[0m \u001b[0mkey\u001b[0m\u001b[0;34m)\u001b[0m\u001b[0;34m:\u001b[0m\u001b[0;34m\u001b[0m\u001b[0m\n",
      "\u001b[0;32m~/miniconda3/envs/deep_nlp_cpu/lib/python3.6/site-packages/pandas/core/frame.py\u001b[0m in \u001b[0;36m_getitem_column\u001b[0;34m(self, key)\u001b[0m\n\u001b[1;32m   2693\u001b[0m         \u001b[0;31m# get column\u001b[0m\u001b[0;34m\u001b[0m\u001b[0;34m\u001b[0m\u001b[0m\n\u001b[1;32m   2694\u001b[0m         \u001b[0;32mif\u001b[0m \u001b[0mself\u001b[0m\u001b[0;34m.\u001b[0m\u001b[0mcolumns\u001b[0m\u001b[0;34m.\u001b[0m\u001b[0mis_unique\u001b[0m\u001b[0;34m:\u001b[0m\u001b[0;34m\u001b[0m\u001b[0m\n\u001b[0;32m-> 2695\u001b[0;31m             \u001b[0;32mreturn\u001b[0m \u001b[0mself\u001b[0m\u001b[0;34m.\u001b[0m\u001b[0m_get_item_cache\u001b[0m\u001b[0;34m(\u001b[0m\u001b[0mkey\u001b[0m\u001b[0;34m)\u001b[0m\u001b[0;34m\u001b[0m\u001b[0m\n\u001b[0m\u001b[1;32m   2696\u001b[0m \u001b[0;34m\u001b[0m\u001b[0m\n\u001b[1;32m   2697\u001b[0m         \u001b[0;31m# duplicate columns & possible reduce dimensionality\u001b[0m\u001b[0;34m\u001b[0m\u001b[0;34m\u001b[0m\u001b[0m\n",
      "\u001b[0;32m~/miniconda3/envs/deep_nlp_cpu/lib/python3.6/site-packages/pandas/core/generic.py\u001b[0m in \u001b[0;36m_get_item_cache\u001b[0;34m(self, item)\u001b[0m\n\u001b[1;32m   2487\u001b[0m         \u001b[0mres\u001b[0m \u001b[0;34m=\u001b[0m \u001b[0mcache\u001b[0m\u001b[0;34m.\u001b[0m\u001b[0mget\u001b[0m\u001b[0;34m(\u001b[0m\u001b[0mitem\u001b[0m\u001b[0;34m)\u001b[0m\u001b[0;34m\u001b[0m\u001b[0m\n\u001b[1;32m   2488\u001b[0m         \u001b[0;32mif\u001b[0m \u001b[0mres\u001b[0m \u001b[0;32mis\u001b[0m \u001b[0;32mNone\u001b[0m\u001b[0;34m:\u001b[0m\u001b[0;34m\u001b[0m\u001b[0m\n\u001b[0;32m-> 2489\u001b[0;31m             \u001b[0mvalues\u001b[0m \u001b[0;34m=\u001b[0m \u001b[0mself\u001b[0m\u001b[0;34m.\u001b[0m\u001b[0m_data\u001b[0m\u001b[0;34m.\u001b[0m\u001b[0mget\u001b[0m\u001b[0;34m(\u001b[0m\u001b[0mitem\u001b[0m\u001b[0;34m)\u001b[0m\u001b[0;34m\u001b[0m\u001b[0m\n\u001b[0m\u001b[1;32m   2490\u001b[0m             \u001b[0mres\u001b[0m \u001b[0;34m=\u001b[0m \u001b[0mself\u001b[0m\u001b[0;34m.\u001b[0m\u001b[0m_box_item_values\u001b[0m\u001b[0;34m(\u001b[0m\u001b[0mitem\u001b[0m\u001b[0;34m,\u001b[0m \u001b[0mvalues\u001b[0m\u001b[0;34m)\u001b[0m\u001b[0;34m\u001b[0m\u001b[0m\n\u001b[1;32m   2491\u001b[0m             \u001b[0mcache\u001b[0m\u001b[0;34m[\u001b[0m\u001b[0mitem\u001b[0m\u001b[0;34m]\u001b[0m \u001b[0;34m=\u001b[0m \u001b[0mres\u001b[0m\u001b[0;34m\u001b[0m\u001b[0m\n",
      "\u001b[0;32m~/miniconda3/envs/deep_nlp_cpu/lib/python3.6/site-packages/pandas/core/internals.py\u001b[0m in \u001b[0;36mget\u001b[0;34m(self, item, fastpath)\u001b[0m\n\u001b[1;32m   4113\u001b[0m \u001b[0;34m\u001b[0m\u001b[0m\n\u001b[1;32m   4114\u001b[0m             \u001b[0;32mif\u001b[0m \u001b[0;32mnot\u001b[0m \u001b[0misna\u001b[0m\u001b[0;34m(\u001b[0m\u001b[0mitem\u001b[0m\u001b[0;34m)\u001b[0m\u001b[0;34m:\u001b[0m\u001b[0;34m\u001b[0m\u001b[0m\n\u001b[0;32m-> 4115\u001b[0;31m                 \u001b[0mloc\u001b[0m \u001b[0;34m=\u001b[0m \u001b[0mself\u001b[0m\u001b[0;34m.\u001b[0m\u001b[0mitems\u001b[0m\u001b[0;34m.\u001b[0m\u001b[0mget_loc\u001b[0m\u001b[0;34m(\u001b[0m\u001b[0mitem\u001b[0m\u001b[0;34m)\u001b[0m\u001b[0;34m\u001b[0m\u001b[0m\n\u001b[0m\u001b[1;32m   4116\u001b[0m             \u001b[0;32melse\u001b[0m\u001b[0;34m:\u001b[0m\u001b[0;34m\u001b[0m\u001b[0m\n\u001b[1;32m   4117\u001b[0m                 \u001b[0mindexer\u001b[0m \u001b[0;34m=\u001b[0m \u001b[0mnp\u001b[0m\u001b[0;34m.\u001b[0m\u001b[0marange\u001b[0m\u001b[0;34m(\u001b[0m\u001b[0mlen\u001b[0m\u001b[0;34m(\u001b[0m\u001b[0mself\u001b[0m\u001b[0;34m.\u001b[0m\u001b[0mitems\u001b[0m\u001b[0;34m)\u001b[0m\u001b[0;34m)\u001b[0m\u001b[0;34m[\u001b[0m\u001b[0misna\u001b[0m\u001b[0;34m(\u001b[0m\u001b[0mself\u001b[0m\u001b[0;34m.\u001b[0m\u001b[0mitems\u001b[0m\u001b[0;34m)\u001b[0m\u001b[0;34m]\u001b[0m\u001b[0;34m\u001b[0m\u001b[0m\n",
      "\u001b[0;32m~/miniconda3/envs/deep_nlp_cpu/lib/python3.6/site-packages/pandas/core/indexes/base.py\u001b[0m in \u001b[0;36mget_loc\u001b[0;34m(self, key, method, tolerance)\u001b[0m\n\u001b[1;32m   3078\u001b[0m                 \u001b[0;32mreturn\u001b[0m \u001b[0mself\u001b[0m\u001b[0;34m.\u001b[0m\u001b[0m_engine\u001b[0m\u001b[0;34m.\u001b[0m\u001b[0mget_loc\u001b[0m\u001b[0;34m(\u001b[0m\u001b[0mkey\u001b[0m\u001b[0;34m)\u001b[0m\u001b[0;34m\u001b[0m\u001b[0m\n\u001b[1;32m   3079\u001b[0m             \u001b[0;32mexcept\u001b[0m \u001b[0mKeyError\u001b[0m\u001b[0;34m:\u001b[0m\u001b[0;34m\u001b[0m\u001b[0m\n\u001b[0;32m-> 3080\u001b[0;31m                 \u001b[0;32mreturn\u001b[0m \u001b[0mself\u001b[0m\u001b[0;34m.\u001b[0m\u001b[0m_engine\u001b[0m\u001b[0;34m.\u001b[0m\u001b[0mget_loc\u001b[0m\u001b[0;34m(\u001b[0m\u001b[0mself\u001b[0m\u001b[0;34m.\u001b[0m\u001b[0m_maybe_cast_indexer\u001b[0m\u001b[0;34m(\u001b[0m\u001b[0mkey\u001b[0m\u001b[0;34m)\u001b[0m\u001b[0;34m)\u001b[0m\u001b[0;34m\u001b[0m\u001b[0m\n\u001b[0m\u001b[1;32m   3081\u001b[0m \u001b[0;34m\u001b[0m\u001b[0m\n\u001b[1;32m   3082\u001b[0m         \u001b[0mindexer\u001b[0m \u001b[0;34m=\u001b[0m \u001b[0mself\u001b[0m\u001b[0;34m.\u001b[0m\u001b[0mget_indexer\u001b[0m\u001b[0;34m(\u001b[0m\u001b[0;34m[\u001b[0m\u001b[0mkey\u001b[0m\u001b[0;34m]\u001b[0m\u001b[0;34m,\u001b[0m \u001b[0mmethod\u001b[0m\u001b[0;34m=\u001b[0m\u001b[0mmethod\u001b[0m\u001b[0;34m,\u001b[0m \u001b[0mtolerance\u001b[0m\u001b[0;34m=\u001b[0m\u001b[0mtolerance\u001b[0m\u001b[0;34m)\u001b[0m\u001b[0;34m\u001b[0m\u001b[0m\n",
      "\u001b[0;32mpandas/_libs/index.pyx\u001b[0m in \u001b[0;36mpandas._libs.index.IndexEngine.get_loc\u001b[0;34m()\u001b[0m\n",
      "\u001b[0;32mpandas/_libs/index.pyx\u001b[0m in \u001b[0;36mpandas._libs.index.IndexEngine.get_loc\u001b[0;34m()\u001b[0m\n",
      "\u001b[0;32mpandas/_libs/hashtable_class_helper.pxi\u001b[0m in \u001b[0;36mpandas._libs.hashtable.PyObjectHashTable.get_item\u001b[0;34m()\u001b[0m\n",
      "\u001b[0;32mpandas/_libs/hashtable_class_helper.pxi\u001b[0m in \u001b[0;36mpandas._libs.hashtable.PyObjectHashTable.get_item\u001b[0;34m()\u001b[0m\n",
      "\u001b[0;31mKeyError\u001b[0m: 'word_count'"
     ]
    }
   ],
   "source": [
    "sum(SRS_df['word_count'].value_counts().iloc[0:3])/SRS_df.shape[0]"
   ]
  },
  {
   "cell_type": "code",
   "execution_count": null,
   "metadata": {
    "hidden": true
   },
   "outputs": [],
   "source": [
    "SRS_df['word_count'].value_counts().iloc[5:8]/SRS_df.shape[0]"
   ]
  },
  {
   "cell_type": "code",
   "execution_count": null,
   "metadata": {
    "hidden": true
   },
   "outputs": [],
   "source": [
    "SRS_df['attribute'] = \"Sex\""
   ]
  }
 ],
 "metadata": {
  "kernelspec": {
   "display_name": "deep_nlp_cpu",
   "language": "python",
   "name": "deep_nlp_cpu"
  },
  "language_info": {
   "codemirror_mode": {
    "name": "ipython",
    "version": 3
   },
   "file_extension": ".py",
   "mimetype": "text/x-python",
   "name": "python",
   "nbconvert_exporter": "python",
   "pygments_lexer": "ipython3",
   "version": "3.6.6"
  },
  "toc": {
   "base_numbering": 1,
   "nav_menu": {},
   "number_sections": true,
   "sideBar": true,
   "skip_h1_title": false,
   "title_cell": "Table of Contents",
   "title_sidebar": "Contents",
   "toc_cell": true,
   "toc_position": {
    "height": "calc(100% - 180px)",
    "left": "10px",
    "top": "150px",
    "width": "384px"
   },
   "toc_section_display": true,
   "toc_window_display": true
  }
 },
 "nbformat": 4,
 "nbformat_minor": 4
}
