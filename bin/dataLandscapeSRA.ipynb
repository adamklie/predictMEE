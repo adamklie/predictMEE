{
 "cells": [
  {
   "cell_type": "markdown",
   "metadata": {},
   "source": [
    "# SRA BioSample data landscape\n",
    "Adam Klie<br>\n",
    "10/17/2019<br>\n",
    "Script to analyze the metadata landscape of BioSample entries in SRA"
   ]
  },
  {
   "cell_type": "markdown",
   "metadata": {},
   "source": [
    "### Import needed packages and set up plotting"
   ]
  },
  {
   "cell_type": "code",
   "execution_count": 1,
   "metadata": {},
   "outputs": [],
   "source": [
    "%matplotlib inline\n",
    "from tqdm import tqdm\n",
    "import pandas as pd\n",
    "import numpy as np\n",
    "import matplotlib.pyplot as plt\n",
    "import brewer2mpl\n",
    "import seaborn as sns\n",
    "from IPython.display import display, HTML"
   ]
  },
  {
   "cell_type": "code",
   "execution_count": 39,
   "metadata": {},
   "outputs": [],
   "source": [
    "from matplotlib import rcParams\n",
    "import matplotlib as mpl\n",
    "\n",
    "#colorbrewer2 Dark2 qualitative color table\n",
    "dark2_colors = brewer2mpl.get_map('Dark2', 'Qualitative', 7).mpl_colors\n",
    "\n",
    "rcParams['figure.figsize'] = (10, 6)\n",
    "rcParams['figure.dpi'] = 600\n",
    "rcParams['axes.prop_cycle'] = mpl.cycler(color=dark2_colors) \n",
    "rcParams['lines.linewidth'] = 2\n",
    "rcParams['axes.facecolor'] = 'white'\n",
    "rcParams['font.size'] = 14\n",
    "rcParams['patch.edgecolor'] = 'white'\n",
    "rcParams['patch.facecolor'] = dark2_colors[0]\n",
    "rcParams['font.family'] = 'StixGeneral'\n",
    "\n",
    "\n",
    "def remove_border(axes=None, top=False, right=False, left=True, bottom=True):\n",
    "    \"\"\"\n",
    "    Minimize chartjunk by stripping out unnecesasry plot borders and axis ticks\n",
    "    \n",
    "    The top/right/left/bottom keywords toggle whether the corresponding plot border is drawn\n",
    "    \"\"\"\n",
    "    ax = axes or plt.gca()\n",
    "    ax.spines['top'].set_visible(top)\n",
    "    ax.spines['right'].set_visible(right)\n",
    "    ax.spines['left'].set_visible(left)\n",
    "    ax.spines['bottom'].set_visible(bottom)\n",
    "    \n",
    "    #turn off all ticks\n",
    "    ax.yaxis.set_ticks_position('none')\n",
    "    ax.xaxis.set_ticks_position('none')\n",
    "    \n",
    "    #now re-enable visibles\n",
    "    if top:\n",
    "        ax.xaxis.tick_top()\n",
    "    if bottom:\n",
    "        ax.xaxis.tick_bottom()\n",
    "    if left:\n",
    "        ax.yaxis.tick_left()\n",
    "    if right:\n",
    "        ax.yaxis.tick_right()"
   ]
  },
  {
   "cell_type": "markdown",
   "metadata": {},
   "source": [
    "### Helper Functions to find and plot counts and coverage"
   ]
  },
  {
   "cell_type": "code",
   "execution_count": 9,
   "metadata": {},
   "outputs": [],
   "source": [
    "def find_coverage(attributes, attributeCounts, num_samples):\n",
    "    coverage = {}\n",
    "    for attribute in attributes:\n",
    "        if attribute in attributeCounts.index:\n",
    "            coverage[attribute] = attributeCounts[attribute]/num_samples*100\n",
    "    return(pd.Series(coverage).sort_values(ascending=False))\n",
    "\n",
    "def find_counts(attributes, attributeCounts, num_samples):\n",
    "    counts = {}\n",
    "    for attribute in attributes:\n",
    "        if attribute in attributeCounts.index:\n",
    "            counts[attribute] = attributeCounts[attribute]\n",
    "    return(pd.Series(counts).sort_values(ascending=False))\n",
    "\n",
    "def plot_attributes(data, n=20, ylab='of samples with attribute', plot_type='%', main='', save=None):\n",
    "    plt.tight_layout()\n",
    "    ax = data.iloc[:n].plot.bar()\n",
    "    ax.set_ylabel(plot_type + ' ' + ylab)\n",
    "    ax.set_xlabel('Attributes')\n",
    "    ax.set_title(main)\n",
    "    for xtick_label in ax.get_xticklabels():\n",
    "        if xtick_label.get_text() in NCBI_attribute_df.index:\n",
    "            xtick_label.set_color('red')\n",
    "        else:\n",
    "            xtick_label.set_color('blue')\n",
    "    if save != None:\n",
    "        plt.savefig(save, dpi=1200, bbox_inches=\"tight\")\n",
    "            \n",
    "def plot_mulitple_attributes(data, ax=None, n=10, ylab ='% of samples with attribute', **kwargs):\n",
    "    ax = ax or plt.gca()\n",
    "    ax.set_ylabel(ylab)\n",
    "    ax.set_xlabel('Attributes')\n",
    "    for xtick_label in ax.get_xticklabels():\n",
    "        xtick_label.set_rotation(90)\n",
    "        if xtick_label.get_text() in NCBI_attribute_df.index:\n",
    "            xtick_label.set_color('red')\n",
    "        else:\n",
    "            xtick_label.set_color('blue')\n",
    "    return ax.bar(data.iloc[:n].index, data.iloc[:n].values)"
   ]
  },
  {
   "cell_type": "markdown",
   "metadata": {},
   "source": [
    "### 1. Read in downloaded SRA BioSample key-value pairs and NCBI defined attributes"
   ]
  },
  {
   "cell_type": "code",
   "execution_count": 10,
   "metadata": {},
   "outputs": [],
   "source": [
    "# Load SRA BioSample key-value pairs\n",
    "SRS_dir = \"../data/allSRS_05_15_2018.pickle\"\n",
    "allSRS = pd.read_pickle(SRS_dir)"
   ]
  },
  {
   "cell_type": "code",
   "execution_count": 11,
   "metadata": {},
   "outputs": [],
   "source": [
    "# Also read in the attributes defined by the NCBI BioSample\n",
    "NCBI_attribute_df = pd.read_pickle('../data/BioSampleAttributes.pickle')"
   ]
  },
  {
   "cell_type": "code",
   "execution_count": 12,
   "metadata": {},
   "outputs": [
    {
     "data": {
      "text/plain": [
       "ERS069057  TITLE                                Streptococcus pneumoniae\n",
       "           SCIENTIFIC_NAME                      Streptococcus pneumoniae\n",
       "           SUBMITTER_ID          SN20648-sc-2011-11-03T19:59:41Z-1101437\n",
       "           Strain                                                       \n",
       "           Sample Description                                           \n",
       "dtype: object"
      ]
     },
     "metadata": {},
     "output_type": "display_data"
    },
    {
     "data": {
      "text/html": [
       "<div>\n",
       "<style scoped>\n",
       "    .dataframe tbody tr th:only-of-type {\n",
       "        vertical-align: middle;\n",
       "    }\n",
       "\n",
       "    .dataframe tbody tr th {\n",
       "        vertical-align: top;\n",
       "    }\n",
       "\n",
       "    .dataframe thead th {\n",
       "        text-align: right;\n",
       "    }\n",
       "</style>\n",
       "<table border=\"1\" class=\"dataframe\">\n",
       "  <thead>\n",
       "    <tr style=\"text-align: right;\">\n",
       "      <th></th>\n",
       "      <th>Description</th>\n",
       "      <th>Format</th>\n",
       "      <th>HarmonizedName</th>\n",
       "      <th>Package</th>\n",
       "      <th>Synonym</th>\n",
       "    </tr>\n",
       "    <tr>\n",
       "      <th>Name</th>\n",
       "      <th></th>\n",
       "      <th></th>\n",
       "      <th></th>\n",
       "      <th></th>\n",
       "      <th></th>\n",
       "    </tr>\n",
       "  </thead>\n",
       "  <tbody>\n",
       "    <tr>\n",
       "      <th>EDTA inhibitor tested</th>\n",
       "      <td>Was carbapenemase activity tested in the prese...</td>\n",
       "      <td>['', 'yes', 'no', 'missing', 'not applicable',...</td>\n",
       "      <td>edta_inhibitor_tested</td>\n",
       "      <td>Beta-lactamase.1.0</td>\n",
       "      <td>edta inhibitor tested</td>\n",
       "    </tr>\n",
       "    <tr>\n",
       "      <th>FAO classification</th>\n",
       "      <td>soil classification from the FAO World Referen...</td>\n",
       "      <td>{term}</td>\n",
       "      <td>fao_class</td>\n",
       "      <td>MIUVIG.soil.5.0</td>\n",
       "      <td>soil taxonomic/fao classification</td>\n",
       "    </tr>\n",
       "    <tr>\n",
       "      <th>HIV status</th>\n",
       "      <td>HIV status of subject, if yes HAART initiation...</td>\n",
       "      <td>{boolean};{boolean}</td>\n",
       "      <td>hiv_stat</td>\n",
       "      <td>NaN</td>\n",
       "      <td>hiv status</td>\n",
       "    </tr>\n",
       "    <tr>\n",
       "      <th>NARMS isolate number</th>\n",
       "      <td>isolate identifier for the collection of isola...</td>\n",
       "      <td>{text}</td>\n",
       "      <td>narms_isolate_number</td>\n",
       "      <td>NaN</td>\n",
       "      <td>narms isolate number</td>\n",
       "    </tr>\n",
       "    <tr>\n",
       "      <th>Omics Observatory ID</th>\n",
       "      <td>A unique identifier of the omics-enabled obser...</td>\n",
       "      <td>{term}</td>\n",
       "      <td>omics_observ_id</td>\n",
       "      <td>MIUVIG.water.5.0</td>\n",
       "      <td>omics_observ_id</td>\n",
       "    </tr>\n",
       "  </tbody>\n",
       "</table>\n",
       "</div>"
      ],
      "text/plain": [
       "                                                             Description  \\\n",
       "Name                                                                       \n",
       "EDTA inhibitor tested  Was carbapenemase activity tested in the prese...   \n",
       "FAO classification     soil classification from the FAO World Referen...   \n",
       "HIV status             HIV status of subject, if yes HAART initiation...   \n",
       "NARMS isolate number   isolate identifier for the collection of isola...   \n",
       "Omics Observatory ID   A unique identifier of the omics-enabled obser...   \n",
       "\n",
       "                                                                  Format  \\\n",
       "Name                                                                       \n",
       "EDTA inhibitor tested  ['', 'yes', 'no', 'missing', 'not applicable',...   \n",
       "FAO classification                                                {term}   \n",
       "HIV status                                           {boolean};{boolean}   \n",
       "NARMS isolate number                                              {text}   \n",
       "Omics Observatory ID                                              {term}   \n",
       "\n",
       "                              HarmonizedName             Package  \\\n",
       "Name                                                               \n",
       "EDTA inhibitor tested  edta_inhibitor_tested  Beta-lactamase.1.0   \n",
       "FAO classification                 fao_class     MIUVIG.soil.5.0   \n",
       "HIV status                          hiv_stat                 NaN   \n",
       "NARMS isolate number    narms_isolate_number                 NaN   \n",
       "Omics Observatory ID         omics_observ_id    MIUVIG.water.5.0   \n",
       "\n",
       "                                                 Synonym  \n",
       "Name                                                      \n",
       "EDTA inhibitor tested              edta inhibitor tested  \n",
       "FAO classification     soil taxonomic/fao classification  \n",
       "HIV status                                    hiv status  \n",
       "NARMS isolate number                narms isolate number  \n",
       "Omics Observatory ID                     omics_observ_id  "
      ]
     },
     "execution_count": 12,
     "metadata": {},
     "output_type": "execute_result"
    }
   ],
   "source": [
    "display(allSRS.head())\n",
    "NCBI_attribute_df.head()"
   ]
  },
  {
   "cell_type": "markdown",
   "metadata": {},
   "source": [
    "#### (Optional) Subset the dataframe for human samples"
   ]
  },
  {
   "cell_type": "code",
   "execution_count": null,
   "metadata": {},
   "outputs": [],
   "source": [
    "scientific_name_m = allSRS.index.get_level_values(1) == 'SCIENTIFIC_NAME'\n",
    "hs_m = allSRS.values == 'Homo sapiens'\n",
    "hs = allSRS[scientific_name_m & hs_m].index.get_level_values(0)\n",
    "hs_SRS =  allSRS[allSRS.index.get_level_values(0).isin(hs)]"
   ]
  },
  {
   "cell_type": "markdown",
   "metadata": {},
   "source": [
    "#### (Optional) Subset the series for those samples that have a title"
   ]
  },
  {
   "cell_type": "code",
   "execution_count": null,
   "metadata": {},
   "outputs": [],
   "source": [
    "title_m= allSRS[(allSRS.index.get_level_values(1) == 'TITLE')].index.get_level_values(0)\n",
    "title_SRS = allSRS[allSRS.index.get_level_values(0).isin(title_m)]"
   ]
  },
  {
   "cell_type": "markdown",
   "metadata": {},
   "source": [
    "#### Choose what data you want to analyze, the entire dataset or some subset, build a dataframe to aid with analysis"
   ]
  },
  {
   "cell_type": "code",
   "execution_count": 13,
   "metadata": {},
   "outputs": [],
   "source": [
    "currSRS = allSRS  # all of BioSample annotations"
   ]
  },
  {
   "cell_type": "code",
   "execution_count": 14,
   "metadata": {},
   "outputs": [],
   "source": [
    "# build a dataframe for the key (attribute) and values for each sample (srs)\n",
    "SRS_df = pd.DataFrame(currSRS).reset_index()\n",
    "SRS_df.columns = ['srs', 'attribute', 'value']\n",
    "SRS_df = SRS_df.set_index('srs')"
   ]
  },
  {
   "cell_type": "markdown",
   "metadata": {},
   "source": [
    "### <font color = red>Figure 1A</font>"
   ]
  },
  {
   "cell_type": "code",
   "execution_count": 63,
   "metadata": {},
   "outputs": [],
   "source": [
    "classes = ['SCIENTIFIC_NAME', 'genotype', 'strain' 'cell type', 'disease', 'sex', 'age', 'molecular data type', 'platform', 'protocol']"
   ]
  },
  {
   "cell_type": "code",
   "execution_count": 72,
   "metadata": {},
   "outputs": [],
   "source": [
    "class_SRS_df = SRS_df[SRS_df['attribute'].isin(classes)]"
   ]
  },
  {
   "cell_type": "code",
   "execution_count": 73,
   "metadata": {},
   "outputs": [
    {
     "data": {
      "text/html": [
       "<div>\n",
       "<style scoped>\n",
       "    .dataframe tbody tr th:only-of-type {\n",
       "        vertical-align: middle;\n",
       "    }\n",
       "\n",
       "    .dataframe tbody tr th {\n",
       "        vertical-align: top;\n",
       "    }\n",
       "\n",
       "    .dataframe thead th {\n",
       "        text-align: right;\n",
       "    }\n",
       "</style>\n",
       "<table border=\"1\" class=\"dataframe\">\n",
       "  <thead>\n",
       "    <tr style=\"text-align: right;\">\n",
       "      <th></th>\n",
       "      <th>attribute</th>\n",
       "      <th>value</th>\n",
       "      <th>attribute_len</th>\n",
       "      <th>log_attribute_len</th>\n",
       "      <th>word_count</th>\n",
       "      <th>log_word_count</th>\n",
       "    </tr>\n",
       "    <tr>\n",
       "      <th>srs</th>\n",
       "      <th></th>\n",
       "      <th></th>\n",
       "      <th></th>\n",
       "      <th></th>\n",
       "      <th></th>\n",
       "      <th></th>\n",
       "    </tr>\n",
       "  </thead>\n",
       "  <tbody>\n",
       "    <tr>\n",
       "      <th>SRS441497</th>\n",
       "      <td>platform</td>\n",
       "      <td>Illumina HiSeq 2000</td>\n",
       "      <td>19</td>\n",
       "      <td>4.321928</td>\n",
       "      <td>3</td>\n",
       "      <td>2.000000</td>\n",
       "    </tr>\n",
       "    <tr>\n",
       "      <th>SRS438070</th>\n",
       "      <td>SCIENTIFIC_NAME</td>\n",
       "      <td>Homo sapiens</td>\n",
       "      <td>12</td>\n",
       "      <td>3.700440</td>\n",
       "      <td>2</td>\n",
       "      <td>1.584963</td>\n",
       "    </tr>\n",
       "    <tr>\n",
       "      <th>SRS1884219</th>\n",
       "      <td>sex</td>\n",
       "      <td>not applicable</td>\n",
       "      <td>14</td>\n",
       "      <td>3.906891</td>\n",
       "      <td>2</td>\n",
       "      <td>1.584963</td>\n",
       "    </tr>\n",
       "    <tr>\n",
       "      <th>SRS2222927</th>\n",
       "      <td>molecular data type</td>\n",
       "      <td>SNP Genotypes (NGS)</td>\n",
       "      <td>19</td>\n",
       "      <td>4.321928</td>\n",
       "      <td>3</td>\n",
       "      <td>2.000000</td>\n",
       "    </tr>\n",
       "    <tr>\n",
       "      <th>SRS1630076</th>\n",
       "      <td>age</td>\n",
       "      <td>2 years</td>\n",
       "      <td>7</td>\n",
       "      <td>3.000000</td>\n",
       "      <td>2</td>\n",
       "      <td>1.584963</td>\n",
       "    </tr>\n",
       "    <tr>\n",
       "      <th>SRS752582</th>\n",
       "      <td>disease</td>\n",
       "      <td>Acute Myeloid Leukemia</td>\n",
       "      <td>22</td>\n",
       "      <td>4.523562</td>\n",
       "      <td>3</td>\n",
       "      <td>2.000000</td>\n",
       "    </tr>\n",
       "    <tr>\n",
       "      <th>SRS877909</th>\n",
       "      <td>genotype</td>\n",
       "      <td>124</td>\n",
       "      <td>3</td>\n",
       "      <td>2.000000</td>\n",
       "      <td>1</td>\n",
       "      <td>1.000000</td>\n",
       "    </tr>\n",
       "    <tr>\n",
       "      <th>SRS1274093</th>\n",
       "      <td>protocol</td>\n",
       "      <td>48h dox induction</td>\n",
       "      <td>17</td>\n",
       "      <td>4.169925</td>\n",
       "      <td>3</td>\n",
       "      <td>2.000000</td>\n",
       "    </tr>\n",
       "  </tbody>\n",
       "</table>\n",
       "</div>"
      ],
      "text/plain": [
       "                      attribute                   value  attribute_len  \\\n",
       "srs                                                                      \n",
       "SRS441497              platform     Illumina HiSeq 2000             19   \n",
       "SRS438070       SCIENTIFIC_NAME            Homo sapiens             12   \n",
       "SRS1884219                  sex          not applicable             14   \n",
       "SRS2222927  molecular data type     SNP Genotypes (NGS)             19   \n",
       "SRS1630076                  age                 2 years              7   \n",
       "SRS752582               disease  Acute Myeloid Leukemia             22   \n",
       "SRS877909              genotype                     124              3   \n",
       "SRS1274093             protocol       48h dox induction             17   \n",
       "\n",
       "            log_attribute_len  word_count  log_word_count  \n",
       "srs                                                        \n",
       "SRS441497            4.321928           3        2.000000  \n",
       "SRS438070            3.700440           2        1.584963  \n",
       "SRS1884219           3.906891           2        1.584963  \n",
       "SRS2222927           4.321928           3        2.000000  \n",
       "SRS1630076           3.000000           2        1.584963  \n",
       "SRS752582            4.523562           3        2.000000  \n",
       "SRS877909            2.000000           1        1.000000  \n",
       "SRS1274093           4.169925           3        2.000000  "
      ]
     },
     "execution_count": 73,
     "metadata": {},
     "output_type": "execute_result"
    }
   ],
   "source": [
    "example_df = class_SRS_df.sample(class_SRS_df.shape[0]).groupby('attribute').head(1)\n",
    "example_df"
   ]
  },
  {
   "cell_type": "code",
   "execution_count": 74,
   "metadata": {},
   "outputs": [],
   "source": [
    "example_df.to_csv('../results/figures/Figure1A.csv')"
   ]
  },
  {
   "cell_type": "markdown",
   "metadata": {},
   "source": [
    "### 2. Overall data landscape "
   ]
  },
  {
   "cell_type": "markdown",
   "metadata": {},
   "source": [
    "#### Find the total number of annotations and of samples with annotations"
   ]
  },
  {
   "cell_type": "code",
   "execution_count": 16,
   "metadata": {},
   "outputs": [],
   "source": [
    "attributeCounts = SRS_df['attribute'].value_counts()"
   ]
  },
  {
   "cell_type": "code",
   "execution_count": 17,
   "metadata": {},
   "outputs": [],
   "source": [
    "outtext = \"\""
   ]
  },
  {
   "cell_type": "code",
   "execution_count": 18,
   "metadata": {},
   "outputs": [
    {
     "data": {
      "text/plain": [
       "43907007"
      ]
     },
     "execution_count": 18,
     "metadata": {},
     "output_type": "execute_result"
    }
   ],
   "source": [
    "totalAttributes = len(currSRS)\n",
    "outtext = outtext + (\"Number of BioSample key-value pairs: %d\\n\" % totalAttributes)\n",
    "totalAttributes"
   ]
  },
  {
   "cell_type": "code",
   "execution_count": 19,
   "metadata": {},
   "outputs": [],
   "source": [
    "num_samples = SRS_df.loc[~SRS_df.index.duplicated(keep='first')].shape[0]\n",
    "outtext = outtext + (\"Number of BioSample entries: %d\\n\" % num_samples)"
   ]
  },
  {
   "cell_type": "code",
   "execution_count": 20,
   "metadata": {},
   "outputs": [],
   "source": [
    "averageAnnotations = totalAttributes/num_samples\n",
    "outtext = outtext + (\"The average number of attributes per BioSample in SRA: %.2f\\n\" % averageAnnotations)"
   ]
  },
  {
   "cell_type": "code",
   "execution_count": 21,
   "metadata": {},
   "outputs": [
    {
     "name": "stdout",
     "output_type": "stream",
     "text": [
      "Number of BioSample key-value pairs: 43907007\n",
      "Number of BioSample entries: 2921722\n",
      "The average number of attributes per BioSample in SRA: 15.03\n",
      "\n"
     ]
    }
   ],
   "source": [
    "print(outtext)"
   ]
  },
  {
   "cell_type": "markdown",
   "metadata": {},
   "source": [
    "### 3. Compare attributes defined by NCBI to the user-defined"
   ]
  },
  {
   "cell_type": "code",
   "execution_count": 22,
   "metadata": {},
   "outputs": [],
   "source": [
    "m = SRS_df[\"attribute\"].isin(NCBI_attribute_df.index)\n",
    "in_NCBI = SRS_df[m]\n",
    "not_in_NCBI = SRS_df[~m]\n",
    "n = len(in_NCBI.index.unique())\n",
    "n1 = in_NCBI.shape[0]"
   ]
  },
  {
   "cell_type": "code",
   "execution_count": 23,
   "metadata": {},
   "outputs": [],
   "source": [
    "outtext = \"\""
   ]
  },
  {
   "cell_type": "code",
   "execution_count": 24,
   "metadata": {},
   "outputs": [],
   "source": [
    "outtext = outtext + (\"Number of unique attributes in SRA BioProject Metadata: %d\\n\" % len((SRS_df['attribute'].unique())))"
   ]
  },
  {
   "cell_type": "code",
   "execution_count": 25,
   "metadata": {},
   "outputs": [],
   "source": [
    "outtext = outtext + (\"Number of attributes defined by BioProject: %d\\n\" % NCBI_attribute_df.shape[0])"
   ]
  },
  {
   "cell_type": "code",
   "execution_count": 26,
   "metadata": {},
   "outputs": [],
   "source": [
    "outtext = outtext + (\"Number of attributes defined by BioProject actually used: %d\\n\" % len(in_NCBI['attribute'].unique()))"
   ]
  },
  {
   "cell_type": "code",
   "execution_count": 27,
   "metadata": {},
   "outputs": [],
   "source": [
    "outtext = outtext + (\"Number of attributes used not defined by BioProject: %d\\n\" % len(not_in_NCBI['attribute'].unique()))"
   ]
  },
  {
   "cell_type": "code",
   "execution_count": 28,
   "metadata": {},
   "outputs": [],
   "source": [
    "outtext = outtext + (\"Number of samples that actually use a BioProject attributes %d, \" \\\n",
    "     \"which is %.2f%%\\n\" % (n, 100*n/num_samples))\n",
    "outtext = outtext + (\"Number of keys that actually are BioProject attributes %d, \" \\\n",
    "     \"which is %.2f%%\\n\" % (n1, 100*n1/totalAttributes))"
   ]
  },
  {
   "cell_type": "code",
   "execution_count": 29,
   "metadata": {},
   "outputs": [
    {
     "name": "stdout",
     "output_type": "stream",
     "text": [
      "Number of unique attributes in SRA BioProject Metadata: 19361\n",
      "Number of attributes defined by BioProject: 456\n",
      "Number of attributes defined by BioProject actually used: 316\n",
      "Number of attributes used not defined by BioProject: 19045\n",
      "Number of samples that actually use a BioProject attributes 2183317, which is 74.73%\n",
      "Number of keys that actually are BioProject attributes 9574210, which is 21.81%\n",
      "\n"
     ]
    }
   ],
   "source": [
    "print(outtext)"
   ]
  },
  {
   "cell_type": "markdown",
   "metadata": {},
   "source": [
    "### 4. Determine the coverage of different attributes"
   ]
  },
  {
   "cell_type": "code",
   "execution_count": 30,
   "metadata": {},
   "outputs": [],
   "source": [
    "# Some samples have multiple values for one key, only keep the first\n",
    "currSRS = currSRS.loc[~currSRS.index.duplicated(keep='first')] \n",
    "\n",
    "# Build a new dataframe for the key (attribute) and values for each sample (srs) nd = no duplicates\n",
    "SRS_nd = pd.DataFrame(currSRS).reset_index()\n",
    "SRS_nd.columns = ['srs', 'attribute', 'value']\n",
    "SRS_nd = SRS_nd.set_index('srs')"
   ]
  },
  {
   "cell_type": "code",
   "execution_count": 31,
   "metadata": {},
   "outputs": [],
   "source": [
    "attributeCounts = SRS_nd['attribute'].value_counts()"
   ]
  },
  {
   "cell_type": "markdown",
   "metadata": {},
   "source": [
    "##### Won't normailze at all for sake of exploring issue with coverage of BioSample defined attributes "
   ]
  },
  {
   "cell_type": "code",
   "execution_count": null,
   "metadata": {},
   "outputs": [],
   "source": [
    "# From this example we also note the normalization problem in this data\n",
    "#outtext = outtext + ('TITLE: %d\\ntitle: %d\\nTitle: %d' % \n",
    "      #(attributeCounts['TITLE'], attributeCounts['title'], attributeCounts['Title']))"
   ]
  },
  {
   "cell_type": "code",
   "execution_count": null,
   "metadata": {},
   "outputs": [],
   "source": [
    "# Use a normalized (lowercased) version of df for coverage investigation\n",
    "#SRSlc_df = SRS_nd.apply(lambda x: x.astype(str).str.lower())\n",
    "#attributeCounts = SRSlc_df['attribute'].value_counts()"
   ]
  },
  {
   "cell_type": "code",
   "execution_count": null,
   "metadata": {},
   "outputs": [],
   "source": [
    "# See that it merges all the titles\n",
    "#attributeCounts['title']"
   ]
  },
  {
   "cell_type": "markdown",
   "metadata": {},
   "source": [
    "### <font color=red>Figure 1B</font>"
   ]
  },
  {
   "cell_type": "code",
   "execution_count": 32,
   "metadata": {},
   "outputs": [],
   "source": [
    "top_attributes = attributeCounts.index\n",
    "top_attribute_coverage = find_coverage(top_attributes, attributeCounts, num_samples)\n",
    "#plot_attributes(find_coverage(top_attributes, attributeCounts, num_samples), main=\"Highest count attributes\")"
   ]
  },
  {
   "cell_type": "code",
   "execution_count": 75,
   "metadata": {},
   "outputs": [],
   "source": [
    "plt.tight_layout()\n",
    "ax = top_attribute_coverage.iloc[:20].plot.bar()\n",
    "ax.set_ylabel('% of samples with attribute')\n",
    "ax.set_xlabel('Attributes')\n",
    "for xtick_label in ax.get_xticklabels():\n",
    "    if xtick_label.get_text() in NCBI_attribute_df.index:\n",
    "        xtick_label.set_color('red')\n",
    "    else:\n",
    "        xtick_label.set_color('blue')\n",
    "plt.savefig('../results/figures/Figure1B.eps', dpi=600, bbox_inches=\"tight\")\n",
    "plt.savefig('../results/figures/Figure1B.png', dpi=600, bbox_inches=\"tight\")\n",
    "plt.close();"
   ]
  },
  {
   "cell_type": "code",
   "execution_count": 51,
   "metadata": {},
   "outputs": [],
   "source": [
    "ncbi_attributes = NCBI_attribute_df.index\n",
    "#plot_attributes(find_coverage(ncbi_attributes, attributeCounts, num_samples), main=\"Highest count NCBI defined attributes\")"
   ]
  },
  {
   "cell_type": "markdown",
   "metadata": {},
   "source": [
    "### <font color=red>Figure 1C</font>"
   ]
  },
  {
   "cell_type": "code",
   "execution_count": 52,
   "metadata": {},
   "outputs": [],
   "source": [
    "important_attributes = ['SCIENTIFIC_NAME', 'strain', 'cell type', 'genotype', 'disease', 'sex', 'age',\n",
    "                        'molecular data type', 'platform', 'protocol']\n",
    "important_attribute_coverage = find_coverage(important_attributes, attributeCounts, num_samples)\n",
    "#plot_attributes(find_coverage(important_attributes, attributeCounts, num_samples), main=\"Attributes used for classification\", save='../results/Figure_1B.eps')"
   ]
  },
  {
   "cell_type": "code",
   "execution_count": 76,
   "metadata": {},
   "outputs": [],
   "source": [
    "plt.tight_layout()\n",
    "ax = important_attribute_coverage.iloc[:20].plot.bar()\n",
    "ax.set_ylabel('% of samples with attribute')\n",
    "ax.set_xlabel('Attributes')\n",
    "for xtick_label in ax.get_xticklabels():\n",
    "    if xtick_label.get_text() in NCBI_attribute_df.index:\n",
    "        xtick_label.set_color('red')\n",
    "    else:\n",
    "        xtick_label.set_color('blue')\n",
    "plt.savefig('../results/figures/Figure1C.eps', dpi=600, bbox_inches=\"tight\")\n",
    "plt.savefig('../results/figures/Figure1C.png', dpi=600, bbox_inches=\"tight\")\n",
    "plt.close();"
   ]
  },
  {
   "cell_type": "markdown",
   "metadata": {},
   "source": [
    "#### Look at attribute word length and total characters to find possible longer text to pull things out of "
   ]
  },
  {
   "cell_type": "code",
   "execution_count": 54,
   "metadata": {},
   "outputs": [],
   "source": [
    "SRS_df['attribute_len'] = SRS_df['value'].str.len()\n",
    "SRS_df['log_attribute_len'] = np.log2(SRS_df['attribute_len']+1)\n",
    "SRS_df['word_count'] = (SRS_df['value'].str.count(' ')+1)\n",
    "SRS_df['log_word_count'] = np.log2(SRS_df['word_count']+1)"
   ]
  },
  {
   "cell_type": "code",
   "execution_count": 55,
   "metadata": {},
   "outputs": [],
   "source": [
    "recurring_attributeCounts = attributeCounts[attributeCounts > 10000]\n",
    "SRS_rec = SRS_df[SRS_df.attribute.isin(recurring_attributeCounts.index)]"
   ]
  },
  {
   "cell_type": "code",
   "execution_count": 56,
   "metadata": {},
   "outputs": [],
   "source": [
    "longest_attributes = SRS_rec.groupby(['attribute']).mean().sort_values(\n",
    "    'log_attribute_len', ascending = False).iloc[:20].index"
   ]
  },
  {
   "cell_type": "code",
   "execution_count": 57,
   "metadata": {},
   "outputs": [],
   "source": [
    "dataframe_sub = SRS_df[SRS_df.attribute.isin(longest_attributes)]"
   ]
  },
  {
   "cell_type": "markdown",
   "metadata": {},
   "source": [
    "### <font color = red>Figure 1D</font>"
   ]
  },
  {
   "cell_type": "code",
   "execution_count": 77,
   "metadata": {},
   "outputs": [],
   "source": [
    "ax = sns.boxplot(data=SRS_df, x='attribute', y='log_attribute_len', order=longest_attributes)\n",
    "plt.xticks(rotation=90)\n",
    "for xtick_label in ax.get_xticklabels():\n",
    "    if xtick_label.get_text() in NCBI_attribute_df.index:\n",
    "        xtick_label.set_color('red')\n",
    "    else:\n",
    "        xtick_label.set_color('blue')\n",
    "ax.set_ylabel('Log(average characters in attribute + 1)')\n",
    "ax.set_xlabel('Attributes')\n",
    "plt.savefig('../results/figures/Figure1D.eps', dpi=600, bbox_inches=\"tight\")\n",
    "plt.savefig('../results/figures/Figure1D.png', dpi=600, bbox_inches=\"tight\")\n",
    "plt.close();"
   ]
  },
  {
   "cell_type": "code",
   "execution_count": null,
   "metadata": {},
   "outputs": [],
   "source": [
    "most_word_attributes = SRS_rec.groupby(['attribute']).mean().sort_values(\n",
    "    'word_count', ascending = False).iloc[:20].index"
   ]
  },
  {
   "cell_type": "code",
   "execution_count": null,
   "metadata": {},
   "outputs": [],
   "source": [
    "dataframe_sub = SRS_df[SRS_df.attribute.isin(most_word_attributes)]\n",
    "ax = sns.boxplot(data=SRS_df, x='attribute', y='log_word_count', order=most_word_attributes)\n",
    "plt.xticks(rotation=90)\n",
    "for xtick_label in ax.get_xticklabels():\n",
    "    if xtick_label.get_text() in NCBI_attribute_df.index:\n",
    "        xtick_label.set_color('red')\n",
    "    else:\n",
    "        xtick_label.set_color('blue')\n",
    "ax.set_ylabel('Log(average words in attribute + 1)')\n",
    "ax.set_xlabel('Attributes')\n"
   ]
  },
  {
   "cell_type": "code",
   "execution_count": null,
   "metadata": {},
   "outputs": [],
   "source": [
    "long_character_fraction = len(SRS_df[SRS_df['attribute_len'].values > 50].index.unique())/num_samples*100\n",
    "outtext = outtext + (\"Number of samples with an attribute of 50 characters or more: %.2f%%\\n\" % \n",
    "      long_character_fraction)"
   ]
  },
  {
   "cell_type": "code",
   "execution_count": null,
   "metadata": {},
   "outputs": [],
   "source": [
    "long_word_fraction = len(SRS_df[SRS_df['word_count'].values >= 10].index.unique())/num_samples*100\n",
    "outtext = outtext + (\"Number of samples with an attribute of 10 words or more: %.2f%%\\n\" % \n",
    "      long_word_fraction)"
   ]
  },
  {
   "cell_type": "code",
   "execution_count": null,
   "metadata": {},
   "outputs": [],
   "source": [
    "print(outtext)"
   ]
  },
  {
   "cell_type": "markdown",
   "metadata": {},
   "source": [
    "#### Analyze high frequency tokens"
   ]
  },
  {
   "cell_type": "code",
   "execution_count": null,
   "metadata": {},
   "outputs": [],
   "source": [
    "import nltk\n",
    "from nltk.corpus import stopwords\n",
    "from nltk.tokenize import TreebankWordTokenizer\n",
    "from collections import Counter"
   ]
  },
  {
   "cell_type": "code",
   "execution_count": null,
   "metadata": {},
   "outputs": [],
   "source": [
    "import spacy\n",
    "# Load the installed model \"en_core_web_sm\"\n",
    "nlp = spacy.load(\"en_core_web_sm\")"
   ]
  },
  {
   "cell_type": "code",
   "execution_count": null,
   "metadata": {},
   "outputs": [],
   "source": [
    "nlp = spacy.load(\"en_core_web_sm\")\n",
    "SRA_docs = [nlp(x) for x in SRS_df.value.values[1:100] if len(x) > 0 ]"
   ]
  },
  {
   "cell_type": "code",
   "execution_count": null,
   "metadata": {},
   "outputs": [],
   "source": [
    "tokenizer = TreebankWordTokenizer()\n",
    "SRA_dict = [tokenizer.tokenize(x.lower()) for x in SRS_df.value.values[1:100]]"
   ]
  },
  {
   "cell_type": "code",
   "execution_count": null,
   "metadata": {},
   "outputs": [],
   "source": [
    "currSRS = allSRS\n",
    "# build a dataframe for the key (attribute) and values for each sample (srs)\n",
    "SRS_df = pd.DataFrame(currSRS).reset_index()\n",
    "SRS_df.columns = ['srs', 'attribute', 'value']\n",
    "SRS_df = SRS_df.set_index('srs')"
   ]
  },
  {
   "cell_type": "code",
   "execution_count": null,
   "metadata": {},
   "outputs": [],
   "source": [
    "SRS_df['value'].value_counts()"
   ]
  },
  {
   "cell_type": "code",
   "execution_count": null,
   "metadata": {},
   "outputs": [],
   "source": [
    "sum(SRS_df['word_count'].value_counts().iloc[0:3])/SRS_df.shape[0]"
   ]
  },
  {
   "cell_type": "code",
   "execution_count": null,
   "metadata": {},
   "outputs": [],
   "source": [
    "SRS_df['word_count'].value_counts().iloc[5:8]/SRS_df.shape[0]"
   ]
  },
  {
   "cell_type": "code",
   "execution_count": null,
   "metadata": {},
   "outputs": [],
   "source": [
    "SRS_df['attribute'] = \"Sex\""
   ]
  }
 ],
 "metadata": {
  "kernelspec": {
   "display_name": "deep_nlp_cpu",
   "language": "python",
   "name": "deep_nlp_cpu"
  },
  "language_info": {
   "codemirror_mode": {
    "name": "ipython",
    "version": 3
   },
   "file_extension": ".py",
   "mimetype": "text/x-python",
   "name": "python",
   "nbconvert_exporter": "python",
   "pygments_lexer": "ipython3",
   "version": "3.6.6"
  }
 },
 "nbformat": 4,
 "nbformat_minor": 4
}
