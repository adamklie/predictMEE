{
 "cells": [
  {
   "cell_type": "markdown",
   "metadata": {},
   "source": [
    "# Generating and evaluating validation<br>Adam Klie<br>12/08/2019<br>Script to predict generate and then evaluate prediction on validation"
   ]
  },
  {
   "cell_type": "markdown",
   "metadata": {},
   "source": [
    "#### Import necessary packages"
   ]
  },
  {
   "cell_type": "code",
   "execution_count": 5,
   "metadata": {},
   "outputs": [],
   "source": [
    "%matplotlib inline\n",
    "from tqdm import tqdm\n",
    "import pandas as pd\n",
    "import numpy as np\n",
    "import matplotlib.pyplot as plt\n",
    "import seaborn as sns"
   ]
  },
  {
   "cell_type": "markdown",
   "metadata": {},
   "source": [
    "#### Read in key-value pairs and create pandas dataframe"
   ]
  },
  {
   "cell_type": "code",
   "execution_count": 6,
   "metadata": {},
   "outputs": [],
   "source": [
    "# SRA BioSample key-value pairs\n",
    "SRS_dir = \"../data/allSRS_05_15_2018.pickle\"\n",
    "allSRS = pd.read_pickle(SRS_dir)"
   ]
  },
  {
   "cell_type": "code",
   "execution_count": 7,
   "metadata": {},
   "outputs": [],
   "source": [
    "SRS_df = pd.DataFrame(allSRS).reset_index()\n",
    "SRS_df.columns = ['srs', 'attribute', 'value']\n",
    "SRS_df = SRS_df.set_index('srs')"
   ]
  },
  {
   "cell_type": "markdown",
   "metadata": {},
   "source": [
    "#### Keep only samples with a TITLE longer than certain length and choose class to evaluate"
   ]
  },
  {
   "cell_type": "code",
   "execution_count": 8,
   "metadata": {},
   "outputs": [],
   "source": [
    "title_len = 5 # min length of titles to predict on"
   ]
  },
  {
   "cell_type": "code",
   "execution_count": 9,
   "metadata": {},
   "outputs": [],
   "source": [
    "SRS_df['word_count'] = (SRS_df['value'].str.count(' ') + 1)\n",
    "validation_srs = SRS_df[(SRS_df['attribute'].isin(['TITLE'])) & (SRS_df['word_count'] >= title_len)].index\n",
    "validation_all = SRS_df.loc[validation_srs].sample(validation_srs.shape[0])"
   ]
  },
  {
   "cell_type": "code",
   "execution_count": 10,
   "metadata": {},
   "outputs": [],
   "source": [
    "# Filter out any samples with non-usable values\n",
    "filterTextList = ['not collected','not applicable','missing','n[/]?a','unknown', '-', '--', 'none', 'no']\n",
    "filterTextRegex = \"|\".join(map(lambda myStr:'(?:{})'.format(myStr), filterTextList))\n",
    "filter_mask = validation_all['value'].str.contains(filterTextRegex, case=False)\n",
    "validation_all = validation_all[~filter_mask]"
   ]
  },
  {
   "cell_type": "markdown",
   "metadata": {},
   "source": [
    "#### Get all the annotations for those samples that have these TITLES"
   ]
  },
  {
   "cell_type": "code",
   "execution_count": 11,
   "metadata": {},
   "outputs": [],
   "source": [
    "model_iter = 'simple'"
   ]
  },
  {
   "cell_type": "code",
   "execution_count": 59,
   "metadata": {},
   "outputs": [],
   "source": [
    "srs_class = 'tissue'\n",
    "predicted_class = 'Tissue'\n",
    "nDupTextMax = 1  # number of duplicate values allowed\n",
    "numSamples = 1000  # number of samples to evaluate for a give class"
   ]
  },
  {
   "cell_type": "code",
   "execution_count": 60,
   "metadata": {},
   "outputs": [
    {
     "data": {
      "text/plain": [
       "leaf                 275\n",
       "Pancreatic islets    125\n",
       "blood                123\n",
       "liver                101\n",
       "whole blood           92\n",
       "Name: value, dtype: int64"
      ]
     },
     "execution_count": 60,
     "metadata": {},
     "output_type": "execute_result"
    }
   ],
   "source": [
    "# Get a dataframe with the class values to try to predict for this specific class\n",
    "tmp_df = validation_all[validation_all['attribute'] == srs_class]\n",
    "tmp_df['value'].value_counts().head()"
   ]
  },
  {
   "cell_type": "code",
   "execution_count": 61,
   "metadata": {
    "scrolled": true
   },
   "outputs": [
    {
     "data": {
      "text/plain": [
       "(768, 3)"
      ]
     },
     "execution_count": 61,
     "metadata": {},
     "output_type": "execute_result"
    }
   ],
   "source": [
    "total_samples = tmp_df.groupby(['value']).head(n = nDupTextMax).shape[0]\n",
    "class_validation = tmp_df.groupby(['value']).head(n = nDupTextMax).sample(min(numSamples, total_samples))\n",
    "class_validation.shape"
   ]
  },
  {
   "cell_type": "code",
   "execution_count": 62,
   "metadata": {},
   "outputs": [],
   "source": [
    "# Get the TITLES for this validation set\n",
    "validation_sample_ids = class_validation.index\n",
    "validation_samples = SRS_df.loc[validation_sample_ids]\n",
    "validation_titles = validation_samples[\n",
    "    validation_samples['attribute'].isin(['TITLE'])].reset_index().set_index(['srs', 'attribute'])\n",
    "validation_set = validation_titles['value']  # get a series object compatible with prediction script"
   ]
  },
  {
   "cell_type": "code",
   "execution_count": 63,
   "metadata": {},
   "outputs": [
    {
     "data": {
      "text/plain": [
       "srs         attribute\n",
       "SRS2429072  TITLE                 RNAseq of Zea mays Mo17 zygotene anthers\n",
       "SRS1414639  TITLE                     Xenopus borealis male, son of family\n",
       "SRS679173   TITLE         Human CD4+ alpha chain TCR repertoire HV01_CD4+a\n",
       "SRS583052   TITLE                      Patient AR prostate tumor tissue 18\n",
       "SRS625786   TITLE        Model organism or animal sample from Orcinus orca\n",
       "Name: value, dtype: object"
      ]
     },
     "execution_count": 63,
     "metadata": {},
     "output_type": "execute_result"
    }
   ],
   "source": [
    "# See what these look like and print the number\n",
    "validation_set.head()"
   ]
  },
  {
   "cell_type": "code",
   "execution_count": 64,
   "metadata": {
    "scrolled": true
   },
   "outputs": [
    {
     "data": {
      "text/html": [
       "<div>\n",
       "<style scoped>\n",
       "    .dataframe tbody tr th:only-of-type {\n",
       "        vertical-align: middle;\n",
       "    }\n",
       "\n",
       "    .dataframe tbody tr th {\n",
       "        vertical-align: top;\n",
       "    }\n",
       "\n",
       "    .dataframe thead th {\n",
       "        text-align: right;\n",
       "    }\n",
       "</style>\n",
       "<table border=\"1\" class=\"dataframe\">\n",
       "  <thead>\n",
       "    <tr style=\"text-align: right;\">\n",
       "      <th></th>\n",
       "      <th></th>\n",
       "      <th>value</th>\n",
       "    </tr>\n",
       "    <tr>\n",
       "      <th>srs</th>\n",
       "      <th>attribute</th>\n",
       "      <th></th>\n",
       "    </tr>\n",
       "  </thead>\n",
       "  <tbody>\n",
       "    <tr>\n",
       "      <th>SRS2429072</th>\n",
       "      <th>TITLE</th>\n",
       "      <td>RNAseq of Zea mays Mo17 zygotene anthers</td>\n",
       "    </tr>\n",
       "    <tr>\n",
       "      <th>SRS1414639</th>\n",
       "      <th>TITLE</th>\n",
       "      <td>Xenopus borealis male, son of family</td>\n",
       "    </tr>\n",
       "    <tr>\n",
       "      <th>SRS679173</th>\n",
       "      <th>TITLE</th>\n",
       "      <td>Human CD4+ alpha chain TCR repertoire HV01_CD4+a</td>\n",
       "    </tr>\n",
       "    <tr>\n",
       "      <th>SRS583052</th>\n",
       "      <th>TITLE</th>\n",
       "      <td>Patient AR prostate tumor tissue 18</td>\n",
       "    </tr>\n",
       "    <tr>\n",
       "      <th>SRS625786</th>\n",
       "      <th>TITLE</th>\n",
       "      <td>Model organism or animal sample from Orcinus orca</td>\n",
       "    </tr>\n",
       "  </tbody>\n",
       "</table>\n",
       "</div>"
      ],
      "text/plain": [
       "                                                                  value\n",
       "srs        attribute                                                   \n",
       "SRS2429072 TITLE               RNAseq of Zea mays Mo17 zygotene anthers\n",
       "SRS1414639 TITLE                   Xenopus borealis male, son of family\n",
       "SRS679173  TITLE       Human CD4+ alpha chain TCR repertoire HV01_CD4+a\n",
       "SRS583052  TITLE                    Patient AR prostate tumor tissue 18\n",
       "SRS625786  TITLE      Model organism or animal sample from Orcinus orca"
      ]
     },
     "metadata": {},
     "output_type": "display_data"
    }
   ],
   "source": [
    "display(pd.DataFrame(validation_set).head())"
   ]
  },
  {
   "cell_type": "code",
   "execution_count": 65,
   "metadata": {},
   "outputs": [],
   "source": [
    "class_validation.to_pickle(\n",
    "'../results/{myclass}_validation_values.pickle'.format(model = model_iter, myclass = predicted_class))"
   ]
  },
  {
   "cell_type": "code",
   "execution_count": 66,
   "metadata": {},
   "outputs": [],
   "source": [
    "validation_set.to_pickle(\n",
    "    '../results/{myclass}_validation_set.pickle'.format(model = model_iter, myclass = predicted_class))"
   ]
  },
  {
   "cell_type": "code",
   "execution_count": 78,
   "metadata": {},
   "outputs": [],
   "source": [
    "validations = [\"Species\", \"Cell type\", \"Genotype\", \"Condition-Disease\", \"Tissue\"]\n",
    "test_SRSs = []\n",
    "for valid in validations:\n",
    "    if \n",
    "    curr_df = pd.read_pickle('../results/{myclass}_validation_set.pickle'.format(myclass = predicted_class))\n",
    "    test_SRSs = test_SRSs + list(curr_df.index.get_level_values('srs'))"
   ]
  },
  {
   "cell_type": "code",
   "execution_count": 80,
   "metadata": {},
   "outputs": [],
   "source": [
    "test_list = set(test_SRSs)"
   ]
  },
  {
   "cell_type": "code",
   "execution_count": 87,
   "metadata": {},
   "outputs": [],
   "source": [
    "with open('../results/test_SRSs_{model}.txt'.format(model=model_iter), 'w') as f:\n",
    "    f.writelines('\\n'.join(test_list))"
   ]
  }
 ],
 "metadata": {
  "kernelspec": {
   "display_name": "Python 3",
   "language": "python",
   "name": "python3"
  },
  "language_info": {
   "codemirror_mode": {
    "name": "ipython",
    "version": 3
   },
   "file_extension": ".py",
   "mimetype": "text/x-python",
   "name": "python",
   "nbconvert_exporter": "python",
   "pygments_lexer": "ipython3",
   "version": "3.6.6"
  }
 },
 "nbformat": 4,
 "nbformat_minor": 4
}
