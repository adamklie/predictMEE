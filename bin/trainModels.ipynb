{
 "cells": [
  {
   "cell_type": "markdown",
   "metadata": {},
   "source": [
    "# Train a bi-LSTM to predict short entities<br>Adam Klie<br>11/17/2019<br>Script to train a model based on merged entities passed in and training set decided on"
   ]
  },
  {
   "cell_type": "markdown",
   "metadata": {},
   "source": [
    "#### Import necessry packages"
   ]
  },
  {
   "cell_type": "code",
   "execution_count": 1,
   "metadata": {},
   "outputs": [
    {
     "name": "stderr",
     "output_type": "stream",
     "text": [
      "/cellar/users/aklie/miniconda3/envs/deep_nlp_cpu/lib/python3.6/importlib/_bootstrap.py:219: RuntimeWarning: numpy.dtype size changed, may indicate binary incompatibility. Expected 96, got 88\n",
      "  return f(*args, **kwds)\n",
      "/cellar/users/aklie/miniconda3/envs/deep_nlp_cpu/lib/python3.6/importlib/_bootstrap.py:219: RuntimeWarning: numpy.ufunc size changed, may indicate binary incompatibility. Expected 192, got 176\n",
      "  return f(*args, **kwds)\n",
      "/cellar/users/aklie/miniconda3/envs/deep_nlp_cpu/lib/python3.6/importlib/_bootstrap.py:219: RuntimeWarning: numpy.dtype size changed, may indicate binary incompatibility. Expected 96, got 88\n",
      "  return f(*args, **kwds)\n",
      "/cellar/users/aklie/miniconda3/envs/deep_nlp_cpu/lib/python3.6/importlib/_bootstrap.py:219: RuntimeWarning: numpy.ufunc size changed, may indicate binary incompatibility. Expected 192, got 176\n",
      "  return f(*args, **kwds)\n",
      "Using TensorFlow backend.\n"
     ]
    }
   ],
   "source": [
    "import numpy as np\n",
    "import pandas as pd\n",
    "from tqdm import tqdm\n",
    "import matplotlib.pyplot as plt\n",
    "import matplotlib\n",
    "import seaborn as sns\n",
    "import spacy\n",
    "import tensorflow\n",
    "import keras\n",
    "from keras.models import Sequential, model_from_json, load_model\n",
    "from keras.layers import LSTM, Dense, Embedding, Bidirectional\n",
    "from keras.layers import TimeDistributed\n",
    "from keras.optimizers import Adam\n",
    "from sklearn import preprocessing, metrics"
   ]
  },
  {
   "cell_type": "code",
   "execution_count": null,
   "metadata": {},
   "outputs": [],
   "source": [
    "print(\"Num GPUs Available: \", len(tensorflow.config.experimental.list_physical_devices('GPU')))"
   ]
  },
  {
   "cell_type": "markdown",
   "metadata": {},
   "source": [
    "#### Helper functions"
   ]
  },
  {
   "cell_type": "code",
   "execution_count": 2,
   "metadata": {},
   "outputs": [],
   "source": [
    "# Function to build LSTM model.\n",
    "# embeddings: an mxn matrix of word embeddings with m words and n features for each word (this case is 5443656 x 200)\n",
    "# shape: parameter split into number of hidden units, \n",
    "def compile_lstm(embeddings, shape, settings):  # function definition\n",
    "    model = Sequential()\n",
    "    model.add(Embedding(embeddings.shape[0],\n",
    "                        embeddings.shape[1],\n",
    "                        input_length=shape['max_length'],\n",
    "                        trainable=False,\n",
    "                        weights=[embeddings],\n",
    "                        mask_zero=True))\n",
    "    \n",
    "    #the same dense layer is first applied extract the most useful info from embedding layers\n",
    "    model.add(TimeDistributed(Dense(shape['nr_hidden'], use_bias=False)))\n",
    "    model.add(Bidirectional(LSTM(shape['nr_hidden'],\n",
    "                                 recurrent_dropout=settings['dropout'],\n",
    "                                 dropout=settings['dropout'])))\n",
    "    model.add(Dense(shape['nr_class'], activation='sigmoid'))\n",
    "    model.compile(optimizer=Adam(lr=settings['lr']), loss='categorical_crossentropy', metrics=['accuracy'])\n",
    "    return model\n",
    "\n",
    "def get_features(docs, max_length):\n",
    "    docs = list(docs)\n",
    "    Xs = np.zeros((len(docs), max_length), dtype='int32')\n",
    "    for i, doc in tqdm(enumerate(docs),total=len(docs)):\n",
    "        j = 0\n",
    "        for token in doc:\n",
    "            ##rever to word vector\n",
    "            vector_id = token.vocab.vectors.find(key=token.orth)\n",
    "            if vector_id >= 0:\n",
    "                Xs[i, j] = vector_id\n",
    "            else:\n",
    "                Xs[i, j] = 0\n",
    "            j += 1\n",
    "            if j >= max_length:\n",
    "                break\n",
    "    return Xs"
   ]
  },
  {
   "cell_type": "markdown",
   "metadata": {},
   "source": [
    "### 1. Load in data"
   ]
  },
  {
   "cell_type": "code",
   "execution_count": 3,
   "metadata": {},
   "outputs": [],
   "source": [
    "model_iter = 'simple'"
   ]
  },
  {
   "cell_type": "markdown",
   "metadata": {},
   "source": [
    "#### Read in the BioSample annotations and build dataframe"
   ]
  },
  {
   "cell_type": "code",
   "execution_count": 4,
   "metadata": {},
   "outputs": [],
   "source": [
    "# Read in pandas Series from file\n",
    "SRS_dir = \"../data/allSRS_05_15_2018.pickle\"\n",
    "allSRS = pd.read_pickle(SRS_dir)"
   ]
  },
  {
   "cell_type": "markdown",
   "metadata": {},
   "source": [
    "#### Read in metadata on BioSample entries that will allow us to cap on study"
   ]
  },
  {
   "cell_type": "code",
   "execution_count": 5,
   "metadata": {},
   "outputs": [],
   "source": [
    "sra_dump_pickle_dir = '../data/sra_dump.pickle'\n",
    "technical_meta_data_df = pd.read_pickle(sra_dump_pickle_dir)"
   ]
  },
  {
   "cell_type": "markdown",
   "metadata": {},
   "source": [
    "#### Read in embeddings"
   ]
  },
  {
   "cell_type": "code",
   "execution_count": 6,
   "metadata": {},
   "outputs": [
    {
     "name": "stderr",
     "output_type": "stream",
     "text": [
      "/cellar/users/aklie/miniconda3/envs/deep_nlp_cpu/lib/python3.6/importlib/_bootstrap.py:219: RuntimeWarning: numpy.dtype size changed, may indicate binary incompatibility. Expected 96, got 88\n",
      "  return f(*args, **kwds)\n",
      "/cellar/users/aklie/miniconda3/envs/deep_nlp_cpu/lib/python3.6/importlib/_bootstrap.py:219: RuntimeWarning: numpy.ufunc size changed, may indicate binary incompatibility. Expected 192, got 176\n",
      "  return f(*args, **kwds)\n"
     ]
    }
   ],
   "source": [
    "nlp = spacy.load('../data/wikipedia-pubmed-and-PMC-w2v')"
   ]
  },
  {
   "cell_type": "markdown",
   "metadata": {},
   "source": [
    "#### Import merging of entities from file"
   ]
  },
  {
   "cell_type": "code",
   "execution_count": 7,
   "metadata": {},
   "outputs": [
    {
     "data": {
      "text/plain": [
       "array(['SCIENTIFIC_NAME', 'organism', 'Species', 'Organism', 'host',\n",
       "       'host scientific name', 'host_scientific_name', 'specific host',\n",
       "       'host organism', 'cell type', 'cell_type', 'source cell type',\n",
       "       'cell types', 'source_name', 'cell description', 'cell-type',\n",
       "       'progenitor cell type', 'CellType', 'tissue/cell type',\n",
       "       'cell subtype', 'cell', 'differentiation status',\n",
       "       'biomaterial_type', 'cell line source', 'genotype',\n",
       "       'genotype/variation', 'plant genotype', 'Genotype', 'mutant',\n",
       "       'ArrayExpress-Genotype', 'host genotype', 'mutation',\n",
       "       'paternal genotype', 'host_genotype', 'disease', 'diagnosis',\n",
       "       'cancer type', 'tumor type', 'disease state', 'clinical history',\n",
       "       'tissue', 'tissue_type', 'organism part', 'tissue type',\n",
       "       'tissue-type'], dtype=object)"
      ]
     },
     "execution_count": 7,
     "metadata": {},
     "output_type": "execute_result"
    }
   ],
   "source": [
    "grouping_df = pd.read_csv('../results/entity_merging_{model}.csv'.format(model = model_iter))\n",
    "myAttribs = grouping_df.attribute.unique()\n",
    "myAttribs"
   ]
  },
  {
   "cell_type": "markdown",
   "metadata": {},
   "source": [
    "### 2. Filter training set"
   ]
  },
  {
   "cell_type": "markdown",
   "metadata": {},
   "source": [
    "#### Filter out non-valid attributes"
   ]
  },
  {
   "cell_type": "code",
   "execution_count": 8,
   "metadata": {},
   "outputs": [],
   "source": [
    "attribute_m = allSRS.index.get_level_values(1).isin(myAttribs)"
   ]
  },
  {
   "cell_type": "code",
   "execution_count": 9,
   "metadata": {},
   "outputs": [],
   "source": [
    "subset_SRS = allSRS[attribute_m]"
   ]
  },
  {
   "cell_type": "markdown",
   "metadata": {},
   "source": [
    "#### Cap at 100 samples per study to avoid study bias"
   ]
  },
  {
   "cell_type": "code",
   "execution_count": 10,
   "metadata": {},
   "outputs": [
    {
     "name": "stdout",
     "output_type": "stream",
     "text": [
      "Number of samples left after capping: 2348023\n"
     ]
    }
   ],
   "source": [
    "max_sample_per_study_n = 100\n",
    "capped_samples = technical_meta_data_df.groupby('Study').head(n = max_sample_per_study_n)['Sample']\n",
    "print(\"Number of samples left after capping: %d\" % (len(capped_samples)))"
   ]
  },
  {
   "cell_type": "code",
   "execution_count": 11,
   "metadata": {},
   "outputs": [],
   "source": [
    "capped_m = subset_SRS.index.get_level_values(0).isin(capped_samples.values)"
   ]
  },
  {
   "cell_type": "code",
   "execution_count": 12,
   "metadata": {},
   "outputs": [],
   "source": [
    "subset_SRS = subset_SRS[capped_m]"
   ]
  },
  {
   "cell_type": "markdown",
   "metadata": {},
   "source": [
    "#### Filter out unwanted training examples and replace all white space with ' '"
   ]
  },
  {
   "cell_type": "code",
   "execution_count": 13,
   "metadata": {},
   "outputs": [],
   "source": [
    "filterTextL = ['not collected','not applicable','missing','n[/]?a','unknown', '-', '--', 'none', 'no']\n",
    "filterTextRegex = \"|\".join(map(lambda myStr:'(?:{})'.format(myStr), filterTextL))"
   ]
  },
  {
   "cell_type": "code",
   "execution_count": 14,
   "metadata": {},
   "outputs": [],
   "source": [
    "regex_m = subset_SRS.str.contains(filterTextRegex, case=False)"
   ]
  },
  {
   "cell_type": "code",
   "execution_count": 15,
   "metadata": {},
   "outputs": [],
   "source": [
    "subset_SRS = subset_SRS[~regex_m]"
   ]
  },
  {
   "cell_type": "markdown",
   "metadata": {},
   "source": [
    "#### Take only values between length 2 and 7"
   ]
  },
  {
   "cell_type": "code",
   "execution_count": 16,
   "metadata": {},
   "outputs": [],
   "source": [
    "attribute_wc = subset_SRS.str.count(' ') + 1\n",
    "wc_m = (attribute_wc >= 2) & (attribute_wc <= 7)"
   ]
  },
  {
   "cell_type": "code",
   "execution_count": 17,
   "metadata": {},
   "outputs": [],
   "source": [
    "subset_SRS = subset_SRS[wc_m]"
   ]
  },
  {
   "cell_type": "markdown",
   "metadata": {},
   "source": [
    "#### Filter out test set examples"
   ]
  },
  {
   "cell_type": "code",
   "execution_count": 18,
   "metadata": {},
   "outputs": [],
   "source": [
    "with open('../results/test_SRSs_simple.txt', 'r') as f:\n",
    "    test_srs = [line.rstrip('\\n') for line in f.readlines()]"
   ]
  },
  {
   "cell_type": "code",
   "execution_count": 19,
   "metadata": {},
   "outputs": [],
   "source": [
    "test_m = ~subset_SRS.index.get_level_values(0).isin(test_srs)"
   ]
  },
  {
   "cell_type": "code",
   "execution_count": 20,
   "metadata": {},
   "outputs": [],
   "source": [
    "subset_SRS = subset_SRS[test_m]"
   ]
  },
  {
   "cell_type": "markdown",
   "metadata": {},
   "source": [
    "#### Replace whitespace with ' '"
   ]
  },
  {
   "cell_type": "code",
   "execution_count": 21,
   "metadata": {},
   "outputs": [],
   "source": [
    "subset_SRS = subset_SRS.str.replace('\\s+', ' ')"
   ]
  },
  {
   "cell_type": "markdown",
   "metadata": {},
   "source": [
    "#### Final dataset"
   ]
  },
  {
   "cell_type": "code",
   "execution_count": 22,
   "metadata": {},
   "outputs": [],
   "source": [
    "subset_df = pd.DataFrame(subset_SRS).reset_index()\n",
    "subset_df.columns = ['srs', 'attribute', 'value']"
   ]
  },
  {
   "cell_type": "code",
   "execution_count": 23,
   "metadata": {},
   "outputs": [],
   "source": [
    "subset_df['original_attribute'] = subset_df['attribute']\n",
    "AttribToGroupNameS = grouping_df.groupby('attribute')['GroupName'].first()\n",
    "subset_df['attribute'] = AttribToGroupNameS[subset_df['original_attribute'].values].values"
   ]
  },
  {
   "cell_type": "code",
   "execution_count": 24,
   "metadata": {},
   "outputs": [
    {
     "data": {
      "text/html": [
       "<div>\n",
       "<style scoped>\n",
       "    .dataframe tbody tr th:only-of-type {\n",
       "        vertical-align: middle;\n",
       "    }\n",
       "\n",
       "    .dataframe tbody tr th {\n",
       "        vertical-align: top;\n",
       "    }\n",
       "\n",
       "    .dataframe thead th {\n",
       "        text-align: right;\n",
       "    }\n",
       "</style>\n",
       "<table border=\"1\" class=\"dataframe\">\n",
       "  <thead>\n",
       "    <tr style=\"text-align: right;\">\n",
       "      <th></th>\n",
       "      <th>srs</th>\n",
       "      <th>attribute</th>\n",
       "      <th>value</th>\n",
       "      <th>original_attribute</th>\n",
       "    </tr>\n",
       "  </thead>\n",
       "  <tbody>\n",
       "    <tr>\n",
       "      <th>0</th>\n",
       "      <td>SRS1024493</td>\n",
       "      <td>Species</td>\n",
       "      <td>Camellia oleifera</td>\n",
       "      <td>SCIENTIFIC_NAME</td>\n",
       "    </tr>\n",
       "    <tr>\n",
       "      <th>1</th>\n",
       "      <td>ERS1412828</td>\n",
       "      <td>Species</td>\n",
       "      <td>Pundamilia nyererei</td>\n",
       "      <td>SCIENTIFIC_NAME</td>\n",
       "    </tr>\n",
       "    <tr>\n",
       "      <th>2</th>\n",
       "      <td>SRS1219231</td>\n",
       "      <td>Species</td>\n",
       "      <td>Salmonella enterica subsp. enterica</td>\n",
       "      <td>SCIENTIFIC_NAME</td>\n",
       "    </tr>\n",
       "    <tr>\n",
       "      <th>3</th>\n",
       "      <td>SRS1219231</td>\n",
       "      <td>Species</td>\n",
       "      <td>Homo sapiens</td>\n",
       "      <td>host</td>\n",
       "    </tr>\n",
       "    <tr>\n",
       "      <th>4</th>\n",
       "      <td>ERS949109</td>\n",
       "      <td>Species</td>\n",
       "      <td>Mus musculus</td>\n",
       "      <td>SCIENTIFIC_NAME</td>\n",
       "    </tr>\n",
       "  </tbody>\n",
       "</table>\n",
       "</div>"
      ],
      "text/plain": [
       "          srs attribute                                value  \\\n",
       "0  SRS1024493   Species                    Camellia oleifera   \n",
       "1  ERS1412828   Species                  Pundamilia nyererei   \n",
       "2  SRS1219231   Species  Salmonella enterica subsp. enterica   \n",
       "3  SRS1219231   Species                         Homo sapiens   \n",
       "4   ERS949109   Species                         Mus musculus   \n",
       "\n",
       "  original_attribute  \n",
       "0    SCIENTIFIC_NAME  \n",
       "1    SCIENTIFIC_NAME  \n",
       "2    SCIENTIFIC_NAME  \n",
       "3               host  \n",
       "4    SCIENTIFIC_NAME  "
      ]
     },
     "execution_count": 24,
     "metadata": {},
     "output_type": "execute_result"
    }
   ],
   "source": [
    "subset_df.head()"
   ]
  },
  {
   "cell_type": "markdown",
   "metadata": {},
   "source": [
    "### 3. Train/val split"
   ]
  },
  {
   "cell_type": "markdown",
   "metadata": {},
   "source": [
    "#### Start by pulling out only samples that are in our dataset from technical metadata, that has studies in it"
   ]
  },
  {
   "cell_type": "code",
   "execution_count": 25,
   "metadata": {},
   "outputs": [],
   "source": [
    "valid_srs_m = allSRS.index.get_level_values(0).unique()\n",
    "technical_meta_data_df_sub = technical_meta_data_df[technical_meta_data_df.Sample.isin(valid_srs_m)]"
   ]
  },
  {
   "cell_type": "markdown",
   "metadata": {},
   "source": [
    "#### Get unique studies"
   ]
  },
  {
   "cell_type": "code",
   "execution_count": 26,
   "metadata": {},
   "outputs": [],
   "source": [
    "study_s = technical_meta_data_df_sub['Study'].drop_duplicates()  # Get unique studies that can be found in allSRS\n",
    "num_studies = len(study_s)"
   ]
  },
  {
   "cell_type": "markdown",
   "metadata": {},
   "source": [
    "#### Select studies to use to train and validate"
   ]
  },
  {
   "cell_type": "code",
   "execution_count": 27,
   "metadata": {},
   "outputs": [],
   "source": [
    "train_test_ratio = 0.8\n",
    "train_n = int(num_studies * train_test_ratio)  # Number of training studies\n",
    "train_studies = study_s.sample(n = train_n, random_state = 0).values  # pick those training studies randomly"
   ]
  },
  {
   "cell_type": "code",
   "execution_count": 28,
   "metadata": {},
   "outputs": [
    {
     "name": "stderr",
     "output_type": "stream",
     "text": [
      "/cellar/users/aklie/miniconda3/envs/deep_nlp_cpu/lib/python3.6/site-packages/ipykernel_launcher.py:2: SettingWithCopyWarning: \n",
      "A value is trying to be set on a copy of a slice from a DataFrame.\n",
      "Try using .loc[row_indexer,col_indexer] = value instead\n",
      "\n",
      "See the caveats in the documentation: http://pandas.pydata.org/pandas-docs/stable/indexing.html#indexing-view-versus-copy\n",
      "  \n"
     ]
    }
   ],
   "source": [
    "# Label these studies with a column\n",
    "technical_meta_data_df_sub['Train'] = technical_meta_data_df_sub['Study'].isin(train_studies).values  "
   ]
  },
  {
   "cell_type": "code",
   "execution_count": 29,
   "metadata": {},
   "outputs": [],
   "source": [
    "# Get the ids for the training and test samples\n",
    "train_mask = technical_meta_data_df_sub['Train']\n",
    "train_samples = technical_meta_data_df_sub['Sample'][train_mask].values  # IDs for training set\n",
    "val_samples = technical_meta_data_df_sub['Sample'][~train_mask].values  # IDs for test set"
   ]
  },
  {
   "cell_type": "markdown",
   "metadata": {},
   "source": [
    "### 4. Generate training and val dataframes"
   ]
  },
  {
   "cell_type": "code",
   "execution_count": 30,
   "metadata": {},
   "outputs": [],
   "source": [
    "nDupTextMax = 1000\n",
    "cap_size = 20000"
   ]
  },
  {
   "cell_type": "markdown",
   "metadata": {},
   "source": [
    "#### Training set"
   ]
  },
  {
   "cell_type": "code",
   "execution_count": 31,
   "metadata": {},
   "outputs": [],
   "source": [
    "train_df = subset_df[subset_df.srs.isin(train_samples)]"
   ]
  },
  {
   "cell_type": "code",
   "execution_count": 32,
   "metadata": {},
   "outputs": [
    {
     "data": {
      "text/plain": [
       "Bone marrow            1000\n",
       "Salmonella enterica    1000\n",
       "whole organism         1000\n",
       "Panicum virgatum       1000\n",
       "Bos taurus             1000\n",
       "Name: value, dtype: int64"
      ]
     },
     "execution_count": 32,
     "metadata": {},
     "output_type": "execute_result"
    }
   ],
   "source": [
    "# Cap how many of a given entity we want to use\n",
    "train_df = train_df.sample(train_df.shape[0])\n",
    "dedup_train_df = train_df.groupby(['value']).head(n = nDupTextMax)\n",
    "dedup_train_df['value'].value_counts().head()"
   ]
  },
  {
   "cell_type": "code",
   "execution_count": 33,
   "metadata": {},
   "outputs": [],
   "source": [
    "# Balance the classes with class cap\n",
    "final_train_df = dedup_train_df.sample(dedup_train_df.shape[0]).groupby('attribute').head(n = cap_size)"
   ]
  },
  {
   "cell_type": "code",
   "execution_count": 34,
   "metadata": {},
   "outputs": [
    {
     "name": "stdout",
     "output_type": "stream",
     "text": [
      "The number of training examples is 82463\n"
     ]
    },
    {
     "data": {
      "text/plain": [
       "Tissue               20000\n",
       "Species              20000\n",
       "Cell type            20000\n",
       "Genotype             15726\n",
       "Condition/Disease     6737\n",
       "Name: attribute, dtype: int64"
      ]
     },
     "metadata": {},
     "output_type": "display_data"
    }
   ],
   "source": [
    "print(\"The number of training examples is %d\" % (final_train_df.shape[0]))\n",
    "display(final_train_df.attribute.value_counts())"
   ]
  },
  {
   "cell_type": "markdown",
   "metadata": {},
   "source": [
    "#### Validation set"
   ]
  },
  {
   "cell_type": "code",
   "execution_count": 35,
   "metadata": {},
   "outputs": [],
   "source": [
    "val_df = subset_df[subset_df.srs.isin(val_samples)]"
   ]
  },
  {
   "cell_type": "code",
   "execution_count": 37,
   "metadata": {},
   "outputs": [],
   "source": [
    "val_df = val_df.sample(val_df.shape[0])\n",
    "val_df = subset_df[subset_df.srs.isin(val_samples)]\n",
    "dedup_val_df = val_df.groupby(['value']).head(n = nDupTextMax)"
   ]
  },
  {
   "cell_type": "code",
   "execution_count": 38,
   "metadata": {},
   "outputs": [],
   "source": [
    "final_val_df = dedup_val_df.sample(dedup_val_df.shape[0]).groupby('attribute').head(n = cap_size)"
   ]
  },
  {
   "cell_type": "code",
   "execution_count": 39,
   "metadata": {},
   "outputs": [
    {
     "data": {
      "text/plain": [
       "Tissue               20000\n",
       "Species              20000\n",
       "Cell type            20000\n",
       "Genotype              4860\n",
       "Condition/Disease     1987\n",
       "Name: attribute, dtype: int64"
      ]
     },
     "metadata": {},
     "output_type": "display_data"
    }
   ],
   "source": [
    "display(final_val_df.attribute.value_counts())"
   ]
  },
  {
   "cell_type": "code",
   "execution_count": 40,
   "metadata": {},
   "outputs": [
    {
     "data": {
      "text/plain": [
       "0.5522938852052776"
      ]
     },
     "execution_count": 40,
     "metadata": {},
     "output_type": "execute_result"
    }
   ],
   "source": [
    "# Actual training and test split\n",
    "final_train_df.shape[0]/(final_train_df.shape[0] + final_val_df.shape[0])"
   ]
  },
  {
   "cell_type": "code",
   "execution_count": 41,
   "metadata": {},
   "outputs": [],
   "source": [
    "final_train_df.to_pickle('../results/{model}_training_examples.pickle'.format(model = model_iter))\n",
    "final_val_df.to_pickle('../results/{model}_val_examples.pickle'.format(model = model_iter))"
   ]
  },
  {
   "cell_type": "markdown",
   "metadata": {},
   "source": [
    "## Train the model"
   ]
  },
  {
   "cell_type": "markdown",
   "metadata": {},
   "source": [
    "### Model set-up"
   ]
  },
  {
   "cell_type": "code",
   "execution_count": 111,
   "metadata": {},
   "outputs": [],
   "source": [
    "nr_hidden = 64 \n",
    "max_length = 7 # 95% percentile of training phrase length from NCIT\n",
    "dropout = 0.5\n",
    "learn_rate = 0.001 # General NN config\n",
    "nb_epoch = 10\n",
    "batch_size = 100"
   ]
  },
  {
   "cell_type": "code",
   "execution_count": 86,
   "metadata": {},
   "outputs": [
    {
     "data": {
      "text/plain": [
       "array(['Genotype', 'Cell type', 'Species', 'Condition/Disease', 'Tissue'],\n",
       "      dtype=object)"
      ]
     },
     "execution_count": 86,
     "metadata": {},
     "output_type": "execute_result"
    }
   ],
   "source": [
    "classNames = AttribToGroupNameS.unique()\n",
    "classNames"
   ]
  },
  {
   "cell_type": "code",
   "execution_count": 87,
   "metadata": {},
   "outputs": [],
   "source": [
    "le = preprocessing.LabelEncoder()\n",
    "le.fit(classNames)\n",
    "nr_classes=len(le.classes_)"
   ]
  },
  {
   "cell_type": "code",
   "execution_count": 88,
   "metadata": {},
   "outputs": [],
   "source": [
    "lstm_shape={'nr_hidden': 64, 'max_length': max_length, 'nr_class': nr_classes}\n",
    "lstm_settings={'dropout': 0.5, 'lr': 0.001}"
   ]
  },
  {
   "cell_type": "code",
   "execution_count": 89,
   "metadata": {},
   "outputs": [
    {
     "data": {
      "text/plain": [
       "(5443656, 200)"
      ]
     },
     "execution_count": 89,
     "metadata": {},
     "output_type": "execute_result"
    }
   ],
   "source": [
    "embeddings = nlp.vocab.vectors.data\n",
    "embeddings.shape"
   ]
  },
  {
   "cell_type": "code",
   "execution_count": 90,
   "metadata": {},
   "outputs": [
    {
     "name": "stderr",
     "output_type": "stream",
     "text": [
      "100%|██████████| 82463/82463 [00:03<00:00, 24201.97it/s]\n",
      "100%|██████████| 66847/66847 [00:02<00:00, 28776.49it/s]\n",
      "100%|██████████| 82463/82463 [00:00<00:00, 149707.81it/s]\n",
      "100%|██████████| 66847/66847 [00:00<00:00, 158763.49it/s]\n"
     ]
    }
   ],
   "source": [
    "train_texts = final_train_df.value.tolist()\n",
    "dev_texts = final_val_df.value.tolist()\n",
    "\n",
    "train_labels = keras.utils.to_categorical(le.transform(final_train_df.attribute.values))\n",
    "dev_labels = keras.utils.to_categorical(le.transform(final_val_df.attribute.values))\n",
    "\n",
    "train_docs = list(tqdm(nlp.pipe(train_texts,n_threads=32),total=len(train_texts)))\n",
    "dev_docs = list(tqdm(nlp.pipe(dev_texts,n_threads=32),total=len(dev_texts)))\n",
    "\n",
    "train_X = get_features(train_docs, lstm_shape['max_length'])\n",
    "dev_X = get_features(dev_docs, lstm_shape['max_length'])"
   ]
  },
  {
   "cell_type": "code",
   "execution_count": 91,
   "metadata": {},
   "outputs": [],
   "source": [
    "np.save('../results/{model}_classes.npy'.format(model = model_iter), le.classes_)"
   ]
  },
  {
   "cell_type": "code",
   "execution_count": 92,
   "metadata": {},
   "outputs": [
    {
     "name": "stdout",
     "output_type": "stream",
     "text": [
      "_________________________________________________________________\n",
      "Layer (type)                 Output Shape              Param #   \n",
      "=================================================================\n",
      "embedding_2 (Embedding)      (None, 7, 200)            1088731200\n",
      "_________________________________________________________________\n",
      "time_distributed_2 (TimeDist (None, 7, 64)             12800     \n",
      "_________________________________________________________________\n",
      "bidirectional_2 (Bidirection (None, 128)               66048     \n",
      "_________________________________________________________________\n",
      "dense_4 (Dense)              (None, 5)                 645       \n",
      "=================================================================\n",
      "Total params: 1,088,810,693\n",
      "Trainable params: 79,493\n",
      "Non-trainable params: 1,088,731,200\n",
      "_________________________________________________________________\n"
     ]
    }
   ],
   "source": [
    "model = compile_lstm(embeddings, lstm_shape, lstm_settings)\n",
    "model.summary()"
   ]
  },
  {
   "cell_type": "code",
   "execution_count": 93,
   "metadata": {},
   "outputs": [],
   "source": [
    "%%capture keras_stdout\n",
    "lstm = model.fit(train_X, train_labels, validation_data = (dev_X, dev_labels),\n",
    "          nb_epoch = nb_epoch, verbose = 1, batch_size = batch_size)"
   ]
  },
  {
   "cell_type": "code",
   "execution_count": 94,
   "metadata": {},
   "outputs": [],
   "source": [
    "lstm.model.save('../models/{model}.h5'.format(model = model_iter))"
   ]
  },
  {
   "cell_type": "code",
   "execution_count": 52,
   "metadata": {},
   "outputs": [],
   "source": [
    "keras_stdout_str = keras_stdout.stdout\n",
    "textfile = open('../results/{model}_keras_out.txt'.format(model = model_iter), 'w')\n",
    "textfile.write(keras_stdout_str)\n",
    "textfile.close()"
   ]
  },
  {
   "cell_type": "markdown",
   "metadata": {},
   "source": [
    "#### 5. Analyze current model"
   ]
  },
  {
   "cell_type": "code",
   "execution_count": 114,
   "metadata": {},
   "outputs": [
    {
     "data": {
      "text/plain": [
       "10"
      ]
     },
     "execution_count": 114,
     "metadata": {},
     "output_type": "execute_result"
    }
   ],
   "source": [
    "train_loss = lstm.history[\"loss\"]\n",
    "train_acc = lstm.history[\"acc\"]\n",
    "val_loss = lstm.history[\"val_loss\"]\n",
    "val_acc = lstm.history[\"val_acc\"]"
   ]
  },
  {
   "cell_type": "code",
   "execution_count": 119,
   "metadata": {},
   "outputs": [
    {
     "data": {
      "text/plain": [
       "[<matplotlib.lines.Line2D at 0x7f3aa7f434a8>]"
      ]
     },
     "execution_count": 119,
     "metadata": {},
     "output_type": "execute_result"
    },
    {
     "data": {
      "image/png": "[encoded data removed]",
      "text/plain": [
       "<Figure size 288x216 with 1 Axes>"
      ]
     },
     "metadata": {},
     "output_type": "display_data"
    }
   ],
   "source": [
    "fig,ax = plt.subplots(figsize=(4,3))\n",
    "ax.plot(np.arange(1, nb_epoch+1, 1), lstm.history[\"val_acc\"])\n",
    "ax.plot(np.arange(1, nb_epoch+1, 1), lstm.history[\"acc\"])"
   ]
  },
  {
   "cell_type": "code",
   "execution_count": 120,
   "metadata": {},
   "outputs": [
    {
     "data": {
      "text/plain": [
       "[<matplotlib.lines.Line2D at 0x7f3aa7e8a7b8>]"
      ]
     },
     "execution_count": 120,
     "metadata": {},
     "output_type": "execute_result"
    },
    {
     "data": {
      "image/png": "[encoded data removed]",
      "text/plain": [
       "<Figure size 288x216 with 1 Axes>"
      ]
     },
     "metadata": {},
     "output_type": "display_data"
    }
   ],
   "source": [
    "fig,ax = plt.subplots(figsize=(4,3))\n",
    "ax.plot(np.arange(1, nb_epoch+1, 1), lstm.history[\"val_loss\"])\n",
    "ax.plot(np.arange(1, nb_epoch+1, 1), lstm.history[\"loss\"])"
   ]
  },
  {
   "cell_type": "code",
   "execution_count": 112,
   "metadata": {},
   "outputs": [
    {
     "data": {
      "text/plain": [
       "Text(0.5,1,'Accuracy')"
      ]
     },
     "execution_count": 112,
     "metadata": {},
     "output_type": "execute_result"
    },
    {
     "data": {
      "image/png": "[encoded data removed]",
      "text/plain": [
       "<Figure size 288x216 with 1 Axes>"
      ]
     },
     "metadata": {},
     "output_type": "display_data"
    }
   ],
   "source": [
    "fig,ax = plt.subplots(figsize=(4,3))\n",
    "ax.plot()\n",
    "ax.set_xlabel('# of training examples (thousands)')\n",
    "ax.set_ylabel('Accuracy')\n",
    "ax.set_yticks(np.arange(0.1,1.1,0.1))\n",
    "ax.get_xaxis().set_major_formatter(\n",
    "    matplotlib.ticker.FuncFormatter(lambda x, p: format(int(x), ',')))\n",
    "ax.set_title('Accuracy')"
   ]
  },
  {
   "cell_type": "code",
   "execution_count": 100,
   "metadata": {},
   "outputs": [
    {
     "data": {
      "text/plain": [
       "[0.8468592448307817,\n",
       " 0.8485197526296845,\n",
       " 0.85736083851518,\n",
       " 0.8537256710067128,\n",
       " 0.8523344342021334,\n",
       " 0.855012191182426,\n",
       " 0.85465316100365,\n",
       " 0.8535311978041679,\n",
       " 0.8558200059094789,\n",
       " 0.8563435899062344]"
      ]
     },
     "execution_count": 100,
     "metadata": {},
     "output_type": "execute_result"
    }
   ],
   "source": [
    "lstm.history['val_acc']"
   ]
  },
  {
   "cell_type": "code",
   "execution_count": 58,
   "metadata": {},
   "outputs": [
    {
     "name": "stderr",
     "output_type": "stream",
     "text": [
      "100%|██████████| 66847/66847 [00:02<00:00, 25726.41it/s]\n",
      "100%|██████████| 66847/66847 [00:00<00:00, 154779.88it/s]\n"
     ]
    }
   ],
   "source": [
    "val_docs = list(tqdm(nlp.pipe(dev_texts,),total=len(dev_texts)))\n",
    "val_X = get_features(val_docs,lstm_shape['max_length'])\n",
    "predictM = lstm.model.predict_proba(val_X)"
   ]
  },
  {
   "cell_type": "code",
   "execution_count": 60,
   "metadata": {},
   "outputs": [],
   "source": [
    "probaDf_multI = pd.DataFrame(data = predictM, columns = le.classes_)\n",
    "probaDf_multI.index = pd.MultiIndex.from_arrays([final_val_df.attribute.values, dev_texts], names=['entity','text'])\n",
    "probaDf = probaDf_multI.reset_index()"
   ]
  },
  {
   "cell_type": "code",
   "execution_count": 61,
   "metadata": {},
   "outputs": [],
   "source": [
    "myClasses = grouping_df.GroupName.unique()\n",
    "predicted_types = probaDf.loc[:, probaDf.columns.isin(myClasses)].idxmax(axis=1)"
   ]
  },
  {
   "cell_type": "code",
   "execution_count": 62,
   "metadata": {
    "scrolled": true
   },
   "outputs": [
    {
     "name": "stdout",
     "output_type": "stream",
     "text": [
      "Accuracy: 0.8455428067078552\n"
     ]
    }
   ],
   "source": [
    "print ('Accuracy:', ((probaDf.entity == predicted_types).mean()))"
   ]
  },
  {
   "cell_type": "code",
   "execution_count": 63,
   "metadata": {},
   "outputs": [],
   "source": [
    "inEvalDf=probaDf_multI"
   ]
  },
  {
   "cell_type": "code",
   "execution_count": 64,
   "metadata": {},
   "outputs": [],
   "source": [
    "minProbThreshold = 0.2\n",
    "confidence_mask = inEvalDf.max(axis=1)>=minProbThreshold\n",
    "tmpDf3 = inEvalDf.idxmax(axis=1).reset_index(name='predicted')"
   ]
  },
  {
   "cell_type": "code",
   "execution_count": 65,
   "metadata": {},
   "outputs": [],
   "source": [
    "continDf=tmpDf3.groupby(['predicted','entity']).size().unstack().fillna(0)"
   ]
  },
  {
   "cell_type": "code",
   "execution_count": 66,
   "metadata": {},
   "outputs": [
    {
     "data": {
      "text/plain": [
       "array(['Cell type', 'Condition/Disease', 'Genotype', 'Species', 'Tissue'],\n",
       "      dtype=object)"
      ]
     },
     "execution_count": 66,
     "metadata": {},
     "output_type": "execute_result"
    }
   ],
   "source": [
    "le.classes_"
   ]
  },
  {
   "cell_type": "code",
   "execution_count": 67,
   "metadata": {},
   "outputs": [],
   "source": [
    "continDf=continDf.loc[le.classes_, le.classes_]\n",
    "continDf.index=continDf.index.copy()\n",
    "continDf.columns=continDf.columns.copy()\n",
    "continDf.index.name='Predicted'\n",
    "continDf.columns.name='Actual'\n",
    "percentDf=(continDf/continDf.sum(axis=0)).T"
   ]
  },
  {
   "cell_type": "code",
   "execution_count": 68,
   "metadata": {},
   "outputs": [
    {
     "data": {
      "image/png": "[encoded data removed]",
      "text/plain": [
       "<Figure size 720x720 with 4 Axes>"
      ]
     },
     "metadata": {},
     "output_type": "display_data"
    }
   ],
   "source": [
    "g=sns.clustermap(data=percentDf,annot=True,cbar_kws={'label':'% of samples'},center=0.1,\n",
    "           fmt='.1f')"
   ]
  },
  {
   "cell_type": "code",
   "execution_count": 69,
   "metadata": {},
   "outputs": [
    {
     "data": {
      "text/plain": [
       "Text(159,0.5,'Ground truth')"
      ]
     },
     "execution_count": 69,
     "metadata": {},
     "output_type": "execute_result"
    },
    {
     "data": {
      "image/png": "[encoded data removed]",
      "text/plain": [
       "<Figure size 1440x720 with 2 Axes>"
      ]
     },
     "metadata": {},
     "output_type": "display_data"
    }
   ],
   "source": [
    "fig,ax=plt.subplots(figsize=(20,10))\n",
    "g.data2d.columns=g.data2d.columns.copy()\n",
    "g.data2d.index=g.data2d.index.copy()\n",
    "\n",
    "#ax.set_xlabel('Predicted', fontsize = 20)\n",
    "sns.set(font_scale=2)\n",
    "sns.heatmap(data=percentDf.loc[g.data2d.columns,g.data2d.columns],annot=True,fmt='0.0%', annot_kws={\"fontsize\":20})\n",
    "ax.set_ylabel('Ground truth', fontsize = 20)"
   ]
  },
  {
   "cell_type": "code",
   "execution_count": 70,
   "metadata": {},
   "outputs": [],
   "source": [
    "incorrect_df = probaDf[probaDf.entity != predicted_types][['entity','text']]\n",
    "incorrect_df['predicted'] = predicted_types"
   ]
  },
  {
   "cell_type": "code",
   "execution_count": 71,
   "metadata": {},
   "outputs": [],
   "source": [
    "contdf_long=percentDf.stack().reset_index(name='Percent')"
   ]
  },
  {
   "cell_type": "code",
   "execution_count": 72,
   "metadata": {},
   "outputs": [
    {
     "data": {
      "text/html": [
       "<div>\n",
       "<style scoped>\n",
       "    .dataframe tbody tr th:only-of-type {\n",
       "        vertical-align: middle;\n",
       "    }\n",
       "\n",
       "    .dataframe tbody tr th {\n",
       "        vertical-align: top;\n",
       "    }\n",
       "\n",
       "    .dataframe thead th {\n",
       "        text-align: right;\n",
       "    }\n",
       "</style>\n",
       "<table border=\"1\" class=\"dataframe\">\n",
       "  <thead>\n",
       "    <tr style=\"text-align: right;\">\n",
       "      <th></th>\n",
       "      <th>Actual</th>\n",
       "      <th>Predicted</th>\n",
       "      <th>Percent</th>\n",
       "    </tr>\n",
       "  </thead>\n",
       "  <tbody>\n",
       "    <tr>\n",
       "      <th>9</th>\n",
       "      <td>Condition/Disease</td>\n",
       "      <td>Tissue</td>\n",
       "      <td>0.083543</td>\n",
       "    </tr>\n",
       "    <tr>\n",
       "      <th>20</th>\n",
       "      <td>Tissue</td>\n",
       "      <td>Cell type</td>\n",
       "      <td>0.149900</td>\n",
       "    </tr>\n",
       "    <tr>\n",
       "      <th>4</th>\n",
       "      <td>Cell type</td>\n",
       "      <td>Tissue</td>\n",
       "      <td>0.212300</td>\n",
       "    </tr>\n",
       "  </tbody>\n",
       "</table>\n",
       "</div>"
      ],
      "text/plain": [
       "               Actual  Predicted   Percent\n",
       "9   Condition/Disease     Tissue  0.083543\n",
       "20             Tissue  Cell type  0.149900\n",
       "4           Cell type     Tissue  0.212300"
      ]
     },
     "execution_count": 72,
     "metadata": {},
     "output_type": "execute_result"
    }
   ],
   "source": [
    "contdf_wrong=contdf_long[contdf_long.Actual!=contdf_long.Predicted].sort_values('Percent')\n",
    "contdf_wrong[contdf_wrong.Percent>0.05]"
   ]
  },
  {
   "cell_type": "code",
   "execution_count": 73,
   "metadata": {},
   "outputs": [
    {
     "data": {
      "text/plain": [
       "{'Cell type': 0.11342242360115051,\n",
       " 'Condition/Disease': 0.19407331943511963,\n",
       " 'Genotype': 0.5831977725028992,\n",
       " 'Species': 0.4301787465810776,\n",
       " 'Tissue': 0.17998068034648895}"
      ]
     },
     "execution_count": 73,
     "metadata": {},
     "output_type": "execute_result"
    },
    {
     "data": {
      "image/png": "[encoded data removed]",
      "text/plain": [
       "<Figure size 1152x1152 with 1 Axes>"
      ]
     },
     "metadata": {},
     "output_type": "display_data"
    }
   ],
   "source": [
    "plt.figure(figsize=(16, 16))\n",
    "predDf=probaDf_multI.stack().reset_index()\n",
    "predDf.columns=['entity','text','predicted','proba']\n",
    "predDf['match'] = (predDf.entity == predDf.predicted)\n",
    "g =sns.boxplot(data=predDf,x='entity',y='proba', hue='match', showfliers=False)\n",
    "g.set_xticklabels(g.get_xticklabels(), rotation=45)\n",
    "predDf[predDf['match']].groupby(['entity'])['proba'].quantile(0.25).to_dict()"
   ]
  },
  {
   "cell_type": "code",
   "execution_count": 74,
   "metadata": {},
   "outputs": [
    {
     "data": {
      "text/html": [
       "<div>\n",
       "<style scoped>\n",
       "    .dataframe tbody tr th:only-of-type {\n",
       "        vertical-align: middle;\n",
       "    }\n",
       "\n",
       "    .dataframe tbody tr th {\n",
       "        vertical-align: top;\n",
       "    }\n",
       "\n",
       "    .dataframe thead th {\n",
       "        text-align: right;\n",
       "    }\n",
       "</style>\n",
       "<table border=\"1\" class=\"dataframe\">\n",
       "  <thead>\n",
       "    <tr style=\"text-align: right;\">\n",
       "      <th></th>\n",
       "      <th>entity</th>\n",
       "      <th>text</th>\n",
       "      <th>predicted</th>\n",
       "    </tr>\n",
       "  </thead>\n",
       "  <tbody>\n",
       "  </tbody>\n",
       "</table>\n",
       "</div>"
      ],
      "text/plain": [
       "Empty DataFrame\n",
       "Columns: [entity, text, predicted]\n",
       "Index: []"
      ]
     },
     "execution_count": 74,
     "metadata": {},
     "output_type": "execute_result"
    }
   ],
   "source": [
    "incorrect_df[incorrect_df['entity'] == 'Protocol']"
   ]
  },
  {
   "cell_type": "code",
   "execution_count": 75,
   "metadata": {},
   "outputs": [
    {
     "data": {
      "text/plain": [
       "<matplotlib.legend.Legend at 0x7f384b2d33c8>"
      ]
     },
     "execution_count": 75,
     "metadata": {},
     "output_type": "execute_result"
    },
    {
     "data": {
      "image/png": "[encoded data removed]",
      "text/plain": [
       "<Figure size 1152x1152 with 1 Axes>"
      ]
     },
     "metadata": {},
     "output_type": "display_data"
    }
   ],
   "source": [
    "fig,ax=plt.subplots(figsize=(16,16))\n",
    "for myClass in le.classes_: \n",
    "    fpr,tpr,_=metrics.roc_curve((probaDf.entity==myClass),probaDf[myClass])    \n",
    "    ax.plot(fpr,tpr,label=\"{myClass}\\n  (AUC: {AUC})\".format(myClass=myClass,AUC=str(metrics.auc(fpr,tpr))[:5]))\n",
    "ax.set_xlabel('False positive rate', fontsize = 20)\n",
    "ax.set_ylabel('True positive rate', fontsize = 20)\n",
    "ax.legend(fontsize=20)"
   ]
  },
  {
   "cell_type": "code",
   "execution_count": 76,
   "metadata": {},
   "outputs": [],
   "source": [
    "inTmpDf=inEvalDf.idxmax(axis=1).reset_index(name='predicted')"
   ]
  },
  {
   "cell_type": "code",
   "execution_count": 77,
   "metadata": {},
   "outputs": [],
   "source": [
    "inTmpDf['correct']=inTmpDf.entity==inTmpDf.predicted"
   ]
  },
  {
   "cell_type": "code",
   "execution_count": 78,
   "metadata": {},
   "outputs": [
    {
     "data": {
      "text/plain": [
       "entity\n",
       "Cell type            0.710850\n",
       "Tissue               0.821850\n",
       "Condition/Disease    0.832411\n",
       "Genotype             0.946914\n",
       "Species              0.980600\n",
       "Name: correct, dtype: float64"
      ]
     },
     "execution_count": 78,
     "metadata": {},
     "output_type": "execute_result"
    }
   ],
   "source": [
    "inTmpDf.groupby('entity')['correct'].mean().sort_values()"
   ]
  },
  {
   "cell_type": "code",
   "execution_count": 79,
   "metadata": {},
   "outputs": [
    {
     "data": {
      "text/html": [
       "<div>\n",
       "<style scoped>\n",
       "    .dataframe tbody tr th:only-of-type {\n",
       "        vertical-align: middle;\n",
       "    }\n",
       "\n",
       "    .dataframe tbody tr th {\n",
       "        vertical-align: top;\n",
       "    }\n",
       "\n",
       "    .dataframe thead th {\n",
       "        text-align: right;\n",
       "    }\n",
       "</style>\n",
       "<table border=\"1\" class=\"dataframe\">\n",
       "  <thead>\n",
       "    <tr style=\"text-align: right;\">\n",
       "      <th></th>\n",
       "      <th>Accuracy</th>\n",
       "      <th>Precision</th>\n",
       "      <th>Recall</th>\n",
       "      <th>F1 Score</th>\n",
       "    </tr>\n",
       "  </thead>\n",
       "  <tbody>\n",
       "    <tr>\n",
       "      <th>0</th>\n",
       "      <td>0.845543</td>\n",
       "      <td>0.847545</td>\n",
       "      <td>0.845543</td>\n",
       "      <td>0.84453</td>\n",
       "    </tr>\n",
       "  </tbody>\n",
       "</table>\n",
       "</div>"
      ],
      "text/plain": [
       "   Accuracy  Precision    Recall  F1 Score\n",
       "0  0.845543   0.847545  0.845543   0.84453"
      ]
     },
     "metadata": {},
     "output_type": "display_data"
    }
   ],
   "source": [
    "p_r_f1 = metrics.precision_recall_fscore_support(y_true=inTmpDf['entity'],y_pred=inTmpDf['predicted'],average='weighted')\n",
    "display(pd.DataFrame({'Accuracy':lstm.history['val_acc'], \n",
    "                      'Precision':p_r_f1[0], \n",
    "                      'Recall':p_r_f1[1], \n",
    "                      'F1 Score':p_r_f1[2]}))"
   ]
  },
  {
   "cell_type": "code",
   "execution_count": 80,
   "metadata": {},
   "outputs": [
    {
     "data": {
      "text/html": [
       "<div>\n",
       "<style scoped>\n",
       "    .dataframe tbody tr th:only-of-type {\n",
       "        vertical-align: middle;\n",
       "    }\n",
       "\n",
       "    .dataframe tbody tr th {\n",
       "        vertical-align: top;\n",
       "    }\n",
       "\n",
       "    .dataframe thead th {\n",
       "        text-align: right;\n",
       "    }\n",
       "</style>\n",
       "<table border=\"1\" class=\"dataframe\">\n",
       "  <thead>\n",
       "    <tr style=\"text-align: right;\">\n",
       "      <th></th>\n",
       "      <th>entity</th>\n",
       "      <th>text</th>\n",
       "      <th>Cell type</th>\n",
       "      <th>Condition/Disease</th>\n",
       "      <th>Genotype</th>\n",
       "      <th>Species</th>\n",
       "      <th>Tissue</th>\n",
       "    </tr>\n",
       "  </thead>\n",
       "  <tbody>\n",
       "    <tr>\n",
       "      <th>0</th>\n",
       "      <td>Species</td>\n",
       "      <td>Helicobacter pylori J99</td>\n",
       "      <td>0.000302</td>\n",
       "      <td>0.000418</td>\n",
       "      <td>0.000641</td>\n",
       "      <td>0.199307</td>\n",
       "      <td>0.000008</td>\n",
       "    </tr>\n",
       "    <tr>\n",
       "      <th>1</th>\n",
       "      <td>Species</td>\n",
       "      <td>Mycobacterium tuberculosis</td>\n",
       "      <td>0.000767</td>\n",
       "      <td>0.010381</td>\n",
       "      <td>0.000906</td>\n",
       "      <td>0.701931</td>\n",
       "      <td>0.000109</td>\n",
       "    </tr>\n",
       "    <tr>\n",
       "      <th>2</th>\n",
       "      <td>Species</td>\n",
       "      <td>Klebsiella pneumoniae</td>\n",
       "      <td>0.001029</td>\n",
       "      <td>0.000223</td>\n",
       "      <td>0.000093</td>\n",
       "      <td>0.791948</td>\n",
       "      <td>0.000057</td>\n",
       "    </tr>\n",
       "    <tr>\n",
       "      <th>3</th>\n",
       "      <td>Species</td>\n",
       "      <td>Staphylococcus aureus</td>\n",
       "      <td>0.000586</td>\n",
       "      <td>0.000769</td>\n",
       "      <td>0.000154</td>\n",
       "      <td>0.739052</td>\n",
       "      <td>0.000051</td>\n",
       "    </tr>\n",
       "    <tr>\n",
       "      <th>4</th>\n",
       "      <td>Cell type</td>\n",
       "      <td>embryonic kidney</td>\n",
       "      <td>0.150164</td>\n",
       "      <td>0.000274</td>\n",
       "      <td>0.000022</td>\n",
       "      <td>0.000039</td>\n",
       "      <td>0.248579</td>\n",
       "    </tr>\n",
       "    <tr>\n",
       "      <th>5</th>\n",
       "      <td>Species</td>\n",
       "      <td>Staphylococcus aureus</td>\n",
       "      <td>0.000586</td>\n",
       "      <td>0.000769</td>\n",
       "      <td>0.000154</td>\n",
       "      <td>0.739052</td>\n",
       "      <td>0.000051</td>\n",
       "    </tr>\n",
       "    <tr>\n",
       "      <th>6</th>\n",
       "      <td>Species</td>\n",
       "      <td>Setaria viridis</td>\n",
       "      <td>0.000411</td>\n",
       "      <td>0.000159</td>\n",
       "      <td>0.000479</td>\n",
       "      <td>0.882832</td>\n",
       "      <td>0.000034</td>\n",
       "    </tr>\n",
       "    <tr>\n",
       "      <th>7</th>\n",
       "      <td>Cell type</td>\n",
       "      <td>Vestibular epithelium</td>\n",
       "      <td>0.168424</td>\n",
       "      <td>0.000572</td>\n",
       "      <td>0.000091</td>\n",
       "      <td>0.000343</td>\n",
       "      <td>0.175692</td>\n",
       "    </tr>\n",
       "    <tr>\n",
       "      <th>8</th>\n",
       "      <td>Species</td>\n",
       "      <td>Saccharomyces uvarum</td>\n",
       "      <td>0.002128</td>\n",
       "      <td>0.000152</td>\n",
       "      <td>0.000192</td>\n",
       "      <td>0.873046</td>\n",
       "      <td>0.000030</td>\n",
       "    </tr>\n",
       "    <tr>\n",
       "      <th>9</th>\n",
       "      <td>Cell type</td>\n",
       "      <td>Wildtype animal heads</td>\n",
       "      <td>0.027367</td>\n",
       "      <td>0.000025</td>\n",
       "      <td>0.012102</td>\n",
       "      <td>0.000034</td>\n",
       "      <td>0.002006</td>\n",
       "    </tr>\n",
       "    <tr>\n",
       "      <th>10</th>\n",
       "      <td>Species</td>\n",
       "      <td>Salmo salar</td>\n",
       "      <td>0.000380</td>\n",
       "      <td>0.000125</td>\n",
       "      <td>0.000375</td>\n",
       "      <td>0.911746</td>\n",
       "      <td>0.000023</td>\n",
       "    </tr>\n",
       "    <tr>\n",
       "      <th>11</th>\n",
       "      <td>Species</td>\n",
       "      <td>Acacia koaia</td>\n",
       "      <td>0.000722</td>\n",
       "      <td>0.000279</td>\n",
       "      <td>0.001870</td>\n",
       "      <td>0.424842</td>\n",
       "      <td>0.000313</td>\n",
       "    </tr>\n",
       "    <tr>\n",
       "      <th>12</th>\n",
       "      <td>Species</td>\n",
       "      <td>Brucella abortus</td>\n",
       "      <td>0.000528</td>\n",
       "      <td>0.000128</td>\n",
       "      <td>0.000611</td>\n",
       "      <td>0.660493</td>\n",
       "      <td>0.000024</td>\n",
       "    </tr>\n",
       "    <tr>\n",
       "      <th>13</th>\n",
       "      <td>Tissue</td>\n",
       "      <td>Needles from cone setting regions</td>\n",
       "      <td>0.023741</td>\n",
       "      <td>0.000258</td>\n",
       "      <td>0.000415</td>\n",
       "      <td>0.000060</td>\n",
       "      <td>0.069009</td>\n",
       "    </tr>\n",
       "    <tr>\n",
       "      <th>14</th>\n",
       "      <td>Tissue</td>\n",
       "      <td>embryonic heart</td>\n",
       "      <td>0.166769</td>\n",
       "      <td>0.001057</td>\n",
       "      <td>0.000027</td>\n",
       "      <td>0.000042</td>\n",
       "      <td>0.213493</td>\n",
       "    </tr>\n",
       "    <tr>\n",
       "      <th>15</th>\n",
       "      <td>Species</td>\n",
       "      <td>Brachypodium distachyon</td>\n",
       "      <td>0.000697</td>\n",
       "      <td>0.000012</td>\n",
       "      <td>0.001569</td>\n",
       "      <td>0.107978</td>\n",
       "      <td>0.000058</td>\n",
       "    </tr>\n",
       "    <tr>\n",
       "      <th>16</th>\n",
       "      <td>Species</td>\n",
       "      <td>uncultured fungus</td>\n",
       "      <td>0.003551</td>\n",
       "      <td>0.001927</td>\n",
       "      <td>0.000198</td>\n",
       "      <td>0.721944</td>\n",
       "      <td>0.000893</td>\n",
       "    </tr>\n",
       "    <tr>\n",
       "      <th>17</th>\n",
       "      <td>Tissue</td>\n",
       "      <td>epididymal adipose tissue</td>\n",
       "      <td>0.290464</td>\n",
       "      <td>0.000021</td>\n",
       "      <td>0.000018</td>\n",
       "      <td>0.000035</td>\n",
       "      <td>0.493306</td>\n",
       "    </tr>\n",
       "    <tr>\n",
       "      <th>18</th>\n",
       "      <td>Cell type</td>\n",
       "      <td>AML cells</td>\n",
       "      <td>0.591836</td>\n",
       "      <td>0.005363</td>\n",
       "      <td>0.001140</td>\n",
       "      <td>0.000689</td>\n",
       "      <td>0.036237</td>\n",
       "    </tr>\n",
       "    <tr>\n",
       "      <th>19</th>\n",
       "      <td>Tissue</td>\n",
       "      <td>whole body</td>\n",
       "      <td>0.121880</td>\n",
       "      <td>0.000211</td>\n",
       "      <td>0.000227</td>\n",
       "      <td>0.000365</td>\n",
       "      <td>0.840080</td>\n",
       "    </tr>\n",
       "    <tr>\n",
       "      <th>20</th>\n",
       "      <td>Cell type</td>\n",
       "      <td>B cells</td>\n",
       "      <td>0.388612</td>\n",
       "      <td>0.000138</td>\n",
       "      <td>0.005049</td>\n",
       "      <td>0.000142</td>\n",
       "      <td>0.018412</td>\n",
       "    </tr>\n",
       "    <tr>\n",
       "      <th>21</th>\n",
       "      <td>Species</td>\n",
       "      <td>Salmonella enterica</td>\n",
       "      <td>0.000565</td>\n",
       "      <td>0.000103</td>\n",
       "      <td>0.000288</td>\n",
       "      <td>0.696013</td>\n",
       "      <td>0.000017</td>\n",
       "    </tr>\n",
       "    <tr>\n",
       "      <th>22</th>\n",
       "      <td>Cell type</td>\n",
       "      <td>diploid single cell</td>\n",
       "      <td>0.193811</td>\n",
       "      <td>0.000023</td>\n",
       "      <td>0.001848</td>\n",
       "      <td>0.000074</td>\n",
       "      <td>0.001998</td>\n",
       "    </tr>\n",
       "    <tr>\n",
       "      <th>23</th>\n",
       "      <td>Species</td>\n",
       "      <td>Beggiatoa alba B18LD</td>\n",
       "      <td>0.001344</td>\n",
       "      <td>0.000295</td>\n",
       "      <td>0.000490</td>\n",
       "      <td>0.331109</td>\n",
       "      <td>0.000364</td>\n",
       "    </tr>\n",
       "    <tr>\n",
       "      <th>24</th>\n",
       "      <td>Cell type</td>\n",
       "      <td>HeLa cells</td>\n",
       "      <td>0.678473</td>\n",
       "      <td>0.000089</td>\n",
       "      <td>0.000598</td>\n",
       "      <td>0.000066</td>\n",
       "      <td>0.022525</td>\n",
       "    </tr>\n",
       "    <tr>\n",
       "      <th>25</th>\n",
       "      <td>Tissue</td>\n",
       "      <td>Burkitt's lymphoma cell line</td>\n",
       "      <td>0.079955</td>\n",
       "      <td>0.004605</td>\n",
       "      <td>0.000134</td>\n",
       "      <td>0.000133</td>\n",
       "      <td>0.012169</td>\n",
       "    </tr>\n",
       "    <tr>\n",
       "      <th>26</th>\n",
       "      <td>Species</td>\n",
       "      <td>Populus trichocarpa</td>\n",
       "      <td>0.000357</td>\n",
       "      <td>0.000047</td>\n",
       "      <td>0.001240</td>\n",
       "      <td>0.390227</td>\n",
       "      <td>0.000024</td>\n",
       "    </tr>\n",
       "    <tr>\n",
       "      <th>27</th>\n",
       "      <td>Species</td>\n",
       "      <td>Oryza sativa</td>\n",
       "      <td>0.000213</td>\n",
       "      <td>0.000078</td>\n",
       "      <td>0.001117</td>\n",
       "      <td>0.773110</td>\n",
       "      <td>0.000027</td>\n",
       "    </tr>\n",
       "    <tr>\n",
       "      <th>28</th>\n",
       "      <td>Species</td>\n",
       "      <td>Equus caballus</td>\n",
       "      <td>0.000374</td>\n",
       "      <td>0.000107</td>\n",
       "      <td>0.000607</td>\n",
       "      <td>0.913721</td>\n",
       "      <td>0.000029</td>\n",
       "    </tr>\n",
       "    <tr>\n",
       "      <th>29</th>\n",
       "      <td>Species</td>\n",
       "      <td>Trichuris suis</td>\n",
       "      <td>0.000583</td>\n",
       "      <td>0.000642</td>\n",
       "      <td>0.000082</td>\n",
       "      <td>0.656757</td>\n",
       "      <td>0.000038</td>\n",
       "    </tr>\n",
       "    <tr>\n",
       "      <th>...</th>\n",
       "      <td>...</td>\n",
       "      <td>...</td>\n",
       "      <td>...</td>\n",
       "      <td>...</td>\n",
       "      <td>...</td>\n",
       "      <td>...</td>\n",
       "      <td>...</td>\n",
       "    </tr>\n",
       "    <tr>\n",
       "      <th>66817</th>\n",
       "      <td>Condition/Disease</td>\n",
       "      <td>Healthy control</td>\n",
       "      <td>0.036571</td>\n",
       "      <td>0.471777</td>\n",
       "      <td>0.038366</td>\n",
       "      <td>0.001110</td>\n",
       "      <td>0.018566</td>\n",
       "    </tr>\n",
       "    <tr>\n",
       "      <th>66818</th>\n",
       "      <td>Condition/Disease</td>\n",
       "      <td>chronically infected with woodchuck hepatitis ...</td>\n",
       "      <td>0.000837</td>\n",
       "      <td>0.059568</td>\n",
       "      <td>0.000578</td>\n",
       "      <td>0.006856</td>\n",
       "      <td>0.000361</td>\n",
       "    </tr>\n",
       "    <tr>\n",
       "      <th>66819</th>\n",
       "      <td>Genotype</td>\n",
       "      <td>Ailsa Craig</td>\n",
       "      <td>0.022507</td>\n",
       "      <td>0.001567</td>\n",
       "      <td>0.816877</td>\n",
       "      <td>0.000807</td>\n",
       "      <td>0.001148</td>\n",
       "    </tr>\n",
       "    <tr>\n",
       "      <th>66820</th>\n",
       "      <td>Condition/Disease</td>\n",
       "      <td>Globodera rostoschiensis infestation</td>\n",
       "      <td>0.000382</td>\n",
       "      <td>0.022512</td>\n",
       "      <td>0.000153</td>\n",
       "      <td>0.227145</td>\n",
       "      <td>0.000121</td>\n",
       "    </tr>\n",
       "    <tr>\n",
       "      <th>66821</th>\n",
       "      <td>Condition/Disease</td>\n",
       "      <td>Healthy control</td>\n",
       "      <td>0.036571</td>\n",
       "      <td>0.471777</td>\n",
       "      <td>0.038366</td>\n",
       "      <td>0.001110</td>\n",
       "      <td>0.018566</td>\n",
       "    </tr>\n",
       "    <tr>\n",
       "      <th>66822</th>\n",
       "      <td>Genotype</td>\n",
       "      <td>wild type</td>\n",
       "      <td>0.003662</td>\n",
       "      <td>0.000234</td>\n",
       "      <td>0.905498</td>\n",
       "      <td>0.000337</td>\n",
       "      <td>0.000115</td>\n",
       "    </tr>\n",
       "    <tr>\n",
       "      <th>66823</th>\n",
       "      <td>Genotype</td>\n",
       "      <td>SOD1 G37R</td>\n",
       "      <td>0.003368</td>\n",
       "      <td>0.000398</td>\n",
       "      <td>0.850114</td>\n",
       "      <td>0.000043</td>\n",
       "      <td>0.000047</td>\n",
       "    </tr>\n",
       "    <tr>\n",
       "      <th>66824</th>\n",
       "      <td>Genotype</td>\n",
       "      <td>PI 404634</td>\n",
       "      <td>0.304456</td>\n",
       "      <td>0.062528</td>\n",
       "      <td>0.234531</td>\n",
       "      <td>0.034153</td>\n",
       "      <td>0.257937</td>\n",
       "    </tr>\n",
       "    <tr>\n",
       "      <th>66825</th>\n",
       "      <td>Genotype</td>\n",
       "      <td>SPD 1746 (phrA) deletion strain</td>\n",
       "      <td>0.002588</td>\n",
       "      <td>0.000553</td>\n",
       "      <td>0.254548</td>\n",
       "      <td>0.000532</td>\n",
       "      <td>0.000092</td>\n",
       "    </tr>\n",
       "    <tr>\n",
       "      <th>66826</th>\n",
       "      <td>Genotype</td>\n",
       "      <td>link1link2 double mutants</td>\n",
       "      <td>0.009851</td>\n",
       "      <td>0.000109</td>\n",
       "      <td>0.915622</td>\n",
       "      <td>0.000102</td>\n",
       "      <td>0.000449</td>\n",
       "    </tr>\n",
       "    <tr>\n",
       "      <th>66827</th>\n",
       "      <td>Condition/Disease</td>\n",
       "      <td>Multiple Sclerosis</td>\n",
       "      <td>0.011344</td>\n",
       "      <td>0.533814</td>\n",
       "      <td>0.002174</td>\n",
       "      <td>0.008914</td>\n",
       "      <td>0.012998</td>\n",
       "    </tr>\n",
       "    <tr>\n",
       "      <th>66828</th>\n",
       "      <td>Condition/Disease</td>\n",
       "      <td>Surgically Controlled Diverticulitis</td>\n",
       "      <td>0.006454</td>\n",
       "      <td>0.233645</td>\n",
       "      <td>0.000035</td>\n",
       "      <td>0.000115</td>\n",
       "      <td>0.043400</td>\n",
       "    </tr>\n",
       "    <tr>\n",
       "      <th>66829</th>\n",
       "      <td>Genotype</td>\n",
       "      <td>B6 STING</td>\n",
       "      <td>0.011658</td>\n",
       "      <td>0.000125</td>\n",
       "      <td>0.859741</td>\n",
       "      <td>0.000272</td>\n",
       "      <td>0.000263</td>\n",
       "    </tr>\n",
       "    <tr>\n",
       "      <th>66830</th>\n",
       "      <td>Genotype</td>\n",
       "      <td>cw15, nit2, mt+</td>\n",
       "      <td>0.004206</td>\n",
       "      <td>0.000002</td>\n",
       "      <td>0.060450</td>\n",
       "      <td>0.000502</td>\n",
       "      <td>0.000020</td>\n",
       "    </tr>\n",
       "    <tr>\n",
       "      <th>66831</th>\n",
       "      <td>Genotype</td>\n",
       "      <td>healthy control 4</td>\n",
       "      <td>0.028318</td>\n",
       "      <td>0.042603</td>\n",
       "      <td>0.037879</td>\n",
       "      <td>0.000761</td>\n",
       "      <td>0.011175</td>\n",
       "    </tr>\n",
       "    <tr>\n",
       "      <th>66832</th>\n",
       "      <td>Genotype</td>\n",
       "      <td>wild type</td>\n",
       "      <td>0.003662</td>\n",
       "      <td>0.000234</td>\n",
       "      <td>0.905498</td>\n",
       "      <td>0.000337</td>\n",
       "      <td>0.000115</td>\n",
       "    </tr>\n",
       "    <tr>\n",
       "      <th>66833</th>\n",
       "      <td>Genotype</td>\n",
       "      <td>C24 ecotype</td>\n",
       "      <td>0.003640</td>\n",
       "      <td>0.000011</td>\n",
       "      <td>0.377999</td>\n",
       "      <td>0.001149</td>\n",
       "      <td>0.000064</td>\n",
       "    </tr>\n",
       "    <tr>\n",
       "      <th>66834</th>\n",
       "      <td>Condition/Disease</td>\n",
       "      <td>Invasive breast cancer</td>\n",
       "      <td>0.029171</td>\n",
       "      <td>0.771620</td>\n",
       "      <td>0.000193</td>\n",
       "      <td>0.000399</td>\n",
       "      <td>0.022627</td>\n",
       "    </tr>\n",
       "    <tr>\n",
       "      <th>66835</th>\n",
       "      <td>Genotype</td>\n",
       "      <td>wild type</td>\n",
       "      <td>0.003662</td>\n",
       "      <td>0.000234</td>\n",
       "      <td>0.905498</td>\n",
       "      <td>0.000337</td>\n",
       "      <td>0.000115</td>\n",
       "    </tr>\n",
       "    <tr>\n",
       "      <th>66836</th>\n",
       "      <td>Genotype</td>\n",
       "      <td>Wild Type</td>\n",
       "      <td>0.002737</td>\n",
       "      <td>0.000269</td>\n",
       "      <td>0.526599</td>\n",
       "      <td>0.000362</td>\n",
       "      <td>0.000101</td>\n",
       "    </tr>\n",
       "    <tr>\n",
       "      <th>66837</th>\n",
       "      <td>Genotype</td>\n",
       "      <td>deletion mutant</td>\n",
       "      <td>0.005243</td>\n",
       "      <td>0.000228</td>\n",
       "      <td>0.977203</td>\n",
       "      <td>0.000173</td>\n",
       "      <td>0.000318</td>\n",
       "    </tr>\n",
       "    <tr>\n",
       "      <th>66838</th>\n",
       "      <td>Condition/Disease</td>\n",
       "      <td>HD grade 2</td>\n",
       "      <td>0.038540</td>\n",
       "      <td>0.044998</td>\n",
       "      <td>0.128776</td>\n",
       "      <td>0.000408</td>\n",
       "      <td>0.007977</td>\n",
       "    </tr>\n",
       "    <tr>\n",
       "      <th>66839</th>\n",
       "      <td>Genotype</td>\n",
       "      <td>Wild type</td>\n",
       "      <td>0.002477</td>\n",
       "      <td>0.000295</td>\n",
       "      <td>0.861648</td>\n",
       "      <td>0.000560</td>\n",
       "      <td>0.000128</td>\n",
       "    </tr>\n",
       "    <tr>\n",
       "      <th>66840</th>\n",
       "      <td>Genotype</td>\n",
       "      <td>SuUR mutant</td>\n",
       "      <td>0.004733</td>\n",
       "      <td>0.000101</td>\n",
       "      <td>0.931916</td>\n",
       "      <td>0.000178</td>\n",
       "      <td>0.000138</td>\n",
       "    </tr>\n",
       "    <tr>\n",
       "      <th>66841</th>\n",
       "      <td>Genotype</td>\n",
       "      <td>IRF4 +/+</td>\n",
       "      <td>0.003675</td>\n",
       "      <td>0.000571</td>\n",
       "      <td>0.938500</td>\n",
       "      <td>0.000030</td>\n",
       "      <td>0.000086</td>\n",
       "    </tr>\n",
       "    <tr>\n",
       "      <th>66842</th>\n",
       "      <td>Condition/Disease</td>\n",
       "      <td>Acute Myeloid Leukemia</td>\n",
       "      <td>0.029865</td>\n",
       "      <td>0.858082</td>\n",
       "      <td>0.000259</td>\n",
       "      <td>0.000506</td>\n",
       "      <td>0.009903</td>\n",
       "    </tr>\n",
       "    <tr>\n",
       "      <th>66843</th>\n",
       "      <td>Genotype</td>\n",
       "      <td>lineage 4</td>\n",
       "      <td>0.031085</td>\n",
       "      <td>0.000293</td>\n",
       "      <td>0.057573</td>\n",
       "      <td>0.007088</td>\n",
       "      <td>0.003640</td>\n",
       "    </tr>\n",
       "    <tr>\n",
       "      <th>66844</th>\n",
       "      <td>Genotype</td>\n",
       "      <td>Clone 254</td>\n",
       "      <td>0.024279</td>\n",
       "      <td>0.001260</td>\n",
       "      <td>0.398782</td>\n",
       "      <td>0.030074</td>\n",
       "      <td>0.001385</td>\n",
       "    </tr>\n",
       "    <tr>\n",
       "      <th>66845</th>\n",
       "      <td>Genotype</td>\n",
       "      <td>PIK3CA H1047R</td>\n",
       "      <td>0.005249</td>\n",
       "      <td>0.001480</td>\n",
       "      <td>0.981132</td>\n",
       "      <td>0.000297</td>\n",
       "      <td>0.000436</td>\n",
       "    </tr>\n",
       "    <tr>\n",
       "      <th>66846</th>\n",
       "      <td>Condition/Disease</td>\n",
       "      <td>Endometrial cancer</td>\n",
       "      <td>0.051034</td>\n",
       "      <td>0.169020</td>\n",
       "      <td>0.000092</td>\n",
       "      <td>0.000174</td>\n",
       "      <td>0.106568</td>\n",
       "    </tr>\n",
       "  </tbody>\n",
       "</table>\n",
       "<p>66847 rows × 7 columns</p>\n",
       "</div>"
      ],
      "text/plain": [
       "                  entity                                               text  \\\n",
       "0                Species                            Helicobacter pylori J99   \n",
       "1                Species                         Mycobacterium tuberculosis   \n",
       "2                Species                              Klebsiella pneumoniae   \n",
       "3                Species                              Staphylococcus aureus   \n",
       "4              Cell type                                   embryonic kidney   \n",
       "5                Species                              Staphylococcus aureus   \n",
       "6                Species                                    Setaria viridis   \n",
       "7              Cell type                              Vestibular epithelium   \n",
       "8                Species                               Saccharomyces uvarum   \n",
       "9              Cell type                              Wildtype animal heads   \n",
       "10               Species                                        Salmo salar   \n",
       "11               Species                                       Acacia koaia   \n",
       "12               Species                                   Brucella abortus   \n",
       "13                Tissue                  Needles from cone setting regions   \n",
       "14                Tissue                                    embryonic heart   \n",
       "15               Species                            Brachypodium distachyon   \n",
       "16               Species                                  uncultured fungus   \n",
       "17                Tissue                          epididymal adipose tissue   \n",
       "18             Cell type                                          AML cells   \n",
       "19                Tissue                                         whole body   \n",
       "20             Cell type                                            B cells   \n",
       "21               Species                                Salmonella enterica   \n",
       "22             Cell type                                diploid single cell   \n",
       "23               Species                               Beggiatoa alba B18LD   \n",
       "24             Cell type                                         HeLa cells   \n",
       "25                Tissue                       Burkitt's lymphoma cell line   \n",
       "26               Species                                Populus trichocarpa   \n",
       "27               Species                                       Oryza sativa   \n",
       "28               Species                                     Equus caballus   \n",
       "29               Species                                     Trichuris suis   \n",
       "...                  ...                                                ...   \n",
       "66817  Condition/Disease                                    Healthy control   \n",
       "66818  Condition/Disease  chronically infected with woodchuck hepatitis ...   \n",
       "66819           Genotype                                        Ailsa Craig   \n",
       "66820  Condition/Disease               Globodera rostoschiensis infestation   \n",
       "66821  Condition/Disease                                    Healthy control   \n",
       "66822           Genotype                                          wild type   \n",
       "66823           Genotype                                          SOD1 G37R   \n",
       "66824           Genotype                                          PI 404634   \n",
       "66825           Genotype                    SPD 1746 (phrA) deletion strain   \n",
       "66826           Genotype                          link1link2 double mutants   \n",
       "66827  Condition/Disease                                 Multiple Sclerosis   \n",
       "66828  Condition/Disease               Surgically Controlled Diverticulitis   \n",
       "66829           Genotype                                           B6 STING   \n",
       "66830           Genotype                                    cw15, nit2, mt+   \n",
       "66831           Genotype                                  healthy control 4   \n",
       "66832           Genotype                                          wild type   \n",
       "66833           Genotype                                        C24 ecotype   \n",
       "66834  Condition/Disease                             Invasive breast cancer   \n",
       "66835           Genotype                                          wild type   \n",
       "66836           Genotype                                          Wild Type   \n",
       "66837           Genotype                                    deletion mutant   \n",
       "66838  Condition/Disease                                         HD grade 2   \n",
       "66839           Genotype                                          Wild type   \n",
       "66840           Genotype                                        SuUR mutant   \n",
       "66841           Genotype                                           IRF4 +/+   \n",
       "66842  Condition/Disease                             Acute Myeloid Leukemia   \n",
       "66843           Genotype                                          lineage 4   \n",
       "66844           Genotype                                          Clone 254   \n",
       "66845           Genotype                                      PIK3CA H1047R   \n",
       "66846  Condition/Disease                                 Endometrial cancer   \n",
       "\n",
       "       Cell type  Condition/Disease  Genotype   Species    Tissue  \n",
       "0       0.000302           0.000418  0.000641  0.199307  0.000008  \n",
       "1       0.000767           0.010381  0.000906  0.701931  0.000109  \n",
       "2       0.001029           0.000223  0.000093  0.791948  0.000057  \n",
       "3       0.000586           0.000769  0.000154  0.739052  0.000051  \n",
       "4       0.150164           0.000274  0.000022  0.000039  0.248579  \n",
       "5       0.000586           0.000769  0.000154  0.739052  0.000051  \n",
       "6       0.000411           0.000159  0.000479  0.882832  0.000034  \n",
       "7       0.168424           0.000572  0.000091  0.000343  0.175692  \n",
       "8       0.002128           0.000152  0.000192  0.873046  0.000030  \n",
       "9       0.027367           0.000025  0.012102  0.000034  0.002006  \n",
       "10      0.000380           0.000125  0.000375  0.911746  0.000023  \n",
       "11      0.000722           0.000279  0.001870  0.424842  0.000313  \n",
       "12      0.000528           0.000128  0.000611  0.660493  0.000024  \n",
       "13      0.023741           0.000258  0.000415  0.000060  0.069009  \n",
       "14      0.166769           0.001057  0.000027  0.000042  0.213493  \n",
       "15      0.000697           0.000012  0.001569  0.107978  0.000058  \n",
       "16      0.003551           0.001927  0.000198  0.721944  0.000893  \n",
       "17      0.290464           0.000021  0.000018  0.000035  0.493306  \n",
       "18      0.591836           0.005363  0.001140  0.000689  0.036237  \n",
       "19      0.121880           0.000211  0.000227  0.000365  0.840080  \n",
       "20      0.388612           0.000138  0.005049  0.000142  0.018412  \n",
       "21      0.000565           0.000103  0.000288  0.696013  0.000017  \n",
       "22      0.193811           0.000023  0.001848  0.000074  0.001998  \n",
       "23      0.001344           0.000295  0.000490  0.331109  0.000364  \n",
       "24      0.678473           0.000089  0.000598  0.000066  0.022525  \n",
       "25      0.079955           0.004605  0.000134  0.000133  0.012169  \n",
       "26      0.000357           0.000047  0.001240  0.390227  0.000024  \n",
       "27      0.000213           0.000078  0.001117  0.773110  0.000027  \n",
       "28      0.000374           0.000107  0.000607  0.913721  0.000029  \n",
       "29      0.000583           0.000642  0.000082  0.656757  0.000038  \n",
       "...          ...                ...       ...       ...       ...  \n",
       "66817   0.036571           0.471777  0.038366  0.001110  0.018566  \n",
       "66818   0.000837           0.059568  0.000578  0.006856  0.000361  \n",
       "66819   0.022507           0.001567  0.816877  0.000807  0.001148  \n",
       "66820   0.000382           0.022512  0.000153  0.227145  0.000121  \n",
       "66821   0.036571           0.471777  0.038366  0.001110  0.018566  \n",
       "66822   0.003662           0.000234  0.905498  0.000337  0.000115  \n",
       "66823   0.003368           0.000398  0.850114  0.000043  0.000047  \n",
       "66824   0.304456           0.062528  0.234531  0.034153  0.257937  \n",
       "66825   0.002588           0.000553  0.254548  0.000532  0.000092  \n",
       "66826   0.009851           0.000109  0.915622  0.000102  0.000449  \n",
       "66827   0.011344           0.533814  0.002174  0.008914  0.012998  \n",
       "66828   0.006454           0.233645  0.000035  0.000115  0.043400  \n",
       "66829   0.011658           0.000125  0.859741  0.000272  0.000263  \n",
       "66830   0.004206           0.000002  0.060450  0.000502  0.000020  \n",
       "66831   0.028318           0.042603  0.037879  0.000761  0.011175  \n",
       "66832   0.003662           0.000234  0.905498  0.000337  0.000115  \n",
       "66833   0.003640           0.000011  0.377999  0.001149  0.000064  \n",
       "66834   0.029171           0.771620  0.000193  0.000399  0.022627  \n",
       "66835   0.003662           0.000234  0.905498  0.000337  0.000115  \n",
       "66836   0.002737           0.000269  0.526599  0.000362  0.000101  \n",
       "66837   0.005243           0.000228  0.977203  0.000173  0.000318  \n",
       "66838   0.038540           0.044998  0.128776  0.000408  0.007977  \n",
       "66839   0.002477           0.000295  0.861648  0.000560  0.000128  \n",
       "66840   0.004733           0.000101  0.931916  0.000178  0.000138  \n",
       "66841   0.003675           0.000571  0.938500  0.000030  0.000086  \n",
       "66842   0.029865           0.858082  0.000259  0.000506  0.009903  \n",
       "66843   0.031085           0.000293  0.057573  0.007088  0.003640  \n",
       "66844   0.024279           0.001260  0.398782  0.030074  0.001385  \n",
       "66845   0.005249           0.001480  0.981132  0.000297  0.000436  \n",
       "66846   0.051034           0.169020  0.000092  0.000174  0.106568  \n",
       "\n",
       "[66847 rows x 7 columns]"
      ]
     },
     "execution_count": 80,
     "metadata": {},
     "output_type": "execute_result"
    }
   ],
   "source": [
    "probaDf"
   ]
  },
  {
   "cell_type": "code",
   "execution_count": 81,
   "metadata": {},
   "outputs": [],
   "source": [
    "fpr,tpr,_=metrics.roc_curve((probaDf.entity==myClass),probaDf[myClass])   "
   ]
  },
  {
   "cell_type": "code",
   "execution_count": 82,
   "metadata": {},
   "outputs": [
    {
     "data": {
      "text/html": [
       "<div>\n",
       "<style scoped>\n",
       "    .dataframe tbody tr th:only-of-type {\n",
       "        vertical-align: middle;\n",
       "    }\n",
       "\n",
       "    .dataframe tbody tr th {\n",
       "        vertical-align: top;\n",
       "    }\n",
       "\n",
       "    .dataframe thead th {\n",
       "        text-align: right;\n",
       "    }\n",
       "</style>\n",
       "<table border=\"1\" class=\"dataframe\">\n",
       "  <thead>\n",
       "    <tr style=\"text-align: right;\">\n",
       "      <th></th>\n",
       "      <th>srs</th>\n",
       "      <th>attribute</th>\n",
       "      <th>value</th>\n",
       "      <th>original_attribute</th>\n",
       "    </tr>\n",
       "  </thead>\n",
       "  <tbody>\n",
       "  </tbody>\n",
       "</table>\n",
       "</div>"
      ],
      "text/plain": [
       "Empty DataFrame\n",
       "Columns: [srs, attribute, value, original_attribute]\n",
       "Index: []"
      ]
     },
     "execution_count": 82,
     "metadata": {},
     "output_type": "execute_result"
    }
   ],
   "source": [
    "final_train_df[final_train_df['attribute'] == 'Sex']"
   ]
  }
 ],
 "metadata": {
  "kernelspec": {
   "display_name": "Python 3",
   "language": "python",
   "name": "python3"
  },
  "language_info": {
   "codemirror_mode": {
    "name": "ipython",
    "version": 3
   },
   "file_extension": ".py",
   "mimetype": "text/x-python",
   "name": "python",
   "nbconvert_exporter": "python",
   "pygments_lexer": "ipython3",
   "version": "3.6.6"
  }
 },
 "nbformat": 4,
 "nbformat_minor": 2
}
