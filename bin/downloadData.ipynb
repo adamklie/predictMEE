{
 "cells": [
  {
   "cell_type": "markdown",
   "metadata": {},
   "source": [
    "# SRA metadata download\n",
    "Adam Klie<br>11/23/2019<br>\n",
    "Script to download relevant data for building, training and testing metadata prediction models"
   ]
  },
  {
   "cell_type": "markdown",
   "metadata": {},
   "source": [
    "### Import needed packages"
   ]
  },
  {
   "cell_type": "code",
   "execution_count": 5,
   "metadata": {},
   "outputs": [],
   "source": [
    "import xml.etree.ElementTree as ET\n",
    "import pandas as pd"
   ]
  },
  {
   "cell_type": "markdown",
   "metadata": {},
   "source": [
    "### 1. Download per sample metadata from [NCBI FTP](https://ftp.ncbi.nlm.nih.gov/sra/reports/Metadata/) <font color='red'>using previously parsed for now, will need to write code to parse</font>"
   ]
  },
  {
   "cell_type": "code",
   "execution_count": null,
   "metadata": {},
   "outputs": [],
   "source": [
    "!wget -O ../data/NCBI_SRA_Metadata_20181202.tar.gz https://ftp.ncbi.nlm.nih.gov/sra/reports/Metadata/NCBI_SRA_Metadata_20181202.tar.gz"
   ]
  },
  {
   "cell_type": "code",
   "execution_count": null,
   "metadata": {},
   "outputs": [],
   "source": [
    "#!tar -vxzf ../data/NCBI_SRA_Metadata_20181202.tar.gz\n",
    "#sra_raw = pd.read_json('../data/NCBI_SRA_Metadata_20181202')"
   ]
  },
  {
   "cell_type": "markdown",
   "metadata": {},
   "source": [
    "### 2. Sample and study technical metadata <font color='red'>need to find where this is hiding</font>"
   ]
  },
  {
   "cell_type": "markdown",
   "metadata": {},
   "source": [
    "### 3. Download BioSample [attribute definitions](https://www.ncbi.nlm.nih.gov/biosample/docs/attributes/)"
   ]
  },
  {
   "cell_type": "code",
   "execution_count": 3,
   "metadata": {},
   "outputs": [
    {
     "name": "stdout",
     "output_type": "stream",
     "text": [
      "--2019-10-17 18:23:24--  https://www.ncbi.nlm.nih.gov/biosample/docs/attributes/?format=xml\n",
      "Resolving www.ncbi.nlm.nih.gov (www.ncbi.nlm.nih.gov)... 130.14.29.110, 2607:f220:41e:4290::110\n",
      "Connecting to www.ncbi.nlm.nih.gov (www.ncbi.nlm.nih.gov)|130.14.29.110|:443... connected.\n",
      "HTTP request sent, awaiting response... 200 OK\n",
      "Length: unspecified [text/xml]\n",
      "Saving to: ‘index.html?format=xml.1’\n",
      "\n",
      "index.html?format=x     [  <=>               ] 942.58K  4.28MB/s    in 0.2s    \n",
      "\n",
      "2019-10-17 18:23:25 (4.28 MB/s) - ‘index.html?format=xml.1’ saved [965201]\n",
      "\n"
     ]
    }
   ],
   "source": [
    "!wget -O ../data/BioSampleAttributes.xml https://www.ncbi.nlm.nih.gov/biosample/docs/attributes/?format=xml"
   ]
  },
  {
   "cell_type": "code",
   "execution_count": 38,
   "metadata": {},
   "outputs": [],
   "source": [
    "def parseXML(xmlfile):\n",
    "  \n",
    "    # create element tree object\n",
    "    tree = ET.parse(xmlfile)\n",
    "  \n",
    "    # get root element\n",
    "    root = tree.getroot()\n",
    "    \n",
    "    # create empty list for news items\n",
    "    attribute_df = pd.DataFrame()\n",
    "  \n",
    "    # iterate news items\n",
    "    for item in root.findall('./Attribute'):\n",
    "        \n",
    "        # empty news dictionary\n",
    "        attribute = {}\n",
    "  \n",
    "        # iterate child elements of item\n",
    "        for child in item:\n",
    "            attribute[child.tag] = child.text\n",
    "            \n",
    "        # append news dictionary to news items list\n",
    "        attribute_df = attribute_df.append(attribute, ignore_index = True)\n",
    "      \n",
    "    # return news items list\n",
    "    return attribute_df\n"
   ]
  },
  {
   "cell_type": "code",
   "execution_count": 42,
   "metadata": {},
   "outputs": [],
   "source": [
    "df = parseXML('BioSampleAttributes.xml').set_index('Name')"
   ]
  },
  {
   "cell_type": "code",
   "execution_count": 44,
   "metadata": {},
   "outputs": [
    {
     "data": {
      "text/plain": [
       "(456, 5)"
      ]
     },
     "execution_count": 44,
     "metadata": {},
     "output_type": "execute_result"
    }
   ],
   "source": [
    "df.shape"
   ]
  },
  {
   "cell_type": "code",
   "execution_count": 53,
   "metadata": {},
   "outputs": [
    {
     "data": {
      "text/plain": [
       "'list of diseases diagnosed; can include multiple diagnoses. the value of the field depends on host; for humans the terms should be chosen from DO (Disease Ontology), free text for non-human. For DO terms, please see http://gemina.svn.sourceforge.net/viewvc/gemina/trunk/Gemina/ontologies/gemina_symptom.obo?view=log'"
      ]
     },
     "execution_count": 53,
     "metadata": {},
     "output_type": "execute_result"
    }
   ],
   "source": [
    "df.loc['disease']['Description']"
   ]
  },
  {
   "cell_type": "code",
   "execution_count": 55,
   "metadata": {},
   "outputs": [
    {
     "data": {
      "text/plain": [
       "Index(['EDTA inhibitor tested', 'FAO classification', 'HIV status',\n",
       "       'NARMS isolate number', 'Omics Observatory ID',\n",
       "       'Population Description', 'Super Population Code',\n",
       "       'Super Population Description', 'absolute air humidity',\n",
       "       'affection status',\n",
       "       ...\n",
       "       'water content', 'water content of soil',\n",
       "       'water content of soil method', 'water current',\n",
       "       'water temperature regimen', 'watering regimen',\n",
       "       'weight loss in last three months', 'wet mass', 'wind direction',\n",
       "       'wind speed'],\n",
       "      dtype='object', name='Name', length=456)"
      ]
     },
     "execution_count": 55,
     "metadata": {},
     "output_type": "execute_result"
    }
   ],
   "source": [
    "df.index"
   ]
  },
  {
   "cell_type": "code",
   "execution_count": 57,
   "metadata": {},
   "outputs": [],
   "source": [
    "df.to_pickle('../BioSampleAttributes..pickle')"
   ]
  }
 ],
 "metadata": {
  "kernelspec": {
   "display_name": "Python 3",
   "language": "python",
   "name": "python3"
  },
  "language_info": {
   "codemirror_mode": {
    "name": "ipython",
    "version": 3
   },
   "file_extension": ".py",
   "mimetype": "text/x-python",
   "name": "python",
   "nbconvert_exporter": "python",
   "pygments_lexer": "ipython3",
   "version": "3.6.6"
  }
 },
 "nbformat": 4,
 "nbformat_minor": 4
}
