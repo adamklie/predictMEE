{
 "cells": [
  {
   "cell_type": "markdown",
   "metadata": {
    "toc": true
   },
   "source": [
    "<h1>Table of Contents<span class=\"tocSkip\"></span></h1>\n",
    "<div class=\"toc\"><ul class=\"toc-item\"><li><span><a href=\"#SRA-metadata-download\" data-toc-modified-id=\"SRA-metadata-download-1\"><span class=\"toc-item-num\">1&nbsp;&nbsp;</span>SRA metadata download</a></span><ul class=\"toc-item\"><li><span><a href=\"#Import-needed-packages\" data-toc-modified-id=\"Import-needed-packages-1.1\"><span class=\"toc-item-num\">1.1&nbsp;&nbsp;</span>Import needed packages</a></span></li><li><span><a href=\"#Download-per-sample-metadata-from-NCBI-FTP-using-previously-parsed-for-now,-will-need-to-write-code-to-parse\" data-toc-modified-id=\"Download-per-sample-metadata-from-NCBI-FTP-using-previously-parsed-for-now,-will-need-to-write-code-to-parse-1.2\"><span class=\"toc-item-num\">1.2&nbsp;&nbsp;</span>Download per sample metadata from <a href=\"https://ftp.ncbi.nlm.nih.gov/sra/reports/Metadata/\" target=\"_blank\">NCBI FTP</a> <font color=\"red\">using previously parsed for now, will need to write code to parse</font></a></span></li><li><span><a href=\"#Sample-and-study-technical-metadata-need-to-find-where-this-is-hiding\" data-toc-modified-id=\"Sample-and-study-technical-metadata-need-to-find-where-this-is-hiding-1.3\"><span class=\"toc-item-num\">1.3&nbsp;&nbsp;</span>Sample and study technical metadata <font color=\"red\">need to find where this is hiding</font></a></span></li><li><span><a href=\"#Download-BioSample-attribute-definitions\" data-toc-modified-id=\"Download-BioSample-attribute-definitions-1.4\"><span class=\"toc-item-num\">1.4&nbsp;&nbsp;</span>Download BioSample <a href=\"https://www.ncbi.nlm.nih.gov/biosample/docs/attributes/\" target=\"_blank\">attribute definitions</a></a></span></li></ul></li></ul></div>"
   ]
  },
  {
   "cell_type": "markdown",
   "metadata": {},
   "source": [
    "# SRA metadata download\n",
    "Adam Klie<br>11/23/2019<br>\n",
    "Script to download relevant data for building, training and testing metadata prediction models"
   ]
  },
  {
   "cell_type": "markdown",
   "metadata": {},
   "source": [
    "## Import needed packages"
   ]
  },
  {
   "cell_type": "code",
   "execution_count": 1,
   "metadata": {},
   "outputs": [],
   "source": [
    "import xml.etree.ElementTree as ET\n",
    "import pandas as pd\n",
    "import ipywidgets as widgets\n",
    "from IPython.display import IFrame\n",
    "import qgrid"
   ]
  },
  {
   "cell_type": "markdown",
   "metadata": {
    "heading_collapsed": true
   },
   "source": [
    "## Download per sample metadata from [NCBI FTP](https://ftp.ncbi.nlm.nih.gov/sra/reports/Metadata/) <font color='red'>using previously parsed for now, will need to write code to parse</font>"
   ]
  },
  {
   "cell_type": "code",
   "execution_count": 2,
   "metadata": {
    "hidden": true
   },
   "outputs": [
    {
     "data": {
      "text/html": [
       "\n",
       "        <iframe\n",
       "            width=\"800\"\n",
       "            height=\"450\"\n",
       "            src=\"https://ftp.ncbi.nlm.nih.gov/sra/reports/Metadata/\"\n",
       "            frameborder=\"0\"\n",
       "            allowfullscreen\n",
       "        ></iframe>\n",
       "        "
      ],
      "text/plain": [
       "<IPython.lib.display.IFrame at 0x7f31c8777cf8>"
      ]
     },
     "execution_count": 2,
     "metadata": {},
     "output_type": "execute_result"
    }
   ],
   "source": [
    "IFrame('https://ftp.ncbi.nlm.nih.gov/sra/reports/Metadata/', width=800, height=450)"
   ]
  },
  {
   "cell_type": "code",
   "execution_count": 3,
   "metadata": {
    "hidden": true
   },
   "outputs": [],
   "source": [
    "#!wget -O ../data/NCBI_SRA_Metadata_20181202.tar.gz https://ftp.ncbi.nlm.nih.gov/sra/reports/Metadata/NCBI_SRA_Metadata_20181202.tar.gz"
   ]
  },
  {
   "cell_type": "code",
   "execution_count": 4,
   "metadata": {
    "hidden": true
   },
   "outputs": [],
   "source": [
    "#!tar -vxzf ../data/NCBI_SRA_Metadata_20181202.tar.gz\n",
    "#sra_raw = pd.read_json('../data/NCBI_SRA_Metadata_20181202')"
   ]
  },
  {
   "cell_type": "markdown",
   "metadata": {
    "heading_collapsed": true
   },
   "source": [
    "## Sample and study technical metadata <font color='red'>need to find where this is hiding</font>"
   ]
  },
  {
   "cell_type": "markdown",
   "metadata": {
    "heading_collapsed": true
   },
   "source": [
    "## Download BioSample [attribute definitions](https://www.ncbi.nlm.nih.gov/biosample/docs/attributes/)"
   ]
  },
  {
   "cell_type": "code",
   "execution_count": 6,
   "metadata": {
    "hidden": true
   },
   "outputs": [
    {
     "data": {
      "text/html": [
       "\n",
       "        <iframe\n",
       "            width=\"800\"\n",
       "            height=\"500\"\n",
       "            src=\"https://www.ncbi.nlm.nih.gov/biosample/docs/attributes/\"\n",
       "            frameborder=\"0\"\n",
       "            allowfullscreen\n",
       "        ></iframe>\n",
       "        "
      ],
      "text/plain": [
       "<IPython.lib.display.IFrame at 0x7f319cc9ccc0>"
      ]
     },
     "execution_count": 6,
     "metadata": {},
     "output_type": "execute_result"
    }
   ],
   "source": [
    "IFrame('https://www.ncbi.nlm.nih.gov/biosample/docs/attributes/', width=800, height=500)"
   ]
  },
  {
   "cell_type": "code",
   "execution_count": 7,
   "metadata": {
    "hidden": true
   },
   "outputs": [],
   "source": [
    "#!wget -O ../data/BioSampleAttributes.xml https://www.ncbi.nlm.nih.gov/biosample/docs/attributes/?format=xml"
   ]
  },
  {
   "cell_type": "code",
   "execution_count": 10,
   "metadata": {
    "cell_style": "center",
    "hidden": true
   },
   "outputs": [],
   "source": [
    "def parseXML(xmlfile):\n",
    "  \n",
    "    # create element tree object\n",
    "    tree = ET.parse(xmlfile)\n",
    "  \n",
    "    # get root element\n",
    "    root = tree.getroot()\n",
    "    \n",
    "    # create empty list for news items\n",
    "    attribute_df = pd.DataFrame()\n",
    "  \n",
    "    # iterate news items\n",
    "    for item in root.findall('./Attribute'):\n",
    "        \n",
    "        # empty news dictionary\n",
    "        attribute = {}\n",
    "  \n",
    "        # iterate child elements of item\n",
    "        for child in item:\n",
    "            attribute[child.tag] = child.text\n",
    "            \n",
    "        # append news dictionary to news items list\n",
    "        attribute_df = attribute_df.append(attribute, ignore_index = True)\n",
    "      \n",
    "    # return news items list\n",
    "    return attribute_df"
   ]
  },
  {
   "cell_type": "code",
   "execution_count": 11,
   "metadata": {
    "hidden": true
   },
   "outputs": [],
   "source": [
    "df = parseXML('../data/BioSampleAttributes.xml').set_index('Name')"
   ]
  },
  {
   "cell_type": "code",
   "execution_count": 12,
   "metadata": {
    "hidden": true
   },
   "outputs": [],
   "source": [
    "qgrid_widget = qgrid.show_grid(df, show_toolbar=True)"
   ]
  },
  {
   "cell_type": "code",
   "execution_count": 13,
   "metadata": {
    "hidden": true
   },
   "outputs": [
    {
     "data": {
      "application/vnd.jupyter.widget-view+json": {
       "model_id": "c473c5505a2c4a658736658fce5d36df",
       "version_major": 2,
       "version_minor": 0
      },
      "text/plain": [
       "QgridWidget(grid_options={'fullWidthRows': True, 'syncColumnCellResize': True, 'forceFitColumns': True, 'defau…"
      ]
     },
     "metadata": {},
     "output_type": "display_data"
    }
   ],
   "source": [
    "qgrid_widget"
   ]
  },
  {
   "cell_type": "code",
   "execution_count": 16,
   "metadata": {
    "hidden": true
   },
   "outputs": [],
   "source": [
    "df.to_pickle('../data/BioSampleAttributes.pickle')"
   ]
  }
 ],
 "metadata": {
  "kernelspec": {
   "display_name": "deep_nlp_cpu",
   "language": "python",
   "name": "deep_nlp_cpu"
  },
  "language_info": {
   "codemirror_mode": {
    "name": "ipython",
    "version": 3
   },
   "file_extension": ".py",
   "mimetype": "text/x-python",
   "name": "python",
   "nbconvert_exporter": "python",
   "pygments_lexer": "ipython3",
   "version": "3.6.6"
  },
  "toc": {
   "base_numbering": 1,
   "nav_menu": {},
   "number_sections": true,
   "sideBar": true,
   "skip_h1_title": false,
   "title_cell": "Table of Contents",
   "title_sidebar": "Contents",
   "toc_cell": true,
   "toc_position": {},
   "toc_section_display": true,
   "toc_window_display": true
  }
 },
 "nbformat": 4,
 "nbformat_minor": 4
}
