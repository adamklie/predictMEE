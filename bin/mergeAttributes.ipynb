{
 "cells": [
  {
   "cell_type": "markdown",
   "metadata": {},
   "source": [
    "# Merging attributes from BioSample using word2vec\n",
    "Adam Klie<br>\n",
    "11/17/2019<br>\n",
    "Script to create classes as output for neural net using similarities between attribute word embeddings"
   ]
  },
  {
   "cell_type": "markdown",
   "metadata": {},
   "source": [
    "#### Import needed packages"
   ]
  },
  {
   "cell_type": "code",
   "execution_count": 2,
   "metadata": {},
   "outputs": [],
   "source": [
    "%matplotlib inline\n",
    "import pandas as pd\n",
    "import numpy as np\n",
    "import matplotlib.pyplot as plt\n",
    "import scipy.spatial as sp\n",
    "import spacy"
   ]
  },
  {
   "cell_type": "markdown",
   "metadata": {},
   "source": [
    "#### Helper function definitions"
   ]
  },
  {
   "cell_type": "code",
   "execution_count": 3,
   "metadata": {},
   "outputs": [],
   "source": [
    "def correlate_dataframes(df1, df2, metric = 'cosine' ):\n",
    "    M = 1 - sp.distance.cdist(df1, df2, metric)\n",
    "    return pd.DataFrame(data = M, index = df1.index, columns = df2.index)"
   ]
  },
  {
   "cell_type": "markdown",
   "metadata": {},
   "source": [
    "#### Load data and embedding model"
   ]
  },
  {
   "cell_type": "code",
   "execution_count": 4,
   "metadata": {},
   "outputs": [
    {
     "name": "stderr",
     "output_type": "stream",
     "text": [
      "/cellar/users/aklie/miniconda3/envs/deep_nlp_cpu/lib/python3.6/importlib/_bootstrap.py:219: RuntimeWarning: numpy.dtype size changed, may indicate binary incompatibility. Expected 96, got 88\n",
      "  return f(*args, **kwds)\n",
      "/cellar/users/aklie/miniconda3/envs/deep_nlp_cpu/lib/python3.6/importlib/_bootstrap.py:219: RuntimeWarning: numpy.ufunc size changed, may indicate binary incompatibility. Expected 192, got 176\n",
      "  return f(*args, **kwds)\n"
     ]
    }
   ],
   "source": [
    "# Load embedding model\n",
    "nlp = spacy.load('../data/wikipedia-pubmed-and-PMC-w2v')"
   ]
  },
  {
   "cell_type": "code",
   "execution_count": 6,
   "metadata": {},
   "outputs": [],
   "source": [
    "# Load attribute-value pairs\n",
    "SRS_dir = \"../data/allSRS_05_15_2018.pickle\"\n",
    "sra_dump_pickle_dir = \"../data/sra_dump.pickle\"\n",
    "allSRS = pd.read_pickle(SRS_dir)\n",
    "technical_meta_data_df = pd.read_pickle(sra_dump_pickle_dir)"
   ]
  },
  {
   "cell_type": "markdown",
   "metadata": {},
   "source": [
    "#### Cap at 100 samples per study to avoid study bias and use only those attributes that are similar to defined classes"
   ]
  },
  {
   "cell_type": "code",
   "execution_count": 8,
   "metadata": {},
   "outputs": [
    {
     "name": "stdout",
     "output_type": "stream",
     "text": [
      "Number of samples left after capping: 2348023\n"
     ]
    }
   ],
   "source": [
    "max_sample_per_study_n = 100\n",
    "capped_samples = technical_meta_data_df.groupby('Study').head(n = max_sample_per_study_n)['Sample']\n",
    "print(\"Number of samples left after capping: %d\" % (len(capped_samples)))"
   ]
  },
  {
   "cell_type": "code",
   "execution_count": 13,
   "metadata": {},
   "outputs": [],
   "source": [
    "capped_m = allSRS.index.get_level_values(0).isin(capped_samples.values)"
   ]
  },
  {
   "cell_type": "code",
   "execution_count": 14,
   "metadata": {},
   "outputs": [],
   "source": [
    "subset_SRS = allSRS[capped_m]"
   ]
  },
  {
   "cell_type": "code",
   "execution_count": 34,
   "metadata": {},
   "outputs": [],
   "source": [
    "# Build a dataframe for the key (attribute) and values for each sample (srs)\n",
    "SRS_df = pd.DataFrame(subset_SRS).reset_index()\n",
    "SRS_df.columns = ['srs', 'attribute', 'value']"
   ]
  },
  {
   "cell_type": "markdown",
   "metadata": {},
   "source": [
    "#### Sample attributes that occur greater than 100 times"
   ]
  },
  {
   "cell_type": "code",
   "execution_count": 16,
   "metadata": {},
   "outputs": [],
   "source": [
    "# Take only attributes with more than 100 samples to compare\n",
    "attribute_counts = SRS_df['attribute'].value_counts()\n",
    "recurr_attrib = attribute_counts.index[attribute_counts > 100]\n",
    "recurring_df = SRS_df[SRS_df.attribute.isin(recurr_attrib)]"
   ]
  },
  {
   "cell_type": "code",
   "execution_count": 17,
   "metadata": {},
   "outputs": [
    {
     "name": "stdout",
     "output_type": "stream",
     "text": [
      "There are 2854 recurring attributes (greater than 100 samples)\n"
     ]
    }
   ],
   "source": [
    "print(\"There are %d recurring attributes (greater than 100 samples)\" % len(recurr_attrib))"
   ]
  },
  {
   "cell_type": "code",
   "execution_count": 18,
   "metadata": {},
   "outputs": [],
   "source": [
    "# Randomly sample 100 per entities for generating entity vector\n",
    "shuffled_df = recurring_df.sample(recurring_df.shape[0])\n",
    "subset_df = shuffled_df.groupby('attribute').head(n = 100)\n",
    "del recurring_df, shuffled_df"
   ]
  },
  {
   "cell_type": "markdown",
   "metadata": {},
   "source": [
    "#### Get average embedding vector for each attribute"
   ]
  },
  {
   "cell_type": "code",
   "execution_count": 21,
   "metadata": {},
   "outputs": [],
   "source": [
    "# Get vector representation for all attribute-value pairs randomly selected\n",
    "docs = nlp.pipe(subset_df['value'].tolist())\n",
    "vectors = [doc.vector for doc in docs]\n",
    "doc_vector_df = pd.DataFrame(vectors, index = subset_df.set_index(['srs','attribute','value']).index).astype(float)"
   ]
  },
  {
   "cell_type": "code",
   "execution_count": 22,
   "metadata": {},
   "outputs": [],
   "source": [
    "# Take average of each attribute and correlate them by cosine similarity\n",
    "attribute_means = doc_vector_df.groupby('attribute').mean()\n",
    "embedding_df = attribute_means[attribute_means.sum(axis=1).abs()>0]\n",
    "corr_df = correlate_dataframes(embedding_df, embedding_df)"
   ]
  },
  {
   "cell_type": "code",
   "execution_count": 23,
   "metadata": {},
   "outputs": [
    {
     "data": {
      "text/plain": [
       "Text(0.5,1,'Distribution of cosine similarities of attributes')"
      ]
     },
     "execution_count": 23,
     "metadata": {},
     "output_type": "execute_result"
    },
    {
     "data": {
      "image/png": "[encoded data removed]",
      "text/plain": [
       "<Figure size 432x288 with 1 Axes>"
      ]
     },
     "metadata": {},
     "output_type": "display_data"
    }
   ],
   "source": [
    "plt.hist(corr_df.unstack().dropna(), bins = 20)\n",
    "plt.xlabel(\"Cosine similarity\")\n",
    "plt.ylabel('Frequency')\n",
    "plt.title('Distribution of cosine similarities of attributes')"
   ]
  },
  {
   "cell_type": "code",
   "execution_count": 28,
   "metadata": {},
   "outputs": [],
   "source": [
    "# Choose higher categories that will encompass merged attributes\n",
    "similarity_threshold = 0.8\n",
    "orig_grouping = pd.Series({'SCIENTIFIC_NAME':'Species',\n",
    "                           'genotype':'Genotype',\n",
    "                           'disease':'Disease state',\n",
    "                           'cell type':'Cell type/tissue',\n",
    "                           'tissue':'Cell type/tissue',\n",
    "                           'geo_loc_name':'Geographical Location',\n",
    "                           'treatment':'Treatment and conditions'})\n",
    "\n",
    "simple_grouping = pd.Series({'SCIENTIFIC_NAME':'Species',\n",
    "                            'cell type':'Cell type',\n",
    "                            'genotype':'Genotype',\n",
    "                            'disease':'Condition/Disease',\n",
    "                            'tissue':'Tissue'})\n",
    "\n",
    "eleven_class_grouping = pd.Series({'SCIENTIFIC_NAME':'Species',\n",
    "                                   'strain':'Strain',\n",
    "                                   'cell type':'Cell type',\n",
    "                                   'genotype':'Genotype',\n",
    "                                   'disease':'Condition/Disease',\n",
    "                                   'tissue':'Tissue',\n",
    "                                   'sex':'Sex',\n",
    "                                   'age':'Age',\n",
    "                                   'molecular data type':'Data type',\n",
    "                                   'platform':'Platform',\n",
    "                                   'protocol':'Protocol'})\n",
    "grouping = simple_grouping\n",
    "selected_seeds = grouping.index\n",
    "model_iter = \"simple\""
   ]
  },
  {
   "cell_type": "code",
   "execution_count": 29,
   "metadata": {},
   "outputs": [],
   "source": [
    "# Find all attributes closest to the seed attributes by threshold\n",
    "dataframe_list = []\n",
    "for attribute in selected_seeds:\n",
    "    if attribute == 'age':\n",
    "        tmp_series = corr_df[attribute][corr_df[attribute].index.isin(['age', 'AGE', 'Age'])]\n",
    "        tmp_df = tmp_series.sort_values(ascending = False).to_frame().reset_index()\n",
    "    else:\n",
    "        tmp_series = corr_df[attribute].sort_values(ascending = False)\n",
    "        tmp_df = tmp_series[tmp_series>= similarity_threshold].to_frame().reset_index()\n",
    "    tmp_df.columns = ['attribute','similarity']\n",
    "    dataframe_list.append(tmp_df)"
   ]
  },
  {
   "cell_type": "code",
   "execution_count": 30,
   "metadata": {},
   "outputs": [],
   "source": [
    "# Create a dataframe of entities that are similar\n",
    "merged_df = pd.concat(dataframe_list, keys = selected_seeds, axis = 0)\n",
    "merged_df.index.names=['GroupName','I']\n",
    "merged_reset_df = merged_df.reset_index()\n",
    "similar_df = merged_reset_df[merged_reset_df['similarity'] >= similarity_threshold]\n",
    "similar_df['GroupName'] = grouping[similar_df['GroupName']].values"
   ]
  },
  {
   "cell_type": "code",
   "execution_count": 32,
   "metadata": {},
   "outputs": [],
   "source": [
    "similar_df.to_csv('../results/entity_merging_{model}.csv'.format(model = model_iter))"
   ]
  },
  {
   "cell_type": "markdown",
   "metadata": {},
   "source": [
    "#### Determine coverage increase with merging"
   ]
  },
  {
   "cell_type": "code",
   "execution_count": 35,
   "metadata": {},
   "outputs": [],
   "source": [
    "similar_df['value count'] = SRS_df['attribute'].value_counts()[similar_df['attribute'].values].values"
   ]
  },
  {
   "cell_type": "code",
   "execution_count": 36,
   "metadata": {},
   "outputs": [],
   "source": [
    "counts_df = similar_df[similar_df['attribute'].isin(['age', 'cell type', 'disease', 'molecular data type',\n",
    "                                        'genotype', 'platform', 'protocol', 'sex', 'SCIENTIFIC_NAME',\n",
    "                                        'strain', 'tissue'])].sort_values('GroupName').drop('I', axis = 1)\n",
    "counts_df['merged count'] = similar_df.groupby('GroupName').sum()['value count'].values\n",
    "counts_df['factor of increase'] = counts_df['merged count']/counts_df['value count']"
   ]
  },
  {
   "cell_type": "code",
   "execution_count": 37,
   "metadata": {},
   "outputs": [
    {
     "data": {
      "text/html": [
       "<div>\n",
       "<style scoped>\n",
       "    .dataframe tbody tr th:only-of-type {\n",
       "        vertical-align: middle;\n",
       "    }\n",
       "\n",
       "    .dataframe tbody tr th {\n",
       "        vertical-align: top;\n",
       "    }\n",
       "\n",
       "    .dataframe thead th {\n",
       "        text-align: right;\n",
       "    }\n",
       "</style>\n",
       "<table border=\"1\" class=\"dataframe\">\n",
       "  <thead>\n",
       "    <tr style=\"text-align: right;\">\n",
       "      <th></th>\n",
       "      <th>GroupName</th>\n",
       "      <th>attribute</th>\n",
       "      <th>similarity</th>\n",
       "      <th>value count</th>\n",
       "      <th>merged count</th>\n",
       "      <th>factor of increase</th>\n",
       "    </tr>\n",
       "  </thead>\n",
       "  <tbody>\n",
       "    <tr>\n",
       "      <th>9</th>\n",
       "      <td>Cell type</td>\n",
       "      <td>cell type</td>\n",
       "      <td>1.0</td>\n",
       "      <td>92338</td>\n",
       "      <td>406554</td>\n",
       "      <td>4.402889</td>\n",
       "    </tr>\n",
       "    <tr>\n",
       "      <th>34</th>\n",
       "      <td>Condition/Disease</td>\n",
       "      <td>disease</td>\n",
       "      <td>1.0</td>\n",
       "      <td>21539</td>\n",
       "      <td>29716</td>\n",
       "      <td>1.379637</td>\n",
       "    </tr>\n",
       "    <tr>\n",
       "      <th>24</th>\n",
       "      <td>Genotype</td>\n",
       "      <td>genotype</td>\n",
       "      <td>1.0</td>\n",
       "      <td>73997</td>\n",
       "      <td>111392</td>\n",
       "      <td>1.505358</td>\n",
       "    </tr>\n",
       "    <tr>\n",
       "      <th>0</th>\n",
       "      <td>Species</td>\n",
       "      <td>SCIENTIFIC_NAME</td>\n",
       "      <td>1.0</td>\n",
       "      <td>1120707</td>\n",
       "      <td>1384957</td>\n",
       "      <td>1.235789</td>\n",
       "    </tr>\n",
       "    <tr>\n",
       "      <th>40</th>\n",
       "      <td>Tissue</td>\n",
       "      <td>tissue</td>\n",
       "      <td>1.0</td>\n",
       "      <td>267834</td>\n",
       "      <td>290836</td>\n",
       "      <td>1.085882</td>\n",
       "    </tr>\n",
       "  </tbody>\n",
       "</table>\n",
       "</div>"
      ],
      "text/plain": [
       "            GroupName        attribute  similarity  value count  merged count  \\\n",
       "9           Cell type        cell type         1.0        92338        406554   \n",
       "34  Condition/Disease          disease         1.0        21539         29716   \n",
       "24           Genotype         genotype         1.0        73997        111392   \n",
       "0             Species  SCIENTIFIC_NAME         1.0      1120707       1384957   \n",
       "40             Tissue           tissue         1.0       267834        290836   \n",
       "\n",
       "    factor of increase  \n",
       "9             4.402889  \n",
       "34            1.379637  \n",
       "24            1.505358  \n",
       "0             1.235789  \n",
       "40            1.085882  "
      ]
     },
     "metadata": {},
     "output_type": "display_data"
    }
   ],
   "source": [
    "display(counts_df)"
   ]
  }
 ],
 "metadata": {
  "kernelspec": {
   "display_name": "Python 3",
   "language": "python",
   "name": "python3"
  },
  "language_info": {
   "codemirror_mode": {
    "name": "ipython",
    "version": 3
   },
   "file_extension": ".py",
   "mimetype": "text/x-python",
   "name": "python",
   "nbconvert_exporter": "python",
   "pygments_lexer": "ipython3",
   "version": "3.6.6"
  }
 },
 "nbformat": 4,
 "nbformat_minor": 4
}
