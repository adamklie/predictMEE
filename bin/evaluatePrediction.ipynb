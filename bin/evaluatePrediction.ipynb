{
 "cells": [
  {
   "cell_type": "markdown",
   "metadata": {},
   "source": [
    "# Evaluation of metadata predictions\n",
    "Adam Klie<br>\n",
    "12/08/2019<br>\n",
    "Script to evaluate predictions"
   ]
  },
  {
   "cell_type": "markdown",
   "metadata": {},
   "source": [
    "## Set-up"
   ]
  },
  {
   "cell_type": "markdown",
   "metadata": {},
   "source": [
    "### Load necessary packages"
   ]
  },
  {
   "cell_type": "code",
   "execution_count": 29,
   "metadata": {},
   "outputs": [],
   "source": [
    "%matplotlib inline\n",
    "import pandas as pd\n",
    "import numpy as np\n",
    "import matplotlib.pyplot as plt\n",
    "import seaborn as sns\n",
    "import spacy\n",
    "import Levenshtein\n",
    "\n",
    "from sklearn.metrics.pairwise import cosine_similarity\n",
    "from nltk.translate.bleu_score import sentence_bleu\n",
    "from nltk.translate.bleu_score import SmoothingFunction"
   ]
  },
  {
   "cell_type": "markdown",
   "metadata": {},
   "source": [
    "### Load data"
   ]
  },
  {
   "cell_type": "markdown",
   "metadata": {},
   "source": [
    "#### Load embedding model"
   ]
  },
  {
   "cell_type": "code",
   "execution_count": 31,
   "metadata": {},
   "outputs": [
    {
     "name": "stderr",
     "output_type": "stream",
     "text": [
      "/cellar/users/aklie/miniconda3/envs/deep_nlp_cpu/lib/python3.6/importlib/_bootstrap.py:219: RuntimeWarning: numpy.dtype size changed, may indicate binary incompatibility. Expected 96, got 88\n",
      "  return f(*args, **kwds)\n",
      "/cellar/users/aklie/miniconda3/envs/deep_nlp_cpu/lib/python3.6/importlib/_bootstrap.py:219: RuntimeWarning: numpy.ufunc size changed, may indicate binary incompatibility. Expected 192, got 176\n",
      "  return f(*args, **kwds)\n"
     ]
    }
   ],
   "source": [
    "nlp = spacy.load('../data/wikipedia-pubmed-and-PMC-w2v')"
   ]
  },
  {
   "cell_type": "markdown",
   "metadata": {},
   "source": [
    "#### Create dataframe"
   ]
  },
  {
   "cell_type": "code",
   "execution_count": 32,
   "metadata": {},
   "outputs": [],
   "source": [
    "model_iter = '11_class'"
   ]
  },
  {
   "cell_type": "code",
   "execution_count": 33,
   "metadata": {},
   "outputs": [],
   "source": [
    "grouping = pd.read_csv('../results/embedding/{model}_entity_merging.csv'.format(model=model_iter), index_col=0)"
   ]
  },
  {
   "cell_type": "code",
   "execution_count": 34,
   "metadata": {},
   "outputs": [],
   "source": [
    "groups = grouping[grouping[\"I\"] == 0][\"GroupName\"].values"
   ]
  },
  {
   "cell_type": "code",
   "execution_count": 211,
   "metadata": {},
   "outputs": [
    {
     "name": "stdout",
     "output_type": "stream",
     "text": [
      "Species : 1000 , 828\n",
      "Strain : 1000 , 397\n",
      "Cell_type : 355 , 0\n",
      "Genotype : 340 , 56\n",
      "Condition_Disease : 65 , 0\n",
      "Tissue : 792 , 187\n",
      "Sex : 42 , 0\n",
      "Age : 541 , 94\n",
      "Data_type : 10 , 0\n",
      "Protocol : 15 , 6\n"
     ]
    }
   ],
   "source": [
    "import warnings\n",
    "warnings.filterwarnings('ignore')\n",
    "validation_data_count = {}\n",
    "merged = pd.DataFrame()\n",
    "total_count = 0\n",
    "for group in groups:\n",
    "    group = group.replace(' ', '_')\n",
    "    group = group.replace('/', '_')\n",
    "    if group == \"Platform\":\n",
    "        continue\n",
    "    predicted_df = pd.read_pickle(\n",
    "    '../results/prediction/{mymodel}/{myclass}_prediction.pickle'.format(mymodel = model_iter, \n",
    "                                                                          myclass = group))\n",
    "    class_validation = pd.read_pickle(\n",
    "    '../results/validation/{mymodel}/{myclass}_validation_values.pickle'.format(mymodel = model_iter, \n",
    "                                                                                myclass = group))\n",
    "    validation_data = pd.read_pickle(\n",
    "    '../results/validation/{mymodel}/{myclass}_validation_set.pickle'.format(mymodel = model_iter, \n",
    "                                                                             myclass = group))\n",
    "    class_df = predicted_df[predicted_df['predicted'] == group]\n",
    "    print(group, \":\", validation_data.shape[0], \",\", class_df.shape[0])\n",
    "    validation_data_count[group] = validation_data.shape[0]\n",
    "    tmp_df = class_validation.loc[class_df['srs'].values]\n",
    "    tmp_df = tmp_df.loc[~tmp_df.index.duplicated(keep = 'first')]\n",
    "    class_df['actual'] = tmp_df.loc[class_df['srs'].values]['value'].values\n",
    "    merged = pd.concat([merged, class_df], axis=0)\n",
    "    total_count = total_count + validation_data.shape[0]"
   ]
  },
  {
   "cell_type": "markdown",
   "metadata": {},
   "source": [
    "## Prediction performance"
   ]
  },
  {
   "cell_type": "markdown",
   "metadata": {},
   "source": [
    "### Overall prediction stats"
   ]
  },
  {
   "cell_type": "code",
   "execution_count": 102,
   "metadata": {},
   "outputs": [
    {
     "name": "stdout",
     "output_type": "stream",
     "text": [
      "1568/4160 (37.69%) predicted\n"
     ]
    }
   ],
   "source": [
    "predicted_count = merged.shape[0]\n",
    "print(('%d/%d (%.2f%%) predicted' % \n",
    "       (predicted_count, total_count, predicted_count/total_count*100)))"
   ]
  },
  {
   "cell_type": "code",
   "execution_count": 119,
   "metadata": {},
   "outputs": [
    {
     "data": {
      "text/plain": [
       "Species     828\n",
       "Strain      397\n",
       "Tissue      187\n",
       "Age          94\n",
       "Genotype     56\n",
       "Protocol      6\n",
       "Name: predicted, dtype: int64"
      ]
     },
     "execution_count": 119,
     "metadata": {},
     "output_type": "execute_result"
    }
   ],
   "source": [
    "merged[\"predicted\"].value_counts()"
   ]
  },
  {
   "cell_type": "code",
   "execution_count": 103,
   "metadata": {},
   "outputs": [],
   "source": [
    "# missing_df = class_validation[~class_validation.index.isin(class_df['srs'].values)]\n",
    "# missing = validation_data[~validation_data.index.get_level_values(0).isin(class_df['srs'].values)]\n",
    "# if missing_df.shape[0] == len(missing):  # if there are not duplicate srs predictions\n",
    "#     missing_df['TITLE'] = missing.values"
   ]
  },
  {
   "cell_type": "code",
   "execution_count": 104,
   "metadata": {},
   "outputs": [],
   "source": [
    "# missing_df.to_csv(\n",
    "#     '../results/{model}/predictions/{myclass}_missing.csv'.format(model = model_iter, myclass = predicted_class))"
   ]
  },
  {
   "cell_type": "markdown",
   "metadata": {},
   "source": [
    "### Exact matches"
   ]
  },
  {
   "cell_type": "code",
   "execution_count": 123,
   "metadata": {},
   "outputs": [],
   "source": [
    "merged[\"exact_match\"] = merged['token'] == merged['actual']"
   ]
  },
  {
   "cell_type": "code",
   "execution_count": 124,
   "metadata": {},
   "outputs": [
    {
     "name": "stdout",
     "output_type": "stream",
     "text": [
      "422/1568 (26.91%) exact matches\n"
     ]
    }
   ],
   "source": [
    "num_correct = merged[\"exact_match\"].sum()\n",
    "print(('%d/%d (%.2f%%) exact matches' % \n",
    "       (num_correct, predicted_count, num_correct/predicted_count*100)))"
   ]
  },
  {
   "cell_type": "code",
   "execution_count": 147,
   "metadata": {},
   "outputs": [
    {
     "data": {
      "text/html": [
       "<div>\n",
       "<style scoped>\n",
       "    .dataframe tbody tr th:only-of-type {\n",
       "        vertical-align: middle;\n",
       "    }\n",
       "\n",
       "    .dataframe tbody tr th {\n",
       "        vertical-align: top;\n",
       "    }\n",
       "\n",
       "    .dataframe thead tr th {\n",
       "        text-align: left;\n",
       "    }\n",
       "\n",
       "    .dataframe thead tr:last-of-type th {\n",
       "        text-align: right;\n",
       "    }\n",
       "</style>\n",
       "<table border=\"1\" class=\"dataframe\">\n",
       "  <thead>\n",
       "    <tr>\n",
       "      <th></th>\n",
       "      <th colspan=\"2\" halign=\"left\">0</th>\n",
       "    </tr>\n",
       "    <tr>\n",
       "      <th>exact_match</th>\n",
       "      <th>False</th>\n",
       "      <th>True</th>\n",
       "    </tr>\n",
       "    <tr>\n",
       "      <th>predicted</th>\n",
       "      <th></th>\n",
       "      <th></th>\n",
       "    </tr>\n",
       "  </thead>\n",
       "  <tbody>\n",
       "    <tr>\n",
       "      <th>Age</th>\n",
       "      <td>82</td>\n",
       "      <td>12</td>\n",
       "    </tr>\n",
       "    <tr>\n",
       "      <th>Genotype</th>\n",
       "      <td>43</td>\n",
       "      <td>13</td>\n",
       "    </tr>\n",
       "    <tr>\n",
       "      <th>Protocol</th>\n",
       "      <td>5</td>\n",
       "      <td>1</td>\n",
       "    </tr>\n",
       "    <tr>\n",
       "      <th>Species</th>\n",
       "      <td>486</td>\n",
       "      <td>342</td>\n",
       "    </tr>\n",
       "    <tr>\n",
       "      <th>Strain</th>\n",
       "      <td>365</td>\n",
       "      <td>32</td>\n",
       "    </tr>\n",
       "    <tr>\n",
       "      <th>Tissue</th>\n",
       "      <td>165</td>\n",
       "      <td>22</td>\n",
       "    </tr>\n",
       "  </tbody>\n",
       "</table>\n",
       "</div>"
      ],
      "text/plain": [
       "                0      \n",
       "exact_match False True \n",
       "predicted              \n",
       "Age            82    12\n",
       "Genotype       43    13\n",
       "Protocol        5     1\n",
       "Species       486   342\n",
       "Strain        365    32\n",
       "Tissue        165    22"
      ]
     },
     "execution_count": 147,
     "metadata": {},
     "output_type": "execute_result"
    }
   ],
   "source": [
    "class_exact = merged.groupby(['predicted', 'exact_match']).size().reset_index().pivot(index='predicted', \n",
    "                                                                                      columns='exact_match')\n",
    "class_exact"
   ]
  },
  {
   "cell_type": "code",
   "execution_count": 148,
   "metadata": {},
   "outputs": [
    {
     "data": {
      "text/plain": [
       "exact_match\n",
       "False    0.381224\n",
       "True     0.456177\n",
       "Name: score, dtype: float32"
      ]
     },
     "execution_count": 148,
     "metadata": {},
     "output_type": "execute_result"
    }
   ],
   "source": [
    "merged.groupby('exact_match').mean()[\"score\"]"
   ]
  },
  {
   "cell_type": "code",
   "execution_count": 149,
   "metadata": {},
   "outputs": [
    {
     "data": {
      "text/plain": [
       "<matplotlib.legend.Legend at 0x7fda7ed494e0>"
      ]
     },
     "execution_count": 149,
     "metadata": {},
     "output_type": "execute_result"
    },
    {
     "data": {
      "image/png": "[encoded data removed]",
      "text/plain": [
       "<Figure size 432x288 with 1 Axes>"
      ]
     },
     "metadata": {
      "needs_background": "light"
     },
     "output_type": "display_data"
    }
   ],
   "source": [
    "sns.distplot(merged[merged['exact_match'] == True]['score'], label='Match', kde=False)\n",
    "sns.distplot(merged[merged['exact_match'] == False]['score'], label='Non-match', kde=False)\n",
    "plt.legend(prop={'size': 12})"
   ]
  },
  {
   "cell_type": "code",
   "execution_count": 150,
   "metadata": {},
   "outputs": [],
   "source": [
    "# exact_correct_df.to_csv(\n",
    "#     '../results/{model}/predictions/{myclass}_correct.csv'.format(model = model_iter, myclass = predicted_class))\n",
    "# exact_incorrect_df.to_csv(\n",
    "#     '../results/{model}/predictions/{myclass}_incorrect.csv'.format(model = model_iter, myclass = predicted_class))"
   ]
  },
  {
   "cell_type": "code",
   "execution_count": 151,
   "metadata": {},
   "outputs": [
    {
     "data": {
      "image/png": "[encoded data removed]",
      "text/plain": [
       "<Figure size 432x288 with 1 Axes>"
      ]
     },
     "metadata": {
      "needs_background": "light"
     },
     "output_type": "display_data"
    }
   ],
   "source": [
    "ax = sns.violinplot(x='predicted', y='score', data=merged, hue='exact_match')"
   ]
  },
  {
   "cell_type": "markdown",
   "metadata": {},
   "source": [
    "### Contained within"
   ]
  },
  {
   "cell_type": "code",
   "execution_count": 158,
   "metadata": {},
   "outputs": [],
   "source": [
    "def within(x):\n",
    "    if (x[\"actual\"] in x['token']) or (x['token'] in x[\"actual\"]):\n",
    "        return True\n",
    "    else:\n",
    "        return False"
   ]
  },
  {
   "cell_type": "code",
   "execution_count": 159,
   "metadata": {},
   "outputs": [],
   "source": [
    "merged['within'] = merged.apply(within, axis=1)\n",
    "count = merged['within'].sum()"
   ]
  },
  {
   "cell_type": "code",
   "execution_count": 160,
   "metadata": {},
   "outputs": [
    {
     "name": "stdout",
     "output_type": "stream",
     "text": [
      "1187/1568 (75.70%) of predicted contained in actual\n"
     ]
    }
   ],
   "source": [
    "print(('%d/%d (%.2f%%) of predicted contained in actual' % \n",
    "       (count, predicted_count, count/predicted_count*100)))"
   ]
  },
  {
   "cell_type": "code",
   "execution_count": 203,
   "metadata": {},
   "outputs": [],
   "source": [
    "class_contain = merged.groupby(['predicted', 'within']).size().reset_index().pivot(index='predicted', \n",
    "                                                                                      columns='within')\n",
    "class_contain.columns = [\"non-match\", \"match\"]\n",
    "class_contain[\"fraction_match\"] = class_contain[\"match\"]/class_contain.sum(axis=1)"
   ]
  },
  {
   "cell_type": "code",
   "execution_count": 204,
   "metadata": {},
   "outputs": [
    {
     "data": {
      "text/html": [
       "<div>\n",
       "<style scoped>\n",
       "    .dataframe tbody tr th:only-of-type {\n",
       "        vertical-align: middle;\n",
       "    }\n",
       "\n",
       "    .dataframe tbody tr th {\n",
       "        vertical-align: top;\n",
       "    }\n",
       "\n",
       "    .dataframe thead th {\n",
       "        text-align: right;\n",
       "    }\n",
       "</style>\n",
       "<table border=\"1\" class=\"dataframe\">\n",
       "  <thead>\n",
       "    <tr style=\"text-align: right;\">\n",
       "      <th></th>\n",
       "      <th>non-match</th>\n",
       "      <th>match</th>\n",
       "      <th>fraction_match</th>\n",
       "    </tr>\n",
       "    <tr>\n",
       "      <th>predicted</th>\n",
       "      <th></th>\n",
       "      <th></th>\n",
       "      <th></th>\n",
       "    </tr>\n",
       "  </thead>\n",
       "  <tbody>\n",
       "    <tr>\n",
       "      <th>Age</th>\n",
       "      <td>60</td>\n",
       "      <td>34</td>\n",
       "      <td>0.361702</td>\n",
       "    </tr>\n",
       "    <tr>\n",
       "      <th>Genotype</th>\n",
       "      <td>33</td>\n",
       "      <td>23</td>\n",
       "      <td>0.410714</td>\n",
       "    </tr>\n",
       "    <tr>\n",
       "      <th>Protocol</th>\n",
       "      <td>3</td>\n",
       "      <td>3</td>\n",
       "      <td>0.500000</td>\n",
       "    </tr>\n",
       "    <tr>\n",
       "      <th>Species</th>\n",
       "      <td>77</td>\n",
       "      <td>751</td>\n",
       "      <td>0.907005</td>\n",
       "    </tr>\n",
       "    <tr>\n",
       "      <th>Strain</th>\n",
       "      <td>85</td>\n",
       "      <td>312</td>\n",
       "      <td>0.785894</td>\n",
       "    </tr>\n",
       "    <tr>\n",
       "      <th>Tissue</th>\n",
       "      <td>123</td>\n",
       "      <td>64</td>\n",
       "      <td>0.342246</td>\n",
       "    </tr>\n",
       "  </tbody>\n",
       "</table>\n",
       "</div>"
      ],
      "text/plain": [
       "           non-match  match  fraction_match\n",
       "predicted                                  \n",
       "Age               60     34        0.361702\n",
       "Genotype          33     23        0.410714\n",
       "Protocol           3      3        0.500000\n",
       "Species           77    751        0.907005\n",
       "Strain            85    312        0.785894\n",
       "Tissue           123     64        0.342246"
      ]
     },
     "execution_count": 204,
     "metadata": {},
     "output_type": "execute_result"
    }
   ],
   "source": [
    "class_contain"
   ]
  },
  {
   "cell_type": "markdown",
   "metadata": {},
   "source": [
    "### Cosine similarity"
   ]
  },
  {
   "cell_type": "code",
   "execution_count": 169,
   "metadata": {},
   "outputs": [],
   "source": [
    "predicted_docs = nlp.pipe(merged['token'].tolist())\n",
    "predicted_vectors = np.array([doc.vector for doc in predicted_docs])\n",
    "\n",
    "actual_docs = nlp.pipe(merged['actual'].tolist())\n",
    "actual_vectors = np.array([doc.vector for doc in actual_docs])"
   ]
  },
  {
   "cell_type": "code",
   "execution_count": 170,
   "metadata": {},
   "outputs": [],
   "source": [
    "similarities = []\n",
    "for i in range(len(predicted_vectors)):\n",
    "    cosine_sim = cosine_similarity(predicted_vectors[i].reshape(1,200), actual_vectors[i].reshape(1,200))\n",
    "    similarities.append(float(cosine_sim))"
   ]
  },
  {
   "cell_type": "code",
   "execution_count": 185,
   "metadata": {
    "cell_style": "center"
   },
   "outputs": [],
   "source": [
    "merged[\"cosine_similarity\"] = similarities"
   ]
  },
  {
   "cell_type": "code",
   "execution_count": 188,
   "metadata": {},
   "outputs": [
    {
     "data": {
      "text/plain": [
       "(array([  4., 336.,  34.,  33.,  29.,  37.,  40.,  87., 158., 810.]),\n",
       " array([-0.13195045, -0.01875538,  0.09443969,  0.20763475,  0.32082982,\n",
       "         0.43402489,  0.54721996,  0.66041503,  0.7736101 ,  0.88680517,\n",
       "         1.00000024]),\n",
       " <a list of 10 Patch objects>)"
      ]
     },
     "execution_count": 188,
     "metadata": {},
     "output_type": "execute_result"
    },
    {
     "data": {
      "image/png": "[encoded data removed]",
      "text/plain": [
       "<Figure size 432x288 with 1 Axes>"
      ]
     },
     "metadata": {
      "needs_background": "light"
     },
     "output_type": "display_data"
    }
   ],
   "source": [
    "plt.hist(merged['cosine_similarity'])"
   ]
  },
  {
   "cell_type": "code",
   "execution_count": 191,
   "metadata": {},
   "outputs": [],
   "source": [
    "sim_threshold = 0.8\n",
    "merged[\"cosine_match\"] = merged['cosine_similarity'].values > sim_threshold\n",
    "num_sim = merged[\"cosine_match\"].sum()"
   ]
  },
  {
   "cell_type": "code",
   "execution_count": 190,
   "metadata": {
    "scrolled": true
   },
   "outputs": [
    {
     "name": "stdout",
     "output_type": "stream",
     "text": [
      "940/1568 (59.95%) Predicted with cosine similarity greater than 0.8\n",
      "\n"
     ]
    }
   ],
   "source": [
    "print(('%d/%d (%.2f%%) Predicted with cosine similarity greater than %.1f\\n' \n",
    "                     % (num_sim, predicted_count, num_sim/predicted_count*100, sim_threshold)))"
   ]
  },
  {
   "cell_type": "code",
   "execution_count": 199,
   "metadata": {},
   "outputs": [],
   "source": [
    "class_cosine = merged.groupby(['predicted', 'cosine_match']).size().reset_index().pivot(index='predicted', \n",
    "                                                                                        columns='cosine_match')\n",
    "class_cosine.columns = [\"non-match\", \"match\"]\n",
    "class_cosine[\"fraction_match\"] = class_cosine[\"match\"]/class_cosine.sum(axis=1)"
   ]
  },
  {
   "cell_type": "code",
   "execution_count": 200,
   "metadata": {},
   "outputs": [
    {
     "data": {
      "text/html": [
       "<div>\n",
       "<style scoped>\n",
       "    .dataframe tbody tr th:only-of-type {\n",
       "        vertical-align: middle;\n",
       "    }\n",
       "\n",
       "    .dataframe tbody tr th {\n",
       "        vertical-align: top;\n",
       "    }\n",
       "\n",
       "    .dataframe thead th {\n",
       "        text-align: right;\n",
       "    }\n",
       "</style>\n",
       "<table border=\"1\" class=\"dataframe\">\n",
       "  <thead>\n",
       "    <tr style=\"text-align: right;\">\n",
       "      <th></th>\n",
       "      <th>non-match</th>\n",
       "      <th>match</th>\n",
       "      <th>fraction_match</th>\n",
       "    </tr>\n",
       "    <tr>\n",
       "      <th>predicted</th>\n",
       "      <th></th>\n",
       "      <th></th>\n",
       "      <th></th>\n",
       "    </tr>\n",
       "  </thead>\n",
       "  <tbody>\n",
       "    <tr>\n",
       "      <th>Age</th>\n",
       "      <td>58</td>\n",
       "      <td>36</td>\n",
       "      <td>0.382979</td>\n",
       "    </tr>\n",
       "    <tr>\n",
       "      <th>Genotype</th>\n",
       "      <td>35</td>\n",
       "      <td>21</td>\n",
       "      <td>0.375000</td>\n",
       "    </tr>\n",
       "    <tr>\n",
       "      <th>Protocol</th>\n",
       "      <td>4</td>\n",
       "      <td>2</td>\n",
       "      <td>0.333333</td>\n",
       "    </tr>\n",
       "    <tr>\n",
       "      <th>Species</th>\n",
       "      <td>64</td>\n",
       "      <td>764</td>\n",
       "      <td>0.922705</td>\n",
       "    </tr>\n",
       "    <tr>\n",
       "      <th>Strain</th>\n",
       "      <td>355</td>\n",
       "      <td>42</td>\n",
       "      <td>0.105793</td>\n",
       "    </tr>\n",
       "    <tr>\n",
       "      <th>Tissue</th>\n",
       "      <td>112</td>\n",
       "      <td>75</td>\n",
       "      <td>0.401070</td>\n",
       "    </tr>\n",
       "  </tbody>\n",
       "</table>\n",
       "</div>"
      ],
      "text/plain": [
       "           non-match  match  fraction_match\n",
       "predicted                                  \n",
       "Age               58     36        0.382979\n",
       "Genotype          35     21        0.375000\n",
       "Protocol           4      2        0.333333\n",
       "Species           64    764        0.922705\n",
       "Strain           355     42        0.105793\n",
       "Tissue           112     75        0.401070"
      ]
     },
     "execution_count": 200,
     "metadata": {},
     "output_type": "execute_result"
    }
   ],
   "source": [
    "class_cosine"
   ]
  },
  {
   "cell_type": "code",
   "execution_count": 229,
   "metadata": {},
   "outputs": [],
   "source": [
    "title_counts = pd.DataFrame(pd.Series(validation_data_count), columns=['titles'])"
   ]
  },
  {
   "cell_type": "code",
   "execution_count": 236,
   "metadata": {},
   "outputs": [
    {
     "data": {
      "text/html": [
       "<div>\n",
       "<style scoped>\n",
       "    .dataframe tbody tr th:only-of-type {\n",
       "        vertical-align: middle;\n",
       "    }\n",
       "\n",
       "    .dataframe tbody tr th {\n",
       "        vertical-align: top;\n",
       "    }\n",
       "\n",
       "    .dataframe thead th {\n",
       "        text-align: right;\n",
       "    }\n",
       "</style>\n",
       "<table border=\"1\" class=\"dataframe\">\n",
       "  <thead>\n",
       "    <tr style=\"text-align: right;\">\n",
       "      <th></th>\n",
       "      <th>non-match</th>\n",
       "      <th>match</th>\n",
       "      <th>fraction_match</th>\n",
       "    </tr>\n",
       "    <tr>\n",
       "      <th>predicted</th>\n",
       "      <th></th>\n",
       "      <th></th>\n",
       "      <th></th>\n",
       "    </tr>\n",
       "  </thead>\n",
       "  <tbody>\n",
       "    <tr>\n",
       "      <th>Age</th>\n",
       "      <td>60</td>\n",
       "      <td>34</td>\n",
       "      <td>0.361702</td>\n",
       "    </tr>\n",
       "    <tr>\n",
       "      <th>Genotype</th>\n",
       "      <td>33</td>\n",
       "      <td>23</td>\n",
       "      <td>0.410714</td>\n",
       "    </tr>\n",
       "    <tr>\n",
       "      <th>Protocol</th>\n",
       "      <td>3</td>\n",
       "      <td>3</td>\n",
       "      <td>0.500000</td>\n",
       "    </tr>\n",
       "    <tr>\n",
       "      <th>Species</th>\n",
       "      <td>77</td>\n",
       "      <td>751</td>\n",
       "      <td>0.907005</td>\n",
       "    </tr>\n",
       "    <tr>\n",
       "      <th>Strain</th>\n",
       "      <td>85</td>\n",
       "      <td>312</td>\n",
       "      <td>0.785894</td>\n",
       "    </tr>\n",
       "    <tr>\n",
       "      <th>Tissue</th>\n",
       "      <td>123</td>\n",
       "      <td>64</td>\n",
       "      <td>0.342246</td>\n",
       "    </tr>\n",
       "  </tbody>\n",
       "</table>\n",
       "</div>"
      ],
      "text/plain": [
       "           non-match  match  fraction_match\n",
       "predicted                                  \n",
       "Age               60     34        0.361702\n",
       "Genotype          33     23        0.410714\n",
       "Protocol           3      3        0.500000\n",
       "Species           77    751        0.907005\n",
       "Strain            85    312        0.785894\n",
       "Tissue           123     64        0.342246"
      ]
     },
     "execution_count": 236,
     "metadata": {},
     "output_type": "execute_result"
    }
   ],
   "source": [
    "class_contain"
   ]
  },
  {
   "cell_type": "code",
   "execution_count": 264,
   "metadata": {},
   "outputs": [],
   "source": [
    "table1 = class_cosine.merge(pd.DataFrame(merged[\"predicted\"].value_counts()), left_index=True, right_index=True)\n",
    "table1 = table1.merge(title_counts, left_index=True, right_index=True)\n",
    "table1 = table1.merge(class_contain, left_index=True, right_index=True, suffixes=['_cosine', '_contain'])"
   ]
  },
  {
   "cell_type": "code",
   "execution_count": 265,
   "metadata": {},
   "outputs": [],
   "source": [
    "table1[\"fraction_predicted\"] = table1['predicted']/table1['titles']"
   ]
  },
  {
   "cell_type": "code",
   "execution_count": 266,
   "metadata": {},
   "outputs": [
    {
     "data": {
      "text/html": [
       "<div>\n",
       "<style scoped>\n",
       "    .dataframe tbody tr th:only-of-type {\n",
       "        vertical-align: middle;\n",
       "    }\n",
       "\n",
       "    .dataframe tbody tr th {\n",
       "        vertical-align: top;\n",
       "    }\n",
       "\n",
       "    .dataframe thead th {\n",
       "        text-align: right;\n",
       "    }\n",
       "</style>\n",
       "<table border=\"1\" class=\"dataframe\">\n",
       "  <thead>\n",
       "    <tr style=\"text-align: right;\">\n",
       "      <th></th>\n",
       "      <th>non-match_cosine</th>\n",
       "      <th>match_cosine</th>\n",
       "      <th>fraction_match_cosine</th>\n",
       "      <th>predicted</th>\n",
       "      <th>titles</th>\n",
       "      <th>non-match_contain</th>\n",
       "      <th>match_contain</th>\n",
       "      <th>fraction_match_contain</th>\n",
       "      <th>fraction_predicted</th>\n",
       "    </tr>\n",
       "  </thead>\n",
       "  <tbody>\n",
       "    <tr>\n",
       "      <th>Age</th>\n",
       "      <td>58</td>\n",
       "      <td>36</td>\n",
       "      <td>0.382979</td>\n",
       "      <td>94</td>\n",
       "      <td>541</td>\n",
       "      <td>60</td>\n",
       "      <td>34</td>\n",
       "      <td>0.361702</td>\n",
       "      <td>0.173752</td>\n",
       "    </tr>\n",
       "    <tr>\n",
       "      <th>Genotype</th>\n",
       "      <td>35</td>\n",
       "      <td>21</td>\n",
       "      <td>0.375000</td>\n",
       "      <td>56</td>\n",
       "      <td>340</td>\n",
       "      <td>33</td>\n",
       "      <td>23</td>\n",
       "      <td>0.410714</td>\n",
       "      <td>0.164706</td>\n",
       "    </tr>\n",
       "    <tr>\n",
       "      <th>Protocol</th>\n",
       "      <td>4</td>\n",
       "      <td>2</td>\n",
       "      <td>0.333333</td>\n",
       "      <td>6</td>\n",
       "      <td>15</td>\n",
       "      <td>3</td>\n",
       "      <td>3</td>\n",
       "      <td>0.500000</td>\n",
       "      <td>0.400000</td>\n",
       "    </tr>\n",
       "    <tr>\n",
       "      <th>Species</th>\n",
       "      <td>64</td>\n",
       "      <td>764</td>\n",
       "      <td>0.922705</td>\n",
       "      <td>828</td>\n",
       "      <td>1000</td>\n",
       "      <td>77</td>\n",
       "      <td>751</td>\n",
       "      <td>0.907005</td>\n",
       "      <td>0.828000</td>\n",
       "    </tr>\n",
       "    <tr>\n",
       "      <th>Strain</th>\n",
       "      <td>355</td>\n",
       "      <td>42</td>\n",
       "      <td>0.105793</td>\n",
       "      <td>397</td>\n",
       "      <td>1000</td>\n",
       "      <td>85</td>\n",
       "      <td>312</td>\n",
       "      <td>0.785894</td>\n",
       "      <td>0.397000</td>\n",
       "    </tr>\n",
       "    <tr>\n",
       "      <th>Tissue</th>\n",
       "      <td>112</td>\n",
       "      <td>75</td>\n",
       "      <td>0.401070</td>\n",
       "      <td>187</td>\n",
       "      <td>792</td>\n",
       "      <td>123</td>\n",
       "      <td>64</td>\n",
       "      <td>0.342246</td>\n",
       "      <td>0.236111</td>\n",
       "    </tr>\n",
       "  </tbody>\n",
       "</table>\n",
       "</div>"
      ],
      "text/plain": [
       "          non-match_cosine  match_cosine  fraction_match_cosine  predicted  \\\n",
       "Age                     58            36               0.382979         94   \n",
       "Genotype                35            21               0.375000         56   \n",
       "Protocol                 4             2               0.333333          6   \n",
       "Species                 64           764               0.922705        828   \n",
       "Strain                 355            42               0.105793        397   \n",
       "Tissue                 112            75               0.401070        187   \n",
       "\n",
       "          titles  non-match_contain  match_contain  fraction_match_contain  \\\n",
       "Age          541                 60             34                0.361702   \n",
       "Genotype     340                 33             23                0.410714   \n",
       "Protocol      15                  3              3                0.500000   \n",
       "Species     1000                 77            751                0.907005   \n",
       "Strain      1000                 85            312                0.785894   \n",
       "Tissue       792                123             64                0.342246   \n",
       "\n",
       "          fraction_predicted  \n",
       "Age                 0.173752  \n",
       "Genotype            0.164706  \n",
       "Protocol            0.400000  \n",
       "Species             0.828000  \n",
       "Strain              0.397000  \n",
       "Tissue              0.236111  "
      ]
     },
     "execution_count": 266,
     "metadata": {},
     "output_type": "execute_result"
    }
   ],
   "source": [
    "table1"
   ]
  },
  {
   "cell_type": "code",
   "execution_count": 268,
   "metadata": {},
   "outputs": [],
   "source": [
    "table1 = table1[['titles', 'predicted', 'fraction_predicted', \n",
    "        'match_cosine', 'fraction_match_cosine', 'match_contain', 'fraction_match_contain']]"
   ]
  },
  {
   "cell_type": "code",
   "execution_count": 269,
   "metadata": {},
   "outputs": [],
   "source": [
    "table1['percent_correct'] = table1[[\"fraction_match_cosine\", \"fraction_match_contain\"]].max(axis=1)"
   ]
  },
  {
   "cell_type": "code",
   "execution_count": 270,
   "metadata": {},
   "outputs": [
    {
     "data": {
      "text/html": [
       "<div>\n",
       "<style scoped>\n",
       "    .dataframe tbody tr th:only-of-type {\n",
       "        vertical-align: middle;\n",
       "    }\n",
       "\n",
       "    .dataframe tbody tr th {\n",
       "        vertical-align: top;\n",
       "    }\n",
       "\n",
       "    .dataframe thead th {\n",
       "        text-align: right;\n",
       "    }\n",
       "</style>\n",
       "<table border=\"1\" class=\"dataframe\">\n",
       "  <thead>\n",
       "    <tr style=\"text-align: right;\">\n",
       "      <th></th>\n",
       "      <th>titles</th>\n",
       "      <th>predicted</th>\n",
       "      <th>fraction_predicted</th>\n",
       "      <th>match_cosine</th>\n",
       "      <th>fraction_match_cosine</th>\n",
       "      <th>match_contain</th>\n",
       "      <th>fraction_match_contain</th>\n",
       "      <th>percent_correct</th>\n",
       "    </tr>\n",
       "  </thead>\n",
       "  <tbody>\n",
       "    <tr>\n",
       "      <th>Age</th>\n",
       "      <td>541</td>\n",
       "      <td>94</td>\n",
       "      <td>0.173752</td>\n",
       "      <td>36</td>\n",
       "      <td>0.382979</td>\n",
       "      <td>34</td>\n",
       "      <td>0.361702</td>\n",
       "      <td>0.382979</td>\n",
       "    </tr>\n",
       "    <tr>\n",
       "      <th>Genotype</th>\n",
       "      <td>340</td>\n",
       "      <td>56</td>\n",
       "      <td>0.164706</td>\n",
       "      <td>21</td>\n",
       "      <td>0.375000</td>\n",
       "      <td>23</td>\n",
       "      <td>0.410714</td>\n",
       "      <td>0.410714</td>\n",
       "    </tr>\n",
       "    <tr>\n",
       "      <th>Protocol</th>\n",
       "      <td>15</td>\n",
       "      <td>6</td>\n",
       "      <td>0.400000</td>\n",
       "      <td>2</td>\n",
       "      <td>0.333333</td>\n",
       "      <td>3</td>\n",
       "      <td>0.500000</td>\n",
       "      <td>0.500000</td>\n",
       "    </tr>\n",
       "    <tr>\n",
       "      <th>Species</th>\n",
       "      <td>1000</td>\n",
       "      <td>828</td>\n",
       "      <td>0.828000</td>\n",
       "      <td>764</td>\n",
       "      <td>0.922705</td>\n",
       "      <td>751</td>\n",
       "      <td>0.907005</td>\n",
       "      <td>0.922705</td>\n",
       "    </tr>\n",
       "    <tr>\n",
       "      <th>Strain</th>\n",
       "      <td>1000</td>\n",
       "      <td>397</td>\n",
       "      <td>0.397000</td>\n",
       "      <td>42</td>\n",
       "      <td>0.105793</td>\n",
       "      <td>312</td>\n",
       "      <td>0.785894</td>\n",
       "      <td>0.785894</td>\n",
       "    </tr>\n",
       "    <tr>\n",
       "      <th>Tissue</th>\n",
       "      <td>792</td>\n",
       "      <td>187</td>\n",
       "      <td>0.236111</td>\n",
       "      <td>75</td>\n",
       "      <td>0.401070</td>\n",
       "      <td>64</td>\n",
       "      <td>0.342246</td>\n",
       "      <td>0.401070</td>\n",
       "    </tr>\n",
       "  </tbody>\n",
       "</table>\n",
       "</div>"
      ],
      "text/plain": [
       "          titles  predicted  fraction_predicted  match_cosine  \\\n",
       "Age          541         94            0.173752            36   \n",
       "Genotype     340         56            0.164706            21   \n",
       "Protocol      15          6            0.400000             2   \n",
       "Species     1000        828            0.828000           764   \n",
       "Strain      1000        397            0.397000            42   \n",
       "Tissue       792        187            0.236111            75   \n",
       "\n",
       "          fraction_match_cosine  match_contain  fraction_match_contain  \\\n",
       "Age                    0.382979             34                0.361702   \n",
       "Genotype               0.375000             23                0.410714   \n",
       "Protocol               0.333333              3                0.500000   \n",
       "Species                0.922705            751                0.907005   \n",
       "Strain                 0.105793            312                0.785894   \n",
       "Tissue                 0.401070             64                0.342246   \n",
       "\n",
       "          percent_correct  \n",
       "Age              0.382979  \n",
       "Genotype         0.410714  \n",
       "Protocol         0.500000  \n",
       "Species          0.922705  \n",
       "Strain           0.785894  \n",
       "Tissue           0.401070  "
      ]
     },
     "execution_count": 270,
     "metadata": {},
     "output_type": "execute_result"
    }
   ],
   "source": [
    "table1"
   ]
  },
  {
   "cell_type": "code",
   "execution_count": 271,
   "metadata": {},
   "outputs": [],
   "source": [
    "table1.to_csv('../doc/tables/Table1.csv', index=True)"
   ]
  },
  {
   "cell_type": "markdown",
   "metadata": {},
   "source": [
    "#### BLEU scoring"
   ]
  },
  {
   "cell_type": "code",
   "execution_count": 66,
   "metadata": {},
   "outputs": [],
   "source": [
    "def bleu1(x):\n",
    "    return sentence_bleu(x[\"predicted\"], x[\"actual\"], weights=(1, 0, 0, 0), smoothing_function=smoother.method1)\n",
    "\n",
    "def bleu4(x):\n",
    "    return sentence_bleu(x[\"predicted\"], x[\"actual\"], weights=(0, 0, 0, 1), smoothing_function=smoother.method1)"
   ]
  },
  {
   "cell_type": "code",
   "execution_count": 67,
   "metadata": {},
   "outputs": [],
   "source": [
    "smoother = SmoothingFunction()\n",
    "similar_df[\"BLUE1\"] = similar_df.apply(bleu1, axis=1)\n",
    "similar_df[\"BLUE4\"] = similar_df.apply(bleu4, axis=1)"
   ]
  },
  {
   "cell_type": "markdown",
   "metadata": {},
   "source": [
    "#### Levenshtein distance"
   ]
  },
  {
   "cell_type": "code",
   "execution_count": 68,
   "metadata": {},
   "outputs": [],
   "source": [
    "def levenshtein(x):\n",
    "    return Levenshtein.distance(x[\"predicted\"], x[\"actual\"])"
   ]
  },
  {
   "cell_type": "code",
   "execution_count": 69,
   "metadata": {},
   "outputs": [],
   "source": [
    "similar_df[\"levenshtein\"] = similar_df.apply(levenshtein, axis=1)"
   ]
  }
 ],
 "metadata": {
  "kernelspec": {
   "display_name": "Python 3",
   "language": "python",
   "name": "python3"
  },
  "language_info": {
   "codemirror_mode": {
    "name": "ipython",
    "version": 3
   },
   "file_extension": ".py",
   "mimetype": "text/x-python",
   "name": "python",
   "nbconvert_exporter": "python",
   "pygments_lexer": "ipython3",
   "version": "3.6.6"
  },
  "toc": {
   "base_numbering": 1,
   "nav_menu": {},
   "number_sections": true,
   "sideBar": true,
   "skip_h1_title": false,
   "title_cell": "Table of Contents",
   "title_sidebar": "Contents",
   "toc_cell": false,
   "toc_position": {},
   "toc_section_display": true,
   "toc_window_display": false
  }
 },
 "nbformat": 4,
 "nbformat_minor": 2
}
