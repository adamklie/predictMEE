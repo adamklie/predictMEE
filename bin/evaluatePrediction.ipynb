{
 "cells": [
  {
   "cell_type": "markdown",
   "metadata": {},
   "source": [
    "# Evaluation of metadata predictions"
   ]
  },
  {
   "cell_type": "markdown",
   "metadata": {},
   "source": [
    "#### Load necessary packages"
   ]
  },
  {
   "cell_type": "code",
   "execution_count": 1,
   "metadata": {},
   "outputs": [
    {
     "name": "stderr",
     "output_type": "stream",
     "text": [
      "/cellar/users/aklie/miniconda3/envs/deep_nlp_cpu/lib/python3.6/importlib/_bootstrap.py:219: RuntimeWarning: numpy.dtype size changed, may indicate binary incompatibility. Expected 96, got 88\n",
      "  return f(*args, **kwds)\n",
      "/cellar/users/aklie/miniconda3/envs/deep_nlp_cpu/lib/python3.6/importlib/_bootstrap.py:219: RuntimeWarning: numpy.ufunc size changed, may indicate binary incompatibility. Expected 192, got 176\n",
      "  return f(*args, **kwds)\n",
      "/cellar/users/aklie/miniconda3/envs/deep_nlp_cpu/lib/python3.6/importlib/_bootstrap.py:219: RuntimeWarning: numpy.dtype size changed, may indicate binary incompatibility. Expected 96, got 88\n",
      "  return f(*args, **kwds)\n",
      "/cellar/users/aklie/miniconda3/envs/deep_nlp_cpu/lib/python3.6/importlib/_bootstrap.py:219: RuntimeWarning: numpy.ufunc size changed, may indicate binary incompatibility. Expected 192, got 176\n",
      "  return f(*args, **kwds)\n"
     ]
    }
   ],
   "source": [
    "%matplotlib inline\n",
    "import pandas as pd\n",
    "import numpy as np\n",
    "import matplotlib.pyplot as plt\n",
    "import seaborn as sns\n",
    "import spacy\n",
    "import Levenshtein\n",
    "\n",
    "from sklearn.metrics.pairwise import cosine_similarity\n",
    "from nltk.translate.bleu_score import sentence_bleu\n",
    "from nltk.translate.bleu_score import SmoothingFunction"
   ]
  },
  {
   "cell_type": "markdown",
   "metadata": {},
   "source": [
    "#### Load embedding model"
   ]
  },
  {
   "cell_type": "code",
   "execution_count": 2,
   "metadata": {},
   "outputs": [
    {
     "name": "stderr",
     "output_type": "stream",
     "text": [
      "/cellar/users/aklie/miniconda3/envs/deep_nlp_cpu/lib/python3.6/importlib/_bootstrap.py:219: RuntimeWarning: numpy.dtype size changed, may indicate binary incompatibility. Expected 96, got 88\n",
      "  return f(*args, **kwds)\n",
      "/cellar/users/aklie/miniconda3/envs/deep_nlp_cpu/lib/python3.6/importlib/_bootstrap.py:219: RuntimeWarning: numpy.ufunc size changed, may indicate binary incompatibility. Expected 192, got 176\n",
      "  return f(*args, **kwds)\n"
     ]
    }
   ],
   "source": [
    "nlp = spacy.load('../models/embeddings/wikipedia-pubmed-and-PMC-w2v')"
   ]
  },
  {
   "cell_type": "markdown",
   "metadata": {},
   "source": [
    "#### Load predictions and actual metadata for a given class"
   ]
  },
  {
   "cell_type": "code",
   "execution_count": 44,
   "metadata": {},
   "outputs": [],
   "source": [
    "predicted_class = 'Age'\n",
    "model_iter = 'model_v1'"
   ]
  },
  {
   "cell_type": "code",
   "execution_count": 45,
   "metadata": {},
   "outputs": [],
   "source": [
    "predicted_df = pd.read_pickle(\n",
    "    '../results/{mymodel}/predictions/{myclass}_prediction.pickle'.format(mymodel = model_iter, myclass = predicted_class))\n",
    "class_validation = pd.read_pickle(\n",
    "    '../results/{mymodel}/validation/{myclass}_validation_values.pickle'.format(mymodel = model_iter, myclass = predicted_class))\n",
    "validation_data = pd.read_pickle(\n",
    "    '../results/{mymodel}/validation/{myclass}_validation_set.pickle'.format(mymodel = model_iter, myclass = predicted_class))"
   ]
  },
  {
   "cell_type": "markdown",
   "metadata": {},
   "source": [
    "#### Create dataframe"
   ]
  },
  {
   "cell_type": "code",
   "execution_count": 46,
   "metadata": {},
   "outputs": [],
   "source": [
    "class_df = predicted_df[predicted_df['predicted'] == predicted_class]"
   ]
  },
  {
   "cell_type": "code",
   "execution_count": 47,
   "metadata": {},
   "outputs": [],
   "source": [
    "tmp_df = class_validation.loc[class_df['srs'].values]\n",
    "tmp_df = tmp_df.loc[~tmp_df.index.duplicated(keep = 'first')]"
   ]
  },
  {
   "cell_type": "code",
   "execution_count": 48,
   "metadata": {},
   "outputs": [
    {
     "name": "stderr",
     "output_type": "stream",
     "text": [
      "/cellar/users/aklie/miniconda3/envs/deep_nlp_cpu/lib/python3.6/site-packages/ipykernel_launcher.py:1: SettingWithCopyWarning: \n",
      "A value is trying to be set on a copy of a slice from a DataFrame.\n",
      "Try using .loc[row_indexer,col_indexer] = value instead\n",
      "\n",
      "See the caveats in the documentation: http://pandas.pydata.org/pandas-docs/stable/indexing.html#indexing-view-versus-copy\n",
      "  \"\"\"Entry point for launching an IPython kernel.\n"
     ]
    }
   ],
   "source": [
    "class_df['actual'] = tmp_df.loc[class_df['srs'].values]['value'].values"
   ]
  },
  {
   "cell_type": "markdown",
   "metadata": {},
   "source": [
    "#### Overall prediction stats"
   ]
  },
  {
   "cell_type": "code",
   "execution_count": 49,
   "metadata": {},
   "outputs": [
    {
     "name": "stdout",
     "output_type": "stream",
     "text": [
      "98/913 (10.73%) predicted as Age\n",
      "\n"
     ]
    }
   ],
   "source": [
    "predicted_count = class_df.shape[0]\n",
    "print(('%d/%d (%.2f%%) predicted as %s\\n' % \n",
    "       (predicted_count, len(validation_data), predicted_count/len(validation_data)*100, predicted_class)))"
   ]
  },
  {
   "cell_type": "code",
   "execution_count": 50,
   "metadata": {},
   "outputs": [],
   "source": [
    "missing_df = class_validation[~class_validation.index.isin(class_df['srs'].values)]\n",
    "missing = validation_data[~validation_data.index.get_level_values(0).isin(class_df['srs'].values)]\n",
    "if missing_df.shape[0] == len(missing):  # if there are not duplicate srs predictions\n",
    "    missing_df['TITLE'] = missing.values"
   ]
  },
  {
   "cell_type": "code",
   "execution_count": 51,
   "metadata": {},
   "outputs": [],
   "source": [
    "missing_df.to_csv(\n",
    "    '../results/{model}/predictions/{myclass}_missing.csv'.format(model = model_iter, myclass = predicted_class))"
   ]
  },
  {
   "cell_type": "markdown",
   "metadata": {},
   "source": [
    "#### Exact matches"
   ]
  },
  {
   "cell_type": "code",
   "execution_count": 52,
   "metadata": {},
   "outputs": [
    {
     "name": "stdout",
     "output_type": "stream",
     "text": [
      "20/98 (20.41%) exact matches predicted as Age\n",
      "\n"
     ]
    }
   ],
   "source": [
    "num_correct = class_df[class_df['token'] == class_df['actual']].shape[0]\n",
    "print(('%d/%d (%.2f%%) exact matches predicted as %s\\n' % \n",
    "       (num_correct, predicted_count, num_correct/predicted_count*100, predicted_class)))"
   ]
  },
  {
   "cell_type": "code",
   "execution_count": 53,
   "metadata": {
    "scrolled": true
   },
   "outputs": [
    {
     "name": "stdout",
     "output_type": "stream",
     "text": [
      "Correctly predicted had mean score of 0.71\n",
      "\n"
     ]
    },
    {
     "data": {
      "text/plain": [
       "10 month     4\n",
       "6 months     4\n",
       "6 month      3\n",
       "10 months    3\n",
       "2 month      3\n",
       "Name: actual, dtype: int64"
      ]
     },
     "execution_count": 53,
     "metadata": {},
     "output_type": "execute_result"
    },
    {
     "data": {
      "image/png": "[encoded data removed]",
      "text/plain": [
       "<Figure size 432x288 with 1 Axes>"
      ]
     },
     "metadata": {
      "needs_background": "light"
     },
     "output_type": "display_data"
    }
   ],
   "source": [
    "exact_correct_df = class_df[(class_df['token'] == class_df['actual'])]\n",
    "plt.hist(exact_correct_df['score'])\n",
    "print('Correctly predicted had mean score of %.2f\\n' % exact_correct_df['score'].mean())\n",
    "exact_correct_df['actual'].value_counts().head()"
   ]
  },
  {
   "cell_type": "code",
   "execution_count": 57,
   "metadata": {},
   "outputs": [
    {
     "name": "stdout",
     "output_type": "stream",
     "text": [
      "exact_incorrectly predicted had mean score of 0.64\n",
      "\n"
     ]
    },
    {
     "data": {
      "text/plain": [
       "E18           4\n",
       "P2            3\n",
       "38            3\n",
       "28            3\n",
       "3 year old    2\n",
       "Name: actual, dtype: int64"
      ]
     },
     "execution_count": 57,
     "metadata": {},
     "output_type": "execute_result"
    },
    {
     "data": {
      "image/png": "[encoded data removed]",
      "text/plain": [
       "<Figure size 432x288 with 1 Axes>"
      ]
     },
     "metadata": {
      "needs_background": "light"
     },
     "output_type": "display_data"
    }
   ],
   "source": [
    "exact_incorrect_df = class_df[(class_df['token'] != class_df['actual'])]\n",
    "plt.hist(exact_incorrect_df['score'])\n",
    "print(('exact_incorrectly predicted had mean score of %.2f\\n' % exact_incorrect_df['score'].mean()))\n",
    "exact_incorrect_df['actual'].value_counts().head()"
   ]
  },
  {
   "cell_type": "code",
   "execution_count": 59,
   "metadata": {},
   "outputs": [],
   "source": [
    "exact_correct_df.to_csv(\n",
    "    '../results/{model}/predictions/{myclass}_correct.csv'.format(model = model_iter, myclass = predicted_class))\n",
    "exact_incorrect_df.to_csv(\n",
    "    '../results/{model}/predictions/{myclass}_incorrect.csv'.format(model = model_iter, myclass = predicted_class))"
   ]
  },
  {
   "cell_type": "markdown",
   "metadata": {},
   "source": [
    "#### Contained within"
   ]
  },
  {
   "cell_type": "code",
   "execution_count": 60,
   "metadata": {
    "scrolled": true
   },
   "outputs": [
    {
     "name": "stdout",
     "output_type": "stream",
     "text": [
      "42/98 (42.86%) of predicted contained in actual for Age\n",
      "\n"
     ]
    }
   ],
   "source": [
    "actual = class_df['actual'].values\n",
    "predic = class_df['token'].values\n",
    "count = 0\n",
    "index = []\n",
    "for i in range(len(actual)):\n",
    "    if (predic[i] in actual[i]) or (actual[i] in predic[i]):\n",
    "        count = count + 1\n",
    "        index.append(class_df.iloc[i].srs)\n",
    "print(('%d/%d (%.2f%%) of predicted contained in actual for %s\\n' % \n",
    "       (count, predicted_count, count/predicted_count*100, predicted_class)))"
   ]
  },
  {
   "cell_type": "markdown",
   "metadata": {},
   "source": [
    "#### Cosine similarity"
   ]
  },
  {
   "cell_type": "code",
   "execution_count": 61,
   "metadata": {},
   "outputs": [],
   "source": [
    "predicted_docs = nlp.pipe(class_df['token'].tolist())\n",
    "predicted_vectors = np.array([doc.vector for doc in predicted_docs])\n",
    "\n",
    "actual_docs = nlp.pipe(class_df['actual'].tolist())\n",
    "actual_vectors = np.array([doc.vector for doc in actual_docs])"
   ]
  },
  {
   "cell_type": "code",
   "execution_count": 62,
   "metadata": {},
   "outputs": [],
   "source": [
    "similarities = []\n",
    "for i in range(len(predicted_vectors)):\n",
    "    cosine_sim = cosine_similarity(predicted_vectors[i].reshape(1,200), actual_vectors[i].reshape(1,200))\n",
    "    similarities.append(float(cosine_sim))"
   ]
  },
  {
   "cell_type": "code",
   "execution_count": 63,
   "metadata": {},
   "outputs": [],
   "source": [
    "similar_df = pd.DataFrame({'predicted': class_df['token'].tolist(), \n",
    "                  'actual': class_df['actual'].tolist(), \n",
    "                  'cosine similarity': similarities})"
   ]
  },
  {
   "cell_type": "code",
   "execution_count": 64,
   "metadata": {},
   "outputs": [
    {
     "data": {
      "text/plain": [
       "(array([ 5., 13.,  0.,  2.,  4.,  5.,  7., 27., 11., 24.]),\n",
       " array([-0.01324915,  0.08807577,  0.18940068,  0.2907256 ,  0.39205051,\n",
       "         0.49337543,  0.59470034,  0.69602526,  0.79735017,  0.89867509,\n",
       "         1.        ]),\n",
       " <a list of 10 Patch objects>)"
      ]
     },
     "execution_count": 64,
     "metadata": {},
     "output_type": "execute_result"
    },
    {
     "data": {
      "image/png": "[encoded data removed]",
      "text/plain": [
       "<Figure size 432x288 with 1 Axes>"
      ]
     },
     "metadata": {
      "needs_background": "light"
     },
     "output_type": "display_data"
    }
   ],
   "source": [
    "plt.hist(similar_df['cosine similarity'])"
   ]
  },
  {
   "cell_type": "code",
   "execution_count": 65,
   "metadata": {
    "scrolled": true
   },
   "outputs": [
    {
     "name": "stdout",
     "output_type": "stream",
     "text": [
      "31/98 (31.63%) Predicted with cosine similarity greater than 0.8\n",
      "\n"
     ]
    }
   ],
   "source": [
    "sim_threshold = 0.8\n",
    "num_sim = similar_df[similar_df['cosine similarity'].values > sim_threshold].shape[0]\n",
    "print(('%d/%d (%.2f%%) Predicted with cosine similarity greater than %.1f\\n' \n",
    "                     % (num_sim, predicted_count, num_sim/predicted_count*100, sim_threshold)))"
   ]
  },
  {
   "cell_type": "markdown",
   "metadata": {},
   "source": [
    "#### BLEU scoring"
   ]
  },
  {
   "cell_type": "code",
   "execution_count": 66,
   "metadata": {},
   "outputs": [],
   "source": [
    "def bleu1(x):\n",
    "    return sentence_bleu(x[\"predicted\"], x[\"actual\"], weights=(1, 0, 0, 0), smoothing_function=smoother.method1)\n",
    "\n",
    "def bleu4(x):\n",
    "    return sentence_bleu(x[\"predicted\"], x[\"actual\"], weights=(0, 0, 0, 1), smoothing_function=smoother.method1)"
   ]
  },
  {
   "cell_type": "code",
   "execution_count": 67,
   "metadata": {},
   "outputs": [],
   "source": [
    "smoother = SmoothingFunction()\n",
    "similar_df[\"BLUE1\"] = similar_df.apply(bleu1, axis=1)\n",
    "similar_df[\"BLUE4\"] = similar_df.apply(bleu4, axis=1)"
   ]
  },
  {
   "cell_type": "markdown",
   "metadata": {},
   "source": [
    "#### Levenshtein distance"
   ]
  },
  {
   "cell_type": "code",
   "execution_count": 68,
   "metadata": {},
   "outputs": [],
   "source": [
    "def levenshtein(x):\n",
    "    return Levenshtein.distance(x[\"predicted\"], x[\"actual\"])"
   ]
  },
  {
   "cell_type": "code",
   "execution_count": 69,
   "metadata": {},
   "outputs": [],
   "source": [
    "similar_df[\"levenshtein\"] = similar_df.apply(levenshtein, axis=1)"
   ]
  },
  {
   "cell_type": "code",
   "execution_count": 70,
   "metadata": {},
   "outputs": [
    {
     "data": {
      "text/html": [
       "<div>\n",
       "<style scoped>\n",
       "    .dataframe tbody tr th:only-of-type {\n",
       "        vertical-align: middle;\n",
       "    }\n",
       "\n",
       "    .dataframe tbody tr th {\n",
       "        vertical-align: top;\n",
       "    }\n",
       "\n",
       "    .dataframe thead th {\n",
       "        text-align: right;\n",
       "    }\n",
       "</style>\n",
       "<table border=\"1\" class=\"dataframe\">\n",
       "  <thead>\n",
       "    <tr style=\"text-align: right;\">\n",
       "      <th></th>\n",
       "      <th>predicted</th>\n",
       "      <th>actual</th>\n",
       "      <th>cosine similarity</th>\n",
       "      <th>BLUE1</th>\n",
       "      <th>BLUE4</th>\n",
       "      <th>levenshtein</th>\n",
       "    </tr>\n",
       "  </thead>\n",
       "  <tbody>\n",
       "    <tr>\n",
       "      <th>0</th>\n",
       "      <td>15 DPA</td>\n",
       "      <td>15 DPA</td>\n",
       "      <td>1.000000</td>\n",
       "      <td>1.000000</td>\n",
       "      <td>0.033333</td>\n",
       "      <td>0</td>\n",
       "    </tr>\n",
       "    <tr>\n",
       "      <th>1</th>\n",
       "      <td>hours post</td>\n",
       "      <td>7 days old</td>\n",
       "      <td>0.572107</td>\n",
       "      <td>0.300000</td>\n",
       "      <td>0.014286</td>\n",
       "      <td>8</td>\n",
       "    </tr>\n",
       "    <tr>\n",
       "      <th>2</th>\n",
       "      <td>afternoon day</td>\n",
       "      <td>60</td>\n",
       "      <td>0.137448</td>\n",
       "      <td>0.000000</td>\n",
       "      <td>0.000000</td>\n",
       "      <td>13</td>\n",
       "    </tr>\n",
       "    <tr>\n",
       "      <th>3</th>\n",
       "      <td>post exposure</td>\n",
       "      <td>juvenile</td>\n",
       "      <td>0.074568</td>\n",
       "      <td>0.250000</td>\n",
       "      <td>0.020000</td>\n",
       "      <td>11</td>\n",
       "    </tr>\n",
       "    <tr>\n",
       "      <th>4</th>\n",
       "      <td>2 week</td>\n",
       "      <td>6 weeks</td>\n",
       "      <td>0.807179</td>\n",
       "      <td>0.571429</td>\n",
       "      <td>0.025000</td>\n",
       "      <td>2</td>\n",
       "    </tr>\n",
       "    <tr>\n",
       "      <th>5</th>\n",
       "      <td>2 week</td>\n",
       "      <td>7 days old</td>\n",
       "      <td>0.699664</td>\n",
       "      <td>0.100000</td>\n",
       "      <td>0.014286</td>\n",
       "      <td>9</td>\n",
       "    </tr>\n",
       "    <tr>\n",
       "      <th>6</th>\n",
       "      <td>2014 Sum</td>\n",
       "      <td>3</td>\n",
       "      <td>-0.013249</td>\n",
       "      <td>0.000000</td>\n",
       "      <td>0.000000</td>\n",
       "      <td>8</td>\n",
       "    </tr>\n",
       "    <tr>\n",
       "      <th>7</th>\n",
       "      <td>day old</td>\n",
       "      <td>3 days after eclosion</td>\n",
       "      <td>0.674051</td>\n",
       "      <td>0.285714</td>\n",
       "      <td>0.005556</td>\n",
       "      <td>16</td>\n",
       "    </tr>\n",
       "    <tr>\n",
       "      <th>8</th>\n",
       "      <td>5 Ngn3^GFP/+</td>\n",
       "      <td>embryonic day 15.5</td>\n",
       "      <td>0.320646</td>\n",
       "      <td>0.166667</td>\n",
       "      <td>0.006667</td>\n",
       "      <td>17</td>\n",
       "    </tr>\n",
       "    <tr>\n",
       "      <th>9</th>\n",
       "      <td>5 day</td>\n",
       "      <td>14.5 day</td>\n",
       "      <td>0.766225</td>\n",
       "      <td>0.625000</td>\n",
       "      <td>0.020000</td>\n",
       "      <td>3</td>\n",
       "    </tr>\n",
       "    <tr>\n",
       "      <th>10</th>\n",
       "      <td>5 day</td>\n",
       "      <td>16.5 day</td>\n",
       "      <td>0.762541</td>\n",
       "      <td>0.625000</td>\n",
       "      <td>0.020000</td>\n",
       "      <td>3</td>\n",
       "    </tr>\n",
       "    <tr>\n",
       "      <th>11</th>\n",
       "      <td>5 day</td>\n",
       "      <td>10.5 day</td>\n",
       "      <td>0.792301</td>\n",
       "      <td>0.625000</td>\n",
       "      <td>0.020000</td>\n",
       "      <td>3</td>\n",
       "    </tr>\n",
       "    <tr>\n",
       "      <th>12</th>\n",
       "      <td>5 day</td>\n",
       "      <td>15.5 day</td>\n",
       "      <td>0.761811</td>\n",
       "      <td>0.625000</td>\n",
       "      <td>0.020000</td>\n",
       "      <td>3</td>\n",
       "    </tr>\n",
       "    <tr>\n",
       "      <th>13</th>\n",
       "      <td>5 day</td>\n",
       "      <td>10.5 day</td>\n",
       "      <td>0.792301</td>\n",
       "      <td>0.625000</td>\n",
       "      <td>0.020000</td>\n",
       "      <td>3</td>\n",
       "    </tr>\n",
       "    <tr>\n",
       "      <th>14</th>\n",
       "      <td>days post</td>\n",
       "      <td>10 days post emergence</td>\n",
       "      <td>0.857907</td>\n",
       "      <td>0.363636</td>\n",
       "      <td>0.005263</td>\n",
       "      <td>13</td>\n",
       "    </tr>\n",
       "    <tr>\n",
       "      <th>15</th>\n",
       "      <td>days post</td>\n",
       "      <td>10 days post emergence</td>\n",
       "      <td>0.857907</td>\n",
       "      <td>0.363636</td>\n",
       "      <td>0.005263</td>\n",
       "      <td>13</td>\n",
       "    </tr>\n",
       "    <tr>\n",
       "      <th>16</th>\n",
       "      <td>week 5</td>\n",
       "      <td>5 weeks</td>\n",
       "      <td>0.876354</td>\n",
       "      <td>0.714286</td>\n",
       "      <td>0.025000</td>\n",
       "      <td>4</td>\n",
       "    </tr>\n",
       "    <tr>\n",
       "      <th>17</th>\n",
       "      <td>24h post</td>\n",
       "      <td>Adult</td>\n",
       "      <td>0.029507</td>\n",
       "      <td>0.200000</td>\n",
       "      <td>0.050000</td>\n",
       "      <td>7</td>\n",
       "    </tr>\n",
       "    <tr>\n",
       "      <th>18</th>\n",
       "      <td>year old</td>\n",
       "      <td>24 year</td>\n",
       "      <td>0.674375</td>\n",
       "      <td>0.714286</td>\n",
       "      <td>0.025000</td>\n",
       "      <td>7</td>\n",
       "    </tr>\n",
       "    <tr>\n",
       "      <th>19</th>\n",
       "      <td>year old</td>\n",
       "      <td>57 year</td>\n",
       "      <td>0.767188</td>\n",
       "      <td>0.714286</td>\n",
       "      <td>0.025000</td>\n",
       "      <td>7</td>\n",
       "    </tr>\n",
       "    <tr>\n",
       "      <th>20</th>\n",
       "      <td>year old</td>\n",
       "      <td>34 year</td>\n",
       "      <td>0.782252</td>\n",
       "      <td>0.714286</td>\n",
       "      <td>0.025000</td>\n",
       "      <td>7</td>\n",
       "    </tr>\n",
       "    <tr>\n",
       "      <th>21</th>\n",
       "      <td>year old</td>\n",
       "      <td>2 year</td>\n",
       "      <td>0.721050</td>\n",
       "      <td>0.833333</td>\n",
       "      <td>0.033333</td>\n",
       "      <td>6</td>\n",
       "    </tr>\n",
       "    <tr>\n",
       "      <th>22</th>\n",
       "      <td>embryonic 14</td>\n",
       "      <td>14.5 day</td>\n",
       "      <td>0.496595</td>\n",
       "      <td>0.500000</td>\n",
       "      <td>0.020000</td>\n",
       "      <td>12</td>\n",
       "    </tr>\n",
       "    <tr>\n",
       "      <th>23</th>\n",
       "      <td>year old</td>\n",
       "      <td>2 year</td>\n",
       "      <td>0.721050</td>\n",
       "      <td>0.833333</td>\n",
       "      <td>0.033333</td>\n",
       "      <td>6</td>\n",
       "    </tr>\n",
       "    <tr>\n",
       "      <th>24</th>\n",
       "      <td>year old</td>\n",
       "      <td>37 year</td>\n",
       "      <td>0.691229</td>\n",
       "      <td>0.714286</td>\n",
       "      <td>0.025000</td>\n",
       "      <td>7</td>\n",
       "    </tr>\n",
       "    <tr>\n",
       "      <th>25</th>\n",
       "      <td>day exposure</td>\n",
       "      <td>day 24 embryo</td>\n",
       "      <td>0.715759</td>\n",
       "      <td>0.538462</td>\n",
       "      <td>0.010000</td>\n",
       "      <td>8</td>\n",
       "    </tr>\n",
       "    <tr>\n",
       "      <th>26</th>\n",
       "      <td>age P13</td>\n",
       "      <td>P13</td>\n",
       "      <td>0.762161</td>\n",
       "      <td>1.000000</td>\n",
       "      <td>0.100000</td>\n",
       "      <td>4</td>\n",
       "    </tr>\n",
       "    <tr>\n",
       "      <th>27</th>\n",
       "      <td>6 month</td>\n",
       "      <td>6 month</td>\n",
       "      <td>1.000000</td>\n",
       "      <td>1.000000</td>\n",
       "      <td>0.025000</td>\n",
       "      <td>0</td>\n",
       "    </tr>\n",
       "    <tr>\n",
       "      <th>28</th>\n",
       "      <td>2 month</td>\n",
       "      <td>2 month</td>\n",
       "      <td>1.000000</td>\n",
       "      <td>1.000000</td>\n",
       "      <td>0.025000</td>\n",
       "      <td>0</td>\n",
       "    </tr>\n",
       "    <tr>\n",
       "      <th>29</th>\n",
       "      <td>6 month</td>\n",
       "      <td>6 month</td>\n",
       "      <td>1.000000</td>\n",
       "      <td>1.000000</td>\n",
       "      <td>0.025000</td>\n",
       "      <td>0</td>\n",
       "    </tr>\n",
       "    <tr>\n",
       "      <th>...</th>\n",
       "      <td>...</td>\n",
       "      <td>...</td>\n",
       "      <td>...</td>\n",
       "      <td>...</td>\n",
       "      <td>...</td>\n",
       "      <td>...</td>\n",
       "    </tr>\n",
       "    <tr>\n",
       "      <th>68</th>\n",
       "      <td>two-month old</td>\n",
       "      <td>one and two months</td>\n",
       "      <td>0.776837</td>\n",
       "      <td>0.444444</td>\n",
       "      <td>0.006667</td>\n",
       "      <td>13</td>\n",
       "    </tr>\n",
       "    <tr>\n",
       "      <th>69</th>\n",
       "      <td>preterm delivery</td>\n",
       "      <td>24</td>\n",
       "      <td>0.144365</td>\n",
       "      <td>0.000000</td>\n",
       "      <td>0.000000</td>\n",
       "      <td>16</td>\n",
       "    </tr>\n",
       "    <tr>\n",
       "      <th>70</th>\n",
       "      <td>preterm delivery</td>\n",
       "      <td>30</td>\n",
       "      <td>0.055257</td>\n",
       "      <td>0.000000</td>\n",
       "      <td>0.000000</td>\n",
       "      <td>16</td>\n",
       "    </tr>\n",
       "    <tr>\n",
       "      <th>71</th>\n",
       "      <td>preterm delivery</td>\n",
       "      <td>31</td>\n",
       "      <td>0.086696</td>\n",
       "      <td>0.000000</td>\n",
       "      <td>0.000000</td>\n",
       "      <td>16</td>\n",
       "    </tr>\n",
       "    <tr>\n",
       "      <th>72</th>\n",
       "      <td>preterm delivery</td>\n",
       "      <td>38</td>\n",
       "      <td>0.095541</td>\n",
       "      <td>0.000000</td>\n",
       "      <td>0.000000</td>\n",
       "      <td>16</td>\n",
       "    </tr>\n",
       "    <tr>\n",
       "      <th>73</th>\n",
       "      <td>preterm delivery</td>\n",
       "      <td>28</td>\n",
       "      <td>0.166952</td>\n",
       "      <td>0.000000</td>\n",
       "      <td>0.000000</td>\n",
       "      <td>16</td>\n",
       "    </tr>\n",
       "    <tr>\n",
       "      <th>74</th>\n",
       "      <td>preterm delivery</td>\n",
       "      <td>23</td>\n",
       "      <td>0.108025</td>\n",
       "      <td>0.000000</td>\n",
       "      <td>0.000000</td>\n",
       "      <td>16</td>\n",
       "    </tr>\n",
       "    <tr>\n",
       "      <th>75</th>\n",
       "      <td>preterm delivery</td>\n",
       "      <td>27</td>\n",
       "      <td>0.101438</td>\n",
       "      <td>0.000000</td>\n",
       "      <td>0.000000</td>\n",
       "      <td>16</td>\n",
       "    </tr>\n",
       "    <tr>\n",
       "      <th>76</th>\n",
       "      <td>preterm delivery</td>\n",
       "      <td>38</td>\n",
       "      <td>0.095541</td>\n",
       "      <td>0.000000</td>\n",
       "      <td>0.000000</td>\n",
       "      <td>16</td>\n",
       "    </tr>\n",
       "    <tr>\n",
       "      <th>77</th>\n",
       "      <td>preterm delivery</td>\n",
       "      <td>28</td>\n",
       "      <td>0.166952</td>\n",
       "      <td>0.000000</td>\n",
       "      <td>0.000000</td>\n",
       "      <td>16</td>\n",
       "    </tr>\n",
       "    <tr>\n",
       "      <th>78</th>\n",
       "      <td>preterm delivery</td>\n",
       "      <td>19</td>\n",
       "      <td>0.090837</td>\n",
       "      <td>0.000000</td>\n",
       "      <td>0.000000</td>\n",
       "      <td>16</td>\n",
       "    </tr>\n",
       "    <tr>\n",
       "      <th>79</th>\n",
       "      <td>preterm delivery</td>\n",
       "      <td>32</td>\n",
       "      <td>0.161553</td>\n",
       "      <td>0.000000</td>\n",
       "      <td>0.000000</td>\n",
       "      <td>16</td>\n",
       "    </tr>\n",
       "    <tr>\n",
       "      <th>80</th>\n",
       "      <td>preterm delivery</td>\n",
       "      <td>38</td>\n",
       "      <td>0.095541</td>\n",
       "      <td>0.000000</td>\n",
       "      <td>0.000000</td>\n",
       "      <td>16</td>\n",
       "    </tr>\n",
       "    <tr>\n",
       "      <th>81</th>\n",
       "      <td>10 month</td>\n",
       "      <td>10 month</td>\n",
       "      <td>1.000000</td>\n",
       "      <td>1.000000</td>\n",
       "      <td>0.020000</td>\n",
       "      <td>0</td>\n",
       "    </tr>\n",
       "    <tr>\n",
       "      <th>82</th>\n",
       "      <td>6 months</td>\n",
       "      <td>6 months</td>\n",
       "      <td>1.000000</td>\n",
       "      <td>1.000000</td>\n",
       "      <td>0.020000</td>\n",
       "      <td>0</td>\n",
       "    </tr>\n",
       "    <tr>\n",
       "      <th>83</th>\n",
       "      <td>6 months</td>\n",
       "      <td>6 months</td>\n",
       "      <td>1.000000</td>\n",
       "      <td>1.000000</td>\n",
       "      <td>0.020000</td>\n",
       "      <td>0</td>\n",
       "    </tr>\n",
       "    <tr>\n",
       "      <th>84</th>\n",
       "      <td>6 month</td>\n",
       "      <td>6 month</td>\n",
       "      <td>1.000000</td>\n",
       "      <td>1.000000</td>\n",
       "      <td>0.025000</td>\n",
       "      <td>0</td>\n",
       "    </tr>\n",
       "    <tr>\n",
       "      <th>85</th>\n",
       "      <td>2 months</td>\n",
       "      <td>1 year 2 months</td>\n",
       "      <td>0.937943</td>\n",
       "      <td>0.533333</td>\n",
       "      <td>0.008333</td>\n",
       "      <td>7</td>\n",
       "    </tr>\n",
       "    <tr>\n",
       "      <th>86</th>\n",
       "      <td>days 3rd</td>\n",
       "      <td>12 weeks old</td>\n",
       "      <td>0.608412</td>\n",
       "      <td>0.250000</td>\n",
       "      <td>0.011111</td>\n",
       "      <td>9</td>\n",
       "    </tr>\n",
       "    <tr>\n",
       "      <th>87</th>\n",
       "      <td>early maturity</td>\n",
       "      <td>early maturity stage</td>\n",
       "      <td>0.932706</td>\n",
       "      <td>0.500000</td>\n",
       "      <td>0.005882</td>\n",
       "      <td>6</td>\n",
       "    </tr>\n",
       "    <tr>\n",
       "      <th>88</th>\n",
       "      <td>early maturity</td>\n",
       "      <td>early maturity stage</td>\n",
       "      <td>0.932706</td>\n",
       "      <td>0.500000</td>\n",
       "      <td>0.005882</td>\n",
       "      <td>6</td>\n",
       "    </tr>\n",
       "    <tr>\n",
       "      <th>89</th>\n",
       "      <td>lactation day</td>\n",
       "      <td>~12 weeks</td>\n",
       "      <td>0.523580</td>\n",
       "      <td>0.111111</td>\n",
       "      <td>0.016667</td>\n",
       "      <td>13</td>\n",
       "    </tr>\n",
       "    <tr>\n",
       "      <th>90</th>\n",
       "      <td>lactation day</td>\n",
       "      <td>~11 weeks</td>\n",
       "      <td>0.481466</td>\n",
       "      <td>0.111111</td>\n",
       "      <td>0.016667</td>\n",
       "      <td>13</td>\n",
       "    </tr>\n",
       "    <tr>\n",
       "      <th>91</th>\n",
       "      <td>3 month</td>\n",
       "      <td>tamoxifen induction at 2 months, wait 3 months</td>\n",
       "      <td>0.795500</td>\n",
       "      <td>0.152174</td>\n",
       "      <td>0.002326</td>\n",
       "      <td>39</td>\n",
       "    </tr>\n",
       "    <tr>\n",
       "      <th>92</th>\n",
       "      <td>30 days</td>\n",
       "      <td>30 days in vitro</td>\n",
       "      <td>0.837130</td>\n",
       "      <td>0.437500</td>\n",
       "      <td>0.007692</td>\n",
       "      <td>9</td>\n",
       "    </tr>\n",
       "    <tr>\n",
       "      <th>93</th>\n",
       "      <td>promoted tier</td>\n",
       "      <td>4 year</td>\n",
       "      <td>0.146048</td>\n",
       "      <td>0.500000</td>\n",
       "      <td>0.033333</td>\n",
       "      <td>11</td>\n",
       "    </tr>\n",
       "    <tr>\n",
       "      <th>94</th>\n",
       "      <td>57 weeks</td>\n",
       "      <td>64 weeks</td>\n",
       "      <td>0.982236</td>\n",
       "      <td>0.625000</td>\n",
       "      <td>0.020000</td>\n",
       "      <td>2</td>\n",
       "    </tr>\n",
       "    <tr>\n",
       "      <th>95</th>\n",
       "      <td>pregnancy day</td>\n",
       "      <td>~8.5 weeks</td>\n",
       "      <td>0.485357</td>\n",
       "      <td>0.200000</td>\n",
       "      <td>0.014286</td>\n",
       "      <td>13</td>\n",
       "    </tr>\n",
       "    <tr>\n",
       "      <th>96</th>\n",
       "      <td>day old</td>\n",
       "      <td>5 days</td>\n",
       "      <td>0.658671</td>\n",
       "      <td>0.666667</td>\n",
       "      <td>0.033333</td>\n",
       "      <td>6</td>\n",
       "    </tr>\n",
       "    <tr>\n",
       "      <th>97</th>\n",
       "      <td>week 10</td>\n",
       "      <td>70</td>\n",
       "      <td>0.445712</td>\n",
       "      <td>0.500000</td>\n",
       "      <td>0.100000</td>\n",
       "      <td>6</td>\n",
       "    </tr>\n",
       "  </tbody>\n",
       "</table>\n",
       "<p>98 rows × 6 columns</p>\n",
       "</div>"
      ],
      "text/plain": [
       "           predicted                                          actual  \\\n",
       "0             15 DPA                                          15 DPA   \n",
       "1         hours post                                      7 days old   \n",
       "2      afternoon day                                              60   \n",
       "3      post exposure                                        juvenile   \n",
       "4             2 week                                         6 weeks   \n",
       "5             2 week                                      7 days old   \n",
       "6           2014 Sum                                               3   \n",
       "7            day old                           3 days after eclosion   \n",
       "8       5 Ngn3^GFP/+                              embryonic day 15.5   \n",
       "9              5 day                                        14.5 day   \n",
       "10             5 day                                        16.5 day   \n",
       "11             5 day                                        10.5 day   \n",
       "12             5 day                                        15.5 day   \n",
       "13             5 day                                        10.5 day   \n",
       "14         days post                          10 days post emergence   \n",
       "15         days post                          10 days post emergence   \n",
       "16            week 5                                         5 weeks   \n",
       "17          24h post                                           Adult   \n",
       "18          year old                                         24 year   \n",
       "19          year old                                         57 year   \n",
       "20          year old                                         34 year   \n",
       "21          year old                                          2 year   \n",
       "22      embryonic 14                                        14.5 day   \n",
       "23          year old                                          2 year   \n",
       "24          year old                                         37 year   \n",
       "25      day exposure                                   day 24 embryo   \n",
       "26           age P13                                             P13   \n",
       "27           6 month                                         6 month   \n",
       "28           2 month                                         2 month   \n",
       "29           6 month                                         6 month   \n",
       "..               ...                                             ...   \n",
       "68     two-month old                              one and two months   \n",
       "69  preterm delivery                                              24   \n",
       "70  preterm delivery                                              30   \n",
       "71  preterm delivery                                              31   \n",
       "72  preterm delivery                                              38   \n",
       "73  preterm delivery                                              28   \n",
       "74  preterm delivery                                              23   \n",
       "75  preterm delivery                                              27   \n",
       "76  preterm delivery                                              38   \n",
       "77  preterm delivery                                              28   \n",
       "78  preterm delivery                                              19   \n",
       "79  preterm delivery                                              32   \n",
       "80  preterm delivery                                              38   \n",
       "81          10 month                                        10 month   \n",
       "82          6 months                                        6 months   \n",
       "83          6 months                                        6 months   \n",
       "84           6 month                                         6 month   \n",
       "85          2 months                                 1 year 2 months   \n",
       "86          days 3rd                                    12 weeks old   \n",
       "87    early maturity                            early maturity stage   \n",
       "88    early maturity                            early maturity stage   \n",
       "89     lactation day                                       ~12 weeks   \n",
       "90     lactation day                                       ~11 weeks   \n",
       "91           3 month  tamoxifen induction at 2 months, wait 3 months   \n",
       "92           30 days                                30 days in vitro   \n",
       "93     promoted tier                                          4 year   \n",
       "94          57 weeks                                        64 weeks   \n",
       "95     pregnancy day                                      ~8.5 weeks   \n",
       "96           day old                                          5 days   \n",
       "97           week 10                                              70   \n",
       "\n",
       "    cosine similarity     BLUE1     BLUE4  levenshtein  \n",
       "0            1.000000  1.000000  0.033333            0  \n",
       "1            0.572107  0.300000  0.014286            8  \n",
       "2            0.137448  0.000000  0.000000           13  \n",
       "3            0.074568  0.250000  0.020000           11  \n",
       "4            0.807179  0.571429  0.025000            2  \n",
       "5            0.699664  0.100000  0.014286            9  \n",
       "6           -0.013249  0.000000  0.000000            8  \n",
       "7            0.674051  0.285714  0.005556           16  \n",
       "8            0.320646  0.166667  0.006667           17  \n",
       "9            0.766225  0.625000  0.020000            3  \n",
       "10           0.762541  0.625000  0.020000            3  \n",
       "11           0.792301  0.625000  0.020000            3  \n",
       "12           0.761811  0.625000  0.020000            3  \n",
       "13           0.792301  0.625000  0.020000            3  \n",
       "14           0.857907  0.363636  0.005263           13  \n",
       "15           0.857907  0.363636  0.005263           13  \n",
       "16           0.876354  0.714286  0.025000            4  \n",
       "17           0.029507  0.200000  0.050000            7  \n",
       "18           0.674375  0.714286  0.025000            7  \n",
       "19           0.767188  0.714286  0.025000            7  \n",
       "20           0.782252  0.714286  0.025000            7  \n",
       "21           0.721050  0.833333  0.033333            6  \n",
       "22           0.496595  0.500000  0.020000           12  \n",
       "23           0.721050  0.833333  0.033333            6  \n",
       "24           0.691229  0.714286  0.025000            7  \n",
       "25           0.715759  0.538462  0.010000            8  \n",
       "26           0.762161  1.000000  0.100000            4  \n",
       "27           1.000000  1.000000  0.025000            0  \n",
       "28           1.000000  1.000000  0.025000            0  \n",
       "29           1.000000  1.000000  0.025000            0  \n",
       "..                ...       ...       ...          ...  \n",
       "68           0.776837  0.444444  0.006667           13  \n",
       "69           0.144365  0.000000  0.000000           16  \n",
       "70           0.055257  0.000000  0.000000           16  \n",
       "71           0.086696  0.000000  0.000000           16  \n",
       "72           0.095541  0.000000  0.000000           16  \n",
       "73           0.166952  0.000000  0.000000           16  \n",
       "74           0.108025  0.000000  0.000000           16  \n",
       "75           0.101438  0.000000  0.000000           16  \n",
       "76           0.095541  0.000000  0.000000           16  \n",
       "77           0.166952  0.000000  0.000000           16  \n",
       "78           0.090837  0.000000  0.000000           16  \n",
       "79           0.161553  0.000000  0.000000           16  \n",
       "80           0.095541  0.000000  0.000000           16  \n",
       "81           1.000000  1.000000  0.020000            0  \n",
       "82           1.000000  1.000000  0.020000            0  \n",
       "83           1.000000  1.000000  0.020000            0  \n",
       "84           1.000000  1.000000  0.025000            0  \n",
       "85           0.937943  0.533333  0.008333            7  \n",
       "86           0.608412  0.250000  0.011111            9  \n",
       "87           0.932706  0.500000  0.005882            6  \n",
       "88           0.932706  0.500000  0.005882            6  \n",
       "89           0.523580  0.111111  0.016667           13  \n",
       "90           0.481466  0.111111  0.016667           13  \n",
       "91           0.795500  0.152174  0.002326           39  \n",
       "92           0.837130  0.437500  0.007692            9  \n",
       "93           0.146048  0.500000  0.033333           11  \n",
       "94           0.982236  0.625000  0.020000            2  \n",
       "95           0.485357  0.200000  0.014286           13  \n",
       "96           0.658671  0.666667  0.033333            6  \n",
       "97           0.445712  0.500000  0.100000            6  \n",
       "\n",
       "[98 rows x 6 columns]"
      ]
     },
     "execution_count": 70,
     "metadata": {},
     "output_type": "execute_result"
    }
   ],
   "source": [
    "similar_df"
   ]
  },
  {
   "cell_type": "code",
   "execution_count": null,
   "metadata": {},
   "outputs": [],
   "source": []
  }
 ],
 "metadata": {
  "kernelspec": {
   "display_name": "Python 3",
   "language": "python",
   "name": "python3"
  },
  "language_info": {
   "codemirror_mode": {
    "name": "ipython",
    "version": 3
   },
   "file_extension": ".py",
   "mimetype": "text/x-python",
   "name": "python",
   "nbconvert_exporter": "python",
   "pygments_lexer": "ipython3",
   "version": "3.6.6"
  }
 },
 "nbformat": 4,
 "nbformat_minor": 2
}
